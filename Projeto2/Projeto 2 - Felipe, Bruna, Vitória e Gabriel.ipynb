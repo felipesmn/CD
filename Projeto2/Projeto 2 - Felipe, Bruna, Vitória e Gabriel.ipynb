{
 "cells": [
  {
   "cell_type": "markdown",
   "metadata": {},
   "source": [
    "#  Análise da Técnica de Inferência do Teste A/B"
   ]
  },
  {
   "cell_type": "markdown",
   "metadata": {},
   "source": [
    "Grupo: Bruna Kimura, Felipe Scandiuzzi, Gabriel Vilaça, Vitória Mattos"
   ]
  },
  {
   "cell_type": "markdown",
   "metadata": {},
   "source": [
    "### Técnica de Inferência escolhida:\n",
    "\n"
   ]
  },
  {
   "cell_type": "markdown",
   "metadata": {},
   "source": [
    "Escolhemos disponibilizar 4 imagens de cartas diferentes e o usuário deve escolher uma carta determinada pela página dentre elas.\n",
    "O tempo de reação para selecionar a carta instruída será analisado e comparado num teste A/B, e posteriormente será feito uma distribuição dos dados da amostra estudada.\n"
   ]
  },
  {
   "cell_type": "markdown",
   "metadata": {},
   "source": [
    "### Justificativa:"
   ]
  },
  {
   "cell_type": "markdown",
   "metadata": {},
   "source": [
    "Análise será feita para determinar qual é a direção de escolha preferida dos usuários pelo teste A/B. \n",
    "Os usuários irão utilizar as duas versões do site que serão escolhidas de forma randômica e selecionar a carta instruída.\n",
    "Assim, para chegar na carta designada, os usuários poderam fazer o movimento da esquerda para a direita ou vice-versa, e o tempo\n",
    "de reação dependerá da direção do caminho escolhido com o mouse. "
   ]
  },
  {
   "cell_type": "markdown",
   "metadata": {},
   "source": [
    "### Parte 1: Simulação teórica"
   ]
  },
  {
   "cell_type": "code",
   "execution_count": 2,
   "metadata": {
    "collapsed": false
   },
   "outputs": [
    {
     "data": {
      "text/plain": [
       "'C:\\\\Users\\\\Bruna\\\\Documents\\\\GitHub\\\\CD\\\\Projeto_2'"
      ]
     },
     "execution_count": 2,
     "metadata": {},
     "output_type": "execute_result"
    }
   ],
   "source": [
    "%matplotlib inline\n",
    "\n",
    "import os\n",
    "import matplotlib.pyplot as plt\n",
    "import pandas as pd\n",
    "import numpy as np\n",
    "import json\n",
    "import itertools\n",
    "from scipy import stats\n",
    "os.getcwd()"
   ]
  },
  {
   "cell_type": "markdown",
   "metadata": {},
   "source": [
    "Valores aleatórios para o tempo das versões A e B."
   ]
  },
  {
   "cell_type": "code",
   "execution_count": 3,
   "metadata": {
    "collapsed": false
   },
   "outputs": [],
   "source": [
    "Dados = pd.DataFrame()\n",
    "Valores_Tempo_A = [2.004, 1.568, 1.874, 2.301, 3.2677, 2.8686]\n",
    "Valores_Tempo_B = [1.4465, 1.8643, 3.376, 4.3686, 3.8273, 2.977]\n",
    "Dados[\"Values_A\"] = Valores_Tempo_A\n",
    "Dados[\"Values_B\"] = Valores_Tempo_B"
   ]
  },
  {
   "cell_type": "code",
   "execution_count": 56,
   "metadata": {
    "collapsed": false
   },
   "outputs": [
    {
     "name": "stdout",
     "output_type": "stream",
     "text": [
      "O valor de mA é: 2.31\n",
      "O valor de mB é: 2.98\n",
      "O valor de sA é: 0.64\n",
      "O valor de sB é: 1.13\n"
     ]
    }
   ],
   "source": [
    "x_a = Dados.Values_A.mean()\n",
    "x_b = Dados.Values_B.mean()\n",
    "\n",
    "s_a = (Dados.Values_A.var())**(1/2)\n",
    "s_b = (Dados.Values_B.var())**(1/2)\n",
    "\n",
    "print(\"O valor de mA é: {0:.2f}\".format(x_a))\n",
    "print(\"O valor de mB é: {0:.2f}\".format(x_b))\n",
    "print(\"O valor de sA é: {0:.2f}\".format(s_a))\n",
    "print(\"O valor de sB é: {0:.2f}\".format(s_b))\n",
    "\n"
   ]
  },
  {
   "cell_type": "markdown",
   "metadata": {},
   "source": [
    "#### Assumindo que as variâncias são desconhecidas e diferentes"
   ]
  },
  {
   "cell_type": "markdown",
   "metadata": {},
   "source": [
    "#### H0: mA = mB => Hipótese Nula\n",
    "\n",
    "#### H1: mA != mB => Hipótese Alternativa \n",
    "\n",
    "#### Nível de significância: 1%"
   ]
  },
  {
   "cell_type": "code",
   "execution_count": 5,
   "metadata": {
    "collapsed": false
   },
   "outputs": [
    {
     "name": "stdout",
     "output_type": "stream",
     "text": [
      "O T observado é: -1.78682154205908\n"
     ]
    }
   ],
   "source": [
    "D = mi_a - mi_b\n",
    "n_a = 6\n",
    "n_b = 6\n",
    "T = (D - 0)/((((desv_a**2)/n_a) + ((desv_a**2)/n_b))**(1/2))\n",
    "print(\"O T observado é: {0}\".format(T)) "
   ]
  },
  {
   "cell_type": "code",
   "execution_count": 6,
   "metadata": {
    "collapsed": false
   },
   "outputs": [
    {
     "name": "stdout",
     "output_type": "stream",
     "text": [
      "O grau de liberdade é: 7.920878126219283\n"
     ]
    }
   ],
   "source": [
    "A = ((((desv_a)**2)/n_a) + (((desv_b)**2)/n_b))**2\n",
    "\n",
    "B = ((((desv_a)**2)/n_a)**2)/(n_a - 1)\n",
    "\n",
    "C = ((((desv_b)**2)/n_b)**2)/(n_b - 1)\n",
    "\n",
    "V2=A/(B+C)\n",
    "\n",
    "v = (((((desv_a)**2)/n_a) + (((desv_b)**2)/n_b))**2)/(((((desv_a**2)/n_a)**2)/(n_a - 1)) + ((((desv_b**2)/n_b)**2)/(n_b - 1)))\n",
    "print(\"O grau de liberdade é: {0}\".format(v))"
   ]
  },
  {
   "cell_type": "markdown",
   "metadata": {},
   "source": [
    "Assumindo que nosso nível de significância é de 1%, temos que o \"t\" é de 2,896. Portanto, o \"t observado\" está fora da região crítica. Desta forma, não rejeitamos a hipótese nula, e pode-se inferir que as médias dos tempos A e B são iguais com 99% de confiança."
   ]
  },
  {
   "cell_type": "markdown",
   "metadata": {},
   "source": [
    "### Parte 2: Simulação Prática"
   ]
  },
  {
   "cell_type": "code",
   "execution_count": 8,
   "metadata": {
    "collapsed": false
   },
   "outputs": [],
   "source": [
    "arquivo = open(\"dados.json\")\n",
    "linhas = arquivo.readlines()\n",
    "texto = \"\".join(linhas)\n",
    "dados_fire = json.loads(texto)"
   ]
  },
  {
   "cell_type": "code",
   "execution_count": 9,
   "metadata": {
    "collapsed": false
   },
   "outputs": [],
   "source": [
    "lista_dicionarios = []\n",
    "\n",
    "for k,v in dados_fire[\"logs\"].items():\n",
    "    lista_dicionarios.append(v)"
   ]
  },
  {
   "cell_type": "code",
   "execution_count": 10,
   "metadata": {
    "collapsed": true
   },
   "outputs": [],
   "source": [
    "dataframe = pd.DataFrame.from_records(lista_dicionarios)"
   ]
  },
  {
   "cell_type": "code",
   "execution_count": 11,
   "metadata": {
    "collapsed": false
   },
   "outputs": [],
   "source": [
    "agrupado = dataframe.groupby(by=[\"user_id\", \"versao\"])"
   ]
  },
  {
   "cell_type": "code",
   "execution_count": 12,
   "metadata": {
    "collapsed": true
   },
   "outputs": [],
   "source": [
    "users = set(dataframe.user_id) "
   ]
  },
  {
   "cell_type": "code",
   "execution_count": 13,
   "metadata": {
    "collapsed": true
   },
   "outputs": [],
   "source": [
    "users = list(users)"
   ]
  },
  {
   "cell_type": "code",
   "execution_count": 14,
   "metadata": {
    "collapsed": false
   },
   "outputs": [],
   "source": [
    "resultados = []\n",
    "\n",
    "for u in users:\n",
    "    for versao in [\"A\", \"B\"]:\n",
    "        if (u, versao) in agrupado.groups.keys(): # Check if a specific pair user/type of test happened\n",
    "            grupo1 =  agrupado.get_group((u, versao))\n",
    "            grupo1 = grupo1.sort_values(by=\"tempo\") # Para evitar que inícios sem fim gerem tempos negativos\n",
    "            \n",
    "            if len(grupo1[grupo1.tipo==\"final\"])>= 1 and len(grupo1[grupo1.tipo==\"inicial\"]) >= 1:\n",
    "                delta_t = grupo1[grupo1.tipo==\"final\"].iloc[-1].tempo - grupo1[grupo1.tipo==\"inicial\"].iloc[0].tempo\n",
    "                resultados.append({\"user_id\":u, \"delta_t\":delta_t, \"versao\":versao})"
   ]
  },
  {
   "cell_type": "markdown",
   "metadata": {},
   "source": [
    "Exemplo: Os valores de tempo final e inicial retornados pelo firebase."
   ]
  },
  {
   "cell_type": "code",
   "execution_count": 15,
   "metadata": {
    "collapsed": false,
    "scrolled": true
   },
   "outputs": [
    {
     "data": {
      "text/html": [
       "<div>\n",
       "<table border=\"1\" class=\"dataframe\">\n",
       "  <thead>\n",
       "    <tr style=\"text-align: right;\">\n",
       "      <th></th>\n",
       "      <th>tempo</th>\n",
       "      <th>tipo</th>\n",
       "      <th>user_id</th>\n",
       "      <th>versao</th>\n",
       "    </tr>\n",
       "  </thead>\n",
       "  <tbody>\n",
       "    <tr>\n",
       "      <th>30</th>\n",
       "      <td>1478430469295</td>\n",
       "      <td>inicial</td>\n",
       "      <td>971035642</td>\n",
       "      <td>A</td>\n",
       "    </tr>\n",
       "    <tr>\n",
       "      <th>59</th>\n",
       "      <td>1478430475613</td>\n",
       "      <td>final</td>\n",
       "      <td>971035642</td>\n",
       "      <td>A</td>\n",
       "    </tr>\n",
       "  </tbody>\n",
       "</table>\n",
       "</div>"
      ],
      "text/plain": [
       "            tempo     tipo    user_id versao\n",
       "30  1478430469295  inicial  971035642      A\n",
       "59  1478430475613    final  971035642      A"
      ]
     },
     "execution_count": 15,
     "metadata": {},
     "output_type": "execute_result"
    }
   ],
   "source": [
    "grupo1.sort_values(by=\"tempo\")"
   ]
  },
  {
   "cell_type": "code",
   "execution_count": 16,
   "metadata": {
    "collapsed": true
   },
   "outputs": [],
   "source": [
    "dataframe_resumo = pd.DataFrame.from_records(resultados)"
   ]
  },
  {
   "cell_type": "markdown",
   "metadata": {},
   "source": [
    "Convertendo o tempo de milissegundos para segundos."
   ]
  },
  {
   "cell_type": "code",
   "execution_count": 17,
   "metadata": {
    "collapsed": false
   },
   "outputs": [],
   "source": [
    "dataframe_resumo.delta_t/=1000"
   ]
  },
  {
   "cell_type": "markdown",
   "metadata": {},
   "source": [
    "Dataframe que possui apenas os valores de tempo do teste AB e a versão utilizada na verificação."
   ]
  },
  {
   "cell_type": "code",
   "execution_count": 18,
   "metadata": {
    "collapsed": false,
    "scrolled": true
   },
   "outputs": [
    {
     "data": {
      "text/html": [
       "<div>\n",
       "<table border=\"1\" class=\"dataframe\">\n",
       "  <thead>\n",
       "    <tr style=\"text-align: right;\">\n",
       "      <th></th>\n",
       "      <th>delta_t</th>\n",
       "      <th>user_id</th>\n",
       "      <th>versao</th>\n",
       "    </tr>\n",
       "  </thead>\n",
       "  <tbody>\n",
       "    <tr>\n",
       "      <th>0</th>\n",
       "      <td>39.316</td>\n",
       "      <td>1036081152</td>\n",
       "      <td>B</td>\n",
       "    </tr>\n",
       "    <tr>\n",
       "      <th>1</th>\n",
       "      <td>14249.000</td>\n",
       "      <td>241862913</td>\n",
       "      <td>A</td>\n",
       "    </tr>\n",
       "    <tr>\n",
       "      <th>2</th>\n",
       "      <td>15.894</td>\n",
       "      <td>1355150594</td>\n",
       "      <td>A</td>\n",
       "    </tr>\n",
       "    <tr>\n",
       "      <th>3</th>\n",
       "      <td>11310.869</td>\n",
       "      <td>1355150594</td>\n",
       "      <td>B</td>\n",
       "    </tr>\n",
       "    <tr>\n",
       "      <th>4</th>\n",
       "      <td>14.849</td>\n",
       "      <td>285365760</td>\n",
       "      <td>B</td>\n",
       "    </tr>\n",
       "    <tr>\n",
       "      <th>5</th>\n",
       "      <td>4.893</td>\n",
       "      <td>1561760900</td>\n",
       "      <td>A</td>\n",
       "    </tr>\n",
       "    <tr>\n",
       "      <th>6</th>\n",
       "      <td>13.579</td>\n",
       "      <td>3559310601</td>\n",
       "      <td>B</td>\n",
       "    </tr>\n",
       "    <tr>\n",
       "      <th>7</th>\n",
       "      <td>7.851</td>\n",
       "      <td>4187339032</td>\n",
       "      <td>A</td>\n",
       "    </tr>\n",
       "    <tr>\n",
       "      <th>8</th>\n",
       "      <td>22.837</td>\n",
       "      <td>2734949529</td>\n",
       "      <td>A</td>\n",
       "    </tr>\n",
       "    <tr>\n",
       "      <th>9</th>\n",
       "      <td>12.989</td>\n",
       "      <td>2949118617</td>\n",
       "      <td>A</td>\n",
       "    </tr>\n",
       "    <tr>\n",
       "      <th>10</th>\n",
       "      <td>9.917</td>\n",
       "      <td>3962126498</td>\n",
       "      <td>A</td>\n",
       "    </tr>\n",
       "    <tr>\n",
       "      <th>11</th>\n",
       "      <td>26.222</td>\n",
       "      <td>2478919333</td>\n",
       "      <td>B</td>\n",
       "    </tr>\n",
       "    <tr>\n",
       "      <th>12</th>\n",
       "      <td>194845.571</td>\n",
       "      <td>2830537766</td>\n",
       "      <td>B</td>\n",
       "    </tr>\n",
       "    <tr>\n",
       "      <th>13</th>\n",
       "      <td>6.445</td>\n",
       "      <td>3026063526</td>\n",
       "      <td>A</td>\n",
       "    </tr>\n",
       "    <tr>\n",
       "      <th>14</th>\n",
       "      <td>16.913</td>\n",
       "      <td>1654006311</td>\n",
       "      <td>A</td>\n",
       "    </tr>\n",
       "    <tr>\n",
       "      <th>15</th>\n",
       "      <td>10.281</td>\n",
       "      <td>4182550447</td>\n",
       "      <td>B</td>\n",
       "    </tr>\n",
       "    <tr>\n",
       "      <th>16</th>\n",
       "      <td>26.956</td>\n",
       "      <td>436281647</td>\n",
       "      <td>A</td>\n",
       "    </tr>\n",
       "    <tr>\n",
       "      <th>17</th>\n",
       "      <td>53.928</td>\n",
       "      <td>1305431220</td>\n",
       "      <td>A</td>\n",
       "    </tr>\n",
       "    <tr>\n",
       "      <th>18</th>\n",
       "      <td>12.115</td>\n",
       "      <td>1305431220</td>\n",
       "      <td>B</td>\n",
       "    </tr>\n",
       "    <tr>\n",
       "      <th>19</th>\n",
       "      <td>8.756</td>\n",
       "      <td>1153548084</td>\n",
       "      <td>A</td>\n",
       "    </tr>\n",
       "    <tr>\n",
       "      <th>20</th>\n",
       "      <td>21.162</td>\n",
       "      <td>1257728698</td>\n",
       "      <td>B</td>\n",
       "    </tr>\n",
       "    <tr>\n",
       "      <th>21</th>\n",
       "      <td>43.181</td>\n",
       "      <td>3056043324</td>\n",
       "      <td>B</td>\n",
       "    </tr>\n",
       "    <tr>\n",
       "      <th>22</th>\n",
       "      <td>4.217</td>\n",
       "      <td>3702943680</td>\n",
       "      <td>A</td>\n",
       "    </tr>\n",
       "    <tr>\n",
       "      <th>23</th>\n",
       "      <td>5.517</td>\n",
       "      <td>3702943680</td>\n",
       "      <td>B</td>\n",
       "    </tr>\n",
       "    <tr>\n",
       "      <th>24</th>\n",
       "      <td>17.302</td>\n",
       "      <td>2857950020</td>\n",
       "      <td>A</td>\n",
       "    </tr>\n",
       "    <tr>\n",
       "      <th>25</th>\n",
       "      <td>147.291</td>\n",
       "      <td>92580935</td>\n",
       "      <td>A</td>\n",
       "    </tr>\n",
       "    <tr>\n",
       "      <th>26</th>\n",
       "      <td>15.785</td>\n",
       "      <td>4104595794</td>\n",
       "      <td>A</td>\n",
       "    </tr>\n",
       "    <tr>\n",
       "      <th>27</th>\n",
       "      <td>8.485</td>\n",
       "      <td>2684633942</td>\n",
       "      <td>A</td>\n",
       "    </tr>\n",
       "    <tr>\n",
       "      <th>28</th>\n",
       "      <td>15.752</td>\n",
       "      <td>2684633942</td>\n",
       "      <td>B</td>\n",
       "    </tr>\n",
       "    <tr>\n",
       "      <th>29</th>\n",
       "      <td>87.008</td>\n",
       "      <td>4124310104</td>\n",
       "      <td>A</td>\n",
       "    </tr>\n",
       "    <tr>\n",
       "      <th>30</th>\n",
       "      <td>24.664</td>\n",
       "      <td>637707993</td>\n",
       "      <td>A</td>\n",
       "    </tr>\n",
       "    <tr>\n",
       "      <th>31</th>\n",
       "      <td>7.262</td>\n",
       "      <td>637707993</td>\n",
       "      <td>B</td>\n",
       "    </tr>\n",
       "    <tr>\n",
       "      <th>32</th>\n",
       "      <td>6.258</td>\n",
       "      <td>2439073762</td>\n",
       "      <td>A</td>\n",
       "    </tr>\n",
       "    <tr>\n",
       "      <th>33</th>\n",
       "      <td>23.518</td>\n",
       "      <td>2439073762</td>\n",
       "      <td>B</td>\n",
       "    </tr>\n",
       "    <tr>\n",
       "      <th>34</th>\n",
       "      <td>8.712</td>\n",
       "      <td>3796913893</td>\n",
       "      <td>A</td>\n",
       "    </tr>\n",
       "    <tr>\n",
       "      <th>35</th>\n",
       "      <td>17.683</td>\n",
       "      <td>3887752808</td>\n",
       "      <td>A</td>\n",
       "    </tr>\n",
       "    <tr>\n",
       "      <th>36</th>\n",
       "      <td>830.712</td>\n",
       "      <td>1246382320</td>\n",
       "      <td>B</td>\n",
       "    </tr>\n",
       "    <tr>\n",
       "      <th>37</th>\n",
       "      <td>14.665</td>\n",
       "      <td>890780915</td>\n",
       "      <td>B</td>\n",
       "    </tr>\n",
       "    <tr>\n",
       "      <th>38</th>\n",
       "      <td>11.975</td>\n",
       "      <td>3557671672</td>\n",
       "      <td>A</td>\n",
       "    </tr>\n",
       "    <tr>\n",
       "      <th>39</th>\n",
       "      <td>22.038</td>\n",
       "      <td>2483393273</td>\n",
       "      <td>A</td>\n",
       "    </tr>\n",
       "    <tr>\n",
       "      <th>40</th>\n",
       "      <td>2015.936</td>\n",
       "      <td>2483393273</td>\n",
       "      <td>B</td>\n",
       "    </tr>\n",
       "    <tr>\n",
       "      <th>41</th>\n",
       "      <td>6.318</td>\n",
       "      <td>971035642</td>\n",
       "      <td>A</td>\n",
       "    </tr>\n",
       "  </tbody>\n",
       "</table>\n",
       "</div>"
      ],
      "text/plain": [
       "       delta_t     user_id versao\n",
       "0       39.316  1036081152      B\n",
       "1    14249.000   241862913      A\n",
       "2       15.894  1355150594      A\n",
       "3    11310.869  1355150594      B\n",
       "4       14.849   285365760      B\n",
       "5        4.893  1561760900      A\n",
       "6       13.579  3559310601      B\n",
       "7        7.851  4187339032      A\n",
       "8       22.837  2734949529      A\n",
       "9       12.989  2949118617      A\n",
       "10       9.917  3962126498      A\n",
       "11      26.222  2478919333      B\n",
       "12  194845.571  2830537766      B\n",
       "13       6.445  3026063526      A\n",
       "14      16.913  1654006311      A\n",
       "15      10.281  4182550447      B\n",
       "16      26.956   436281647      A\n",
       "17      53.928  1305431220      A\n",
       "18      12.115  1305431220      B\n",
       "19       8.756  1153548084      A\n",
       "20      21.162  1257728698      B\n",
       "21      43.181  3056043324      B\n",
       "22       4.217  3702943680      A\n",
       "23       5.517  3702943680      B\n",
       "24      17.302  2857950020      A\n",
       "25     147.291    92580935      A\n",
       "26      15.785  4104595794      A\n",
       "27       8.485  2684633942      A\n",
       "28      15.752  2684633942      B\n",
       "29      87.008  4124310104      A\n",
       "30      24.664   637707993      A\n",
       "31       7.262   637707993      B\n",
       "32       6.258  2439073762      A\n",
       "33      23.518  2439073762      B\n",
       "34       8.712  3796913893      A\n",
       "35      17.683  3887752808      A\n",
       "36     830.712  1246382320      B\n",
       "37      14.665   890780915      B\n",
       "38      11.975  3557671672      A\n",
       "39      22.038  2483393273      A\n",
       "40    2015.936  2483393273      B\n",
       "41       6.318   971035642      A"
      ]
     },
     "execution_count": 18,
     "metadata": {},
     "output_type": "execute_result"
    }
   ],
   "source": [
    "dataframe_resumo"
   ]
  },
  {
   "cell_type": "markdown",
   "metadata": {},
   "source": [
    "Ilustração dos histogramas que possuem os valores do tempo para a versão A e para a versão B."
   ]
  },
  {
   "cell_type": "code",
   "execution_count": 20,
   "metadata": {
    "collapsed": false,
    "scrolled": true
   },
   "outputs": [
    {
     "data": {
      "text/plain": [
       "<matplotlib.legend.Legend at 0x2086b500550>"
      ]
     },
     "execution_count": 20,
     "metadata": {},
     "output_type": "execute_result"
    },
    {
     "data": {
      "image/png": "[encoded data removed]",
      "text/plain": [
       "<matplotlib.figure.Figure at 0x2086b4f5c18>"
      ]
     },
     "metadata": {},
     "output_type": "display_data"
    }
   ],
   "source": [
    "tempos_A = list(dataframe_resumo[dataframe_resumo.versao==\"A\"].delta_t)\n",
    "tempos_B = list(dataframe_resumo[dataframe_resumo.versao==\"B\"].delta_t)\n",
    "tempo_A_novo = []\n",
    "tempo_B_novo = []\n",
    "t = 30\n",
    "for tempo in tempos_A:\n",
    "    if tempo < t:\n",
    "        tempo_A_novo.append(tempo)\n",
    "for tempo in tempos_B:\n",
    "    if tempo < t:\n",
    "        tempo_B_novo.append(tempo)        \n",
    "plt.hist(tempo_A_novo, bins=10)\n",
    "plt.hist(tempo_B_novo, bins=10)\n",
    "plt.legend([\"A\",\"B\"])"
   ]
  },
  {
   "cell_type": "markdown",
   "metadata": {},
   "source": [
    "## Teste de comparação de duas médias com variâncias desconhecidas"
   ]
  },
  {
   "cell_type": "markdown",
   "metadata": {
    "collapsed": true
   },
   "source": [
    "### Variâncias desconhecidas e diferentes "
   ]
  },
  {
   "cell_type": "code",
   "execution_count": 57,
   "metadata": {
    "collapsed": false
   },
   "outputs": [
    {
     "name": "stdout",
     "output_type": "stream",
     "text": [
      "O valor de mA é: 0.16\n",
      "O valor de mB é: 0.35\n",
      "O valor de sA é: 0.37\n",
      "O valor de sB é: 0.49\n"
     ]
    }
   ],
   "source": [
    "dataframe_resumo[\"Time_Cut_A\"] = dataframe_resumo[dataframe_resumo.versao==\"A\"].delta_t > 30\n",
    "dataframe_resumo[\"Time_Cut_B\"] = dataframe_resumo[dataframe_resumo.versao==\"B\"].delta_t > 30\n",
    "\n",
    "\n",
    "x_a = dataframe_resumo.Time_Cut_A.mean()\n",
    "x_b = dataframe_resumo.Time_Cut_B.mean()\n",
    "\n",
    "s_a = (dataframe_resumo.Time_Cut_A.var())**(1/2)\n",
    "s_b = (dataframe_resumo.Time_Cut_B.var())**(1/2)\n",
    "\n",
    "print(\"O valor de mA é: {0:.2f}\".format(x_a))\n",
    "print(\"O valor de mB é: {0:.2f}\".format(x_b))\n",
    "print(\"O valor de sA é: {0:.2f}\".format(s_a))\n",
    "print(\"O valor de sB é: {0:.2f}\".format(s_b))\n"
   ]
  },
  {
   "cell_type": "markdown",
   "metadata": {},
   "source": [
    "#### H0: mA = mB => Hipótese Nula\n",
    "\n",
    "#### H1: mA != mB => Hipótese Alternativa \n",
    "\n",
    "#### Nível de significância: 1%"
   ]
  },
  {
   "cell_type": "code",
   "execution_count": 49,
   "metadata": {
    "collapsed": false
   },
   "outputs": [
    {
     "name": "stdout",
     "output_type": "stream",
     "text": [
      "O T observado é: -2.36\n"
     ]
    }
   ],
   "source": [
    "D = x_a - x_b\n",
    "n_a = len(dataframe_resumo[\"Time_Cut_A\"])\n",
    "n_b = len(dataframe_resumo[\"Time_Cut_B\"])\n",
    "T = (D - 0)/((((desv_a**2)/n_a) + ((desv_a**2)/n_b))**(1/2))\n",
    "print(\"O T observado é: {0:.2f}\".format(T)) "
   ]
  },
  {
   "cell_type": "code",
   "execution_count": 50,
   "metadata": {
    "collapsed": false
   },
   "outputs": [
    {
     "name": "stdout",
     "output_type": "stream",
     "text": [
      "O grau de liberdade é: 76.50\n"
     ]
    }
   ],
   "source": [
    "A = ((((desv_a)**2)/n_a) + (((desv_b)**2)/n_b))**2\n",
    "\n",
    "B = ((((desv_a)**2)/n_a)**2)/(n_a - 1)\n",
    "\n",
    "C = ((((desv_b)**2)/n_b)**2)/(n_b - 1)\n",
    "\n",
    "V2=A/(B+C)\n",
    "\n",
    "v = (((((desv_a)**2)/n_a) + (((desv_b)**2)/n_b))**2)/(((((desv_a**2)/n_a)**2)/(n_a - 1)) + ((((desv_b**2)/n_b)**2)/(n_b - 1)))\n",
    "print(\"O grau de liberdade é: {0:.2f}\".format(v))"
   ]
  },
  {
   "cell_type": "markdown",
   "metadata": {},
   "source": [
    "### Conclusão"
   ]
  },
  {
   "cell_type": "markdown",
   "metadata": {},
   "source": [
    "Os dados possuem um grau de liberdade de aproximadamente 76, e o nível de significância em 1%. A partir da tabela da distribuição de t-student, tem-se que o ponto crítico se situa em -2.375.\n",
    "\n",
    "Assim, como a região crítica se situa em -2.375 e o T observado se situa em -2.36, o T está fora da região crítica, e desta forma, o H0 não é rejeitado. \n",
    "\n",
    "A partir dos resultados, pode-se concluir que o H0 está correto com 99% de confiança, e que os valores das médias dos tempos da versão A e da versão B são iguais.\n",
    "\n",
    "Também é possível inferir que, a partir do estudo das versões A e B, é possível concluir que não há uma diferença significativa no delta tempo das versões, o que demonstra que não importa o posicionamento dos botões, pois o tempo médio decorrido nas duas versões são muito próximas."
   ]
  }
 ],
 "metadata": {
  "anaconda-cloud": {},
  "kernelspec": {
   "display_name": "Python [Root]",
   "language": "python",
   "name": "Python [Root]"
  },
  "language_info": {
   "codemirror_mode": {
    "name": "ipython",
    "version": 3
   },
   "file_extension": ".py",
   "mimetype": "text/x-python",
   "name": "python",
   "nbconvert_exporter": "python",
   "pygments_lexer": "ipython3",
   "version": "3.5.2"
  }
 },
 "nbformat": 4,
 "nbformat_minor": 0
}
