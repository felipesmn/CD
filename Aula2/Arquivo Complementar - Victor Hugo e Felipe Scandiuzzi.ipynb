{
 "cells": [
  {
   "cell_type": "markdown",
   "metadata": {},
   "source": [
    "___\n",
    "# Atividade: Variáveis qualitativas com a PNAD (ALUNOS)\n",
    "___\n",
    "Felipe Scandiuzzi Moreira Netto e Victor Hugo Leal Vieira da Silva - Turma C\n",
    "\n",
    "Atividade opicional\n",
    "## Aula 02\n",
    "\n",
    "\n",
    "**Link úteis:**\n",
    "1.\tLeitura prévia necessária: Magalhães e Lima (7ª. Edição): pág. 9 a 16 – destacando para variáveis qualitativas.\n",
    "2.\t10 Minutes to Pandas: http://pandas.pydata.org/pandas-docs/stable/10min.html\n",
    "3.\tEssential Basic Functionality: http://pandas.pydata.org/pandas-docs/stable/basics.html\n",
    "4.  Estude a aula `Aula02 Análise Exploratoria Variáveis Qualitativas-ALUNOS.ipynb`, o qual contém uma introdução ao Jupyter Notebook. A publicação dessa aula tem como objetivo auxiliá-lo, caso queira, no desenvolvimento dos seus próximos programas, como esta atividade.\n",
    "\n",
    "**Hoje:**\n",
    "1.\tAnalisar variáveis qualitativas de forma uni e bivariadas utilizando tabelas de frequências e gráficos de barras e de pizza (ou setor).\n",
    "2.  Trabalhar com a base de dados da PNAD 2013 - Pesquisa Nacional por Amostra de Domicílios\n",
    "\n",
    "**Próxima aula:**\n",
    "1.\tLeitura prévia necessária: Magalhães e Lima (7ª. Edição): pág. 9 a 17 – destacando para variáveis quantitativas; pág. 106 e 107 (Definição 4.1 e Exemplo 4.1).\n",
    "\n",
    "___\n"
   ]
  },
  {
   "cell_type": "markdown",
   "metadata": {},
   "source": [
    "___\n",
    "## <font color='blue'>PNAD 2013 – PESQUISA NACIONAL POR AMOSTRA DE DOMICÍLIOS</font>\n",
    "\n",
    "**Base de dados reduzida: ** `pes2013A.txt` (75 MB)\n",
    "[Acesse a base de dados aqui: https://dl.dropboxusercontent.com/u/65763596/Aula02/pes2013A.txt] \n",
    "\n",
    "**Dicionário das variáveis: ** `Dicionário de variáveis de pessoas - PNAD 2013.xlsx`\n",
    "[Acesse dicionário aqui: https://dl.dropboxusercontent.com/u/65763596/Aula02/Dicion%C3%A1rio%20de%20vari%C3%A1veis%20de%20pessoas%20-%20PNAD%202013.xls]\n",
    "\n",
    "\n",
    "Muitos especialistas na área de negócios dizem que empresários mais bem sucedidos são aqueles que fazem um planejamento antes de começar seu próprio negócio. Nessa visão, imagine que o Sr. Gold tenha como grande objetivo abrir uma nova faculdade e para isso deseja estudar o perfil do estudante que cursa ensino médio ou pré-vestibular e do que cursa ensino superior. \n",
    "\n",
    "Assuma que as variáveis de interesse a respeito dos estudantes sejam relativamente as mesmas de 2013 até o momento atual. Nesse caso, seja criativo para ajudar o Sr. Gold que deseja abrir seu negócio, mas não tem certeza sobre quais variáveis o interessam. \n",
    "\n",
    "Vocês podem ajudá-lo?!  \n",
    "\n",
    "As variáveis a seguir devem fazer parte da sua análise:\n",
    "\n",
    "* V0302: sexo\n",
    "* V0404: cor ou raça\n",
    "* V6002: rede de ensino\n",
    "* V4802: nível de ensino e grupos de séries do ensino fundamental que frequentavam (todos os estudantes)\n",
    "\n",
    "** Crie uma variável com região do indivíduo amostrado considerando a variável `UF` que define o estado e também trabalhe com essa nova variável em suas análises. ** \n",
    "\n",
    "** Escolha mais pelo menos DUAS variáveis qualitativas para completar sua análise!! **\n",
    "\n",
    "Faça uma análise exploratória apenas com as variáveis qualitativas com foco no objetivo do Sr. Gold.\n",
    "\n",
    "Sua análise deve conter pelo menos uma das seguintes visualizações:\n",
    "\n",
    "1. Gráfico de colunas (bar) e setor (pie) com as frequências relativas cadas categorias das variáveis qualitativas.\n",
    "2. Tabela cruzada entre pares de variaveis qualitativas. Montar o gráfico de colunas. Repetir o processo habilitando a opção \"stacked=True\".\n",
    "\n",
    "\n",
    "___\n",
    "\n",
    "\n",
    "<font color='red'>\n",
    "Crie um repositório chamado CD em seu Github\n",
    "</font>\n",
    "\n",
    "\n",
    "Neste repositório, salve seu trabalho numa pasta chamada aula2\n",
    "\n",
    "Por exemplo, se seu login for *pikachu* o projeto vai estar na pasta:\n",
    "\n",
    "https://github.com/<font color=red>pikachu/CD/aula2</font>\n",
    "\n",
    "\n",
    "\n",
    "## <font color='red'>Terça-feira (dia 16/08), no horário de atendimento da sua turma, deverá apresentar aos NINJAS!!</font>\n",
    "___"
   ]
  },
  {
   "cell_type": "code",
   "execution_count": 5,
   "metadata": {
    "collapsed": false
   },
   "outputs": [],
   "source": [
    "# imports\n",
    "import pandas as pd\n",
    "import matplotlib.pyplot as plt\n",
    "import os\n",
    "%matplotlib inline"
   ]
  },
  {
   "cell_type": "code",
   "execution_count": 6,
   "metadata": {
    "collapsed": false
   },
   "outputs": [
    {
     "data": {
      "text/html": [
       "<div>\n",
       "<table border=\"1\" class=\"dataframe\">\n",
       "  <thead>\n",
       "    <tr style=\"text-align: right;\">\n",
       "      <th></th>\n",
       "      <th>UF</th>\n",
       "      <th>V0302</th>\n",
       "      <th>V0404</th>\n",
       "      <th>V0601</th>\n",
       "      <th>V6002</th>\n",
       "      <th>V6003</th>\n",
       "      <th>V4802</th>\n",
       "    </tr>\n",
       "  </thead>\n",
       "  <tbody>\n",
       "    <tr>\n",
       "      <th>1</th>\n",
       "      <td>11</td>\n",
       "      <td>4</td>\n",
       "      <td>2</td>\n",
       "      <td>1</td>\n",
       "      <td>NaN</td>\n",
       "      <td>NaN</td>\n",
       "      <td>NaN</td>\n",
       "    </tr>\n",
       "    <tr>\n",
       "      <th>2</th>\n",
       "      <td>11</td>\n",
       "      <td>4</td>\n",
       "      <td>8</td>\n",
       "      <td>3</td>\n",
       "      <td>NaN</td>\n",
       "      <td>NaN</td>\n",
       "      <td>NaN</td>\n",
       "    </tr>\n",
       "    <tr>\n",
       "      <th>3</th>\n",
       "      <td>11</td>\n",
       "      <td>4</td>\n",
       "      <td>4</td>\n",
       "      <td>1</td>\n",
       "      <td>2.0</td>\n",
       "      <td>1.0</td>\n",
       "      <td>8.0</td>\n",
       "    </tr>\n",
       "    <tr>\n",
       "      <th>4</th>\n",
       "      <td>11</td>\n",
       "      <td>2</td>\n",
       "      <td>8</td>\n",
       "      <td>1</td>\n",
       "      <td>NaN</td>\n",
       "      <td>NaN</td>\n",
       "      <td>NaN</td>\n",
       "    </tr>\n",
       "    <tr>\n",
       "      <th>5</th>\n",
       "      <td>11</td>\n",
       "      <td>4</td>\n",
       "      <td>8</td>\n",
       "      <td>1</td>\n",
       "      <td>4.0</td>\n",
       "      <td>5.0</td>\n",
       "      <td>11.0</td>\n",
       "    </tr>\n",
       "  </tbody>\n",
       "</table>\n",
       "</div>"
      ],
      "text/plain": [
       "   UF  V0302  V0404  V0601  V6002  V6003  V4802\n",
       "1  11      4      2      1    NaN    NaN    NaN\n",
       "2  11      4      8      3    NaN    NaN    NaN\n",
       "3  11      4      4      1    2.0    1.0    8.0\n",
       "4  11      2      8      1    NaN    NaN    NaN\n",
       "5  11      4      8      1    4.0    5.0   11.0"
      ]
     },
     "execution_count": 6,
     "metadata": {},
     "output_type": "execute_result"
    }
   ],
   "source": [
    "# Importar excel no jupyter\n",
    "dados = pd.read_excel('Nosso PNAD.xlsx')\n",
    "\n",
    "# Testar se funciona\n",
    "dados.head()"
   ]
  },
  {
   "cell_type": "code",
   "execution_count": 7,
   "metadata": {
    "collapsed": false
   },
   "outputs": [
    {
     "data": {
      "text/plain": [
       "([<matplotlib.patches.Wedge at 0x1a6fe57f5c0>,\n",
       "  <matplotlib.patches.Wedge at 0x1a6ffd91748>,\n",
       "  <matplotlib.patches.Wedge at 0x1a6ffbfd940>,\n",
       "  <matplotlib.patches.Wedge at 0x1a6ffbf2b38>,\n",
       "  <matplotlib.patches.Wedge at 0x1a6ffbe9d30>],\n",
       " [<matplotlib.text.Text at 0x1a6fe57fd30>,\n",
       "  <matplotlib.text.Text at 0x1a6ffd91f28>,\n",
       "  <matplotlib.text.Text at 0x1a6ffbf2160>,\n",
       "  <matplotlib.text.Text at 0x1a6ffbe9358>,\n",
       "  <matplotlib.text.Text at 0x1a6ffaee550>],\n",
       " [<matplotlib.text.Text at 0x1a6ffd91208>,\n",
       "  <matplotlib.text.Text at 0x1a6ffbfd400>,\n",
       "  <matplotlib.text.Text at 0x1a6ffbf25f8>,\n",
       "  <matplotlib.text.Text at 0x1a6ffbe97f0>,\n",
       "  <matplotlib.text.Text at 0x1a6ffaee9e8>])"
      ]
     },
     "execution_count": 7,
     "metadata": {},
     "output_type": "execute_result"
    },
    {
     "data": {
      "image/png": "[encoded data removed]",
      "text/plain": [
       "<matplotlib.figure.Figure at 0x1a6f63ffe48>"
      ]
     },
     "metadata": {},
     "output_type": "display_data"
    }
   ],
   "source": [
    "# Separar as UF em regiões através de cortes\n",
    "Norte = dados[(dados[\"UF\"] > 10) & (dados[\"UF\"] < 18)].iloc[:,0:1]\n",
    "Nordeste = dados[(dados[\"UF\"] >=21) & ( dados[\"UF\"] <= 29)].iloc[:,0:1]\n",
    "Sudeste = dados[(dados[\"UF\"] >=31) & ( dados[\"UF\"] <= 35)].iloc[:,0:1]\n",
    "Sul = dados[(dados[\"UF\"] >=41) & ( dados[\"UF\"] <= 43)].iloc[:,0:1]\n",
    "CO = dados[(dados[\"UF\"] >=50) & ( dados[\"UF\"] <= 53)].iloc[:,0:1] \n",
    "\n",
    "# Somar a população das regiões\n",
    "Soma_Norte = Norte.sum()\n",
    "Soma_Nordeste = Nordeste.sum()\n",
    "Soma_Sudeste = Sudeste.sum()\n",
    "Soma_Sul = Sul.sum()\n",
    "Soma_CO = CO.sum()\n",
    "\n",
    "# Soma de todas as populações\n",
    "Soma_Total = dados.UF.sum()\n",
    "\n",
    "# Preparar porcentagens\n",
    "Porcentagem_Norte = (Soma_Norte/ Soma_Total) * 100\n",
    "Porcentagem_Nordeste = (Soma_Nordeste/ Soma_Total) * 100\n",
    "Porcentagem_Sudeste = (Soma_Sudeste/ Soma_Total) * 100\n",
    "Porcentagem_Sul = (Soma_Sul/ Soma_Total) * 100\n",
    "Porcentagem_CO = (Soma_CO/ Soma_Total) * 100\n",
    "\n",
    "# Lista de valores e legendas para o plot\n",
    "\n",
    "lista = [Porcentagem_Norte , Porcentagem_Nordeste, Porcentagem_Sudeste, Porcentagem_Sul, Porcentagem_CO]\n",
    "label_lista = [\"Norte\" , \"Nordeste\", \"Sudeste\", \"Sul\", \"Centro Oeste\"]\n",
    "\n",
    "# plot do gráfico de pizza\n",
    "plt.axis('equal')\n",
    "plt.title(\"Distribuição por Regiões\")\n",
    "plt.pie(lista, labels = label_lista, autopct = '%1.1f%%')\n"
   ]
  },
  {
   "cell_type": "code",
   "execution_count": 8,
   "metadata": {
    "collapsed": false
   },
   "outputs": [
    {
     "data": {
      "text/html": [
       "<div>\n",
       "<table border=\"1\" class=\"dataframe\">\n",
       "  <thead>\n",
       "    <tr style=\"text-align: right;\">\n",
       "      <th>V0302</th>\n",
       "      <th>Homem</th>\n",
       "      <th>Mulher</th>\n",
       "    </tr>\n",
       "    <tr>\n",
       "      <th>UF</th>\n",
       "      <th></th>\n",
       "      <th></th>\n",
       "    </tr>\n",
       "  </thead>\n",
       "  <tbody>\n",
       "    <tr>\n",
       "      <th>Rondônia</th>\n",
       "      <td>3609</td>\n",
       "      <td>3511</td>\n",
       "    </tr>\n",
       "    <tr>\n",
       "      <th>Acre</th>\n",
       "      <td>2226</td>\n",
       "      <td>2249</td>\n",
       "    </tr>\n",
       "    <tr>\n",
       "      <th>Amazonas</th>\n",
       "      <td>6538</td>\n",
       "      <td>6485</td>\n",
       "    </tr>\n",
       "    <tr>\n",
       "      <th>Roraima</th>\n",
       "      <td>1395</td>\n",
       "      <td>1372</td>\n",
       "    </tr>\n",
       "    <tr>\n",
       "      <th>Pará</th>\n",
       "      <td>11110</td>\n",
       "      <td>11345</td>\n",
       "    </tr>\n",
       "    <tr>\n",
       "      <th>Amapá</th>\n",
       "      <td>1445</td>\n",
       "      <td>1445</td>\n",
       "    </tr>\n",
       "    <tr>\n",
       "      <th>Tocantins</th>\n",
       "      <td>3169</td>\n",
       "      <td>3288</td>\n",
       "    </tr>\n",
       "    <tr>\n",
       "      <th>Maranhão</th>\n",
       "      <td>4591</td>\n",
       "      <td>4679</td>\n",
       "    </tr>\n",
       "    <tr>\n",
       "      <th>Piauí</th>\n",
       "      <td>2720</td>\n",
       "      <td>2872</td>\n",
       "    </tr>\n",
       "    <tr>\n",
       "      <th>Ceará</th>\n",
       "      <td>9217</td>\n",
       "      <td>9905</td>\n",
       "    </tr>\n",
       "    <tr>\n",
       "      <th>Rio Grande do Norte</th>\n",
       "      <td>2497</td>\n",
       "      <td>2571</td>\n",
       "    </tr>\n",
       "    <tr>\n",
       "      <th>Paraíba</th>\n",
       "      <td>2942</td>\n",
       "      <td>3245</td>\n",
       "    </tr>\n",
       "    <tr>\n",
       "      <th>Pernambuco</th>\n",
       "      <td>9682</td>\n",
       "      <td>10879</td>\n",
       "    </tr>\n",
       "    <tr>\n",
       "      <th>Alagoas</th>\n",
       "      <td>2593</td>\n",
       "      <td>2868</td>\n",
       "    </tr>\n",
       "    <tr>\n",
       "      <th>Sergipe</th>\n",
       "      <td>3012</td>\n",
       "      <td>3077</td>\n",
       "    </tr>\n",
       "    <tr>\n",
       "      <th>Bahia</th>\n",
       "      <td>13109</td>\n",
       "      <td>14138</td>\n",
       "    </tr>\n",
       "    <tr>\n",
       "      <th>Minas Gerais</th>\n",
       "      <td>16102</td>\n",
       "      <td>17035</td>\n",
       "    </tr>\n",
       "    <tr>\n",
       "      <th>Espírito Santo</th>\n",
       "      <td>3300</td>\n",
       "      <td>3437</td>\n",
       "    </tr>\n",
       "    <tr>\n",
       "      <th>Rio de Janeiro</th>\n",
       "      <td>12048</td>\n",
       "      <td>13675</td>\n",
       "    </tr>\n",
       "    <tr>\n",
       "      <th>São Paulo</th>\n",
       "      <td>19156</td>\n",
       "      <td>20375</td>\n",
       "    </tr>\n",
       "    <tr>\n",
       "      <th>Paraná</th>\n",
       "      <td>9291</td>\n",
       "      <td>9754</td>\n",
       "    </tr>\n",
       "    <tr>\n",
       "      <th>Santa Catarina</th>\n",
       "      <td>4831</td>\n",
       "      <td>5051</td>\n",
       "    </tr>\n",
       "    <tr>\n",
       "      <th>Rio Grande do Sul</th>\n",
       "      <td>13088</td>\n",
       "      <td>14101</td>\n",
       "    </tr>\n",
       "    <tr>\n",
       "      <th>Mato Grosso do Sul</th>\n",
       "      <td>3129</td>\n",
       "      <td>3198</td>\n",
       "    </tr>\n",
       "    <tr>\n",
       "      <th>Mato Grosso</th>\n",
       "      <td>3573</td>\n",
       "      <td>3575</td>\n",
       "    </tr>\n",
       "    <tr>\n",
       "      <th>Goiás</th>\n",
       "      <td>7342</td>\n",
       "      <td>7349</td>\n",
       "    </tr>\n",
       "    <tr>\n",
       "      <th>Distrito Federal</th>\n",
       "      <td>4387</td>\n",
       "      <td>4974</td>\n",
       "    </tr>\n",
       "  </tbody>\n",
       "</table>\n",
       "</div>"
      ],
      "text/plain": [
       "V0302                Homem  Mulher\n",
       "UF                                \n",
       "Rondônia              3609    3511\n",
       "Acre                  2226    2249\n",
       "Amazonas              6538    6485\n",
       "Roraima               1395    1372\n",
       "Pará                 11110   11345\n",
       "Amapá                 1445    1445\n",
       "Tocantins             3169    3288\n",
       "Maranhão              4591    4679\n",
       "Piauí                 2720    2872\n",
       "Ceará                 9217    9905\n",
       "Rio Grande do Norte   2497    2571\n",
       "Paraíba               2942    3245\n",
       "Pernambuco            9682   10879\n",
       "Alagoas               2593    2868\n",
       "Sergipe               3012    3077\n",
       "Bahia                13109   14138\n",
       "Minas Gerais         16102   17035\n",
       "Espírito Santo        3300    3437\n",
       "Rio de Janeiro       12048   13675\n",
       "São Paulo            19156   20375\n",
       "Paraná                9291    9754\n",
       "Santa Catarina        4831    5051\n",
       "Rio Grande do Sul    13088   14101\n",
       "Mato Grosso do Sul    3129    3198\n",
       "Mato Grosso           3573    3575\n",
       "Goiás                 7342    7349\n",
       "Distrito Federal      4387    4974"
      ]
     },
     "execution_count": 8,
     "metadata": {},
     "output_type": "execute_result"
    }
   ],
   "source": [
    "# Dar nome as categorias\n",
    "dados.UF = dados.UF.astype('category')\n",
    "dados.UF.cat.categories = ('Rondônia',\n",
    "'Acre',\n",
    "'Amazonas',\n",
    "'Roraima',\n",
    "'Pará',\n",
    "'Amapá',\n",
    "'Tocantins',\n",
    "'Maranhão',\n",
    "'Piauí',\n",
    "'Ceará',\n",
    "'Rio Grande do Norte',\n",
    "'Paraíba',\n",
    "'Pernambuco',\n",
    "'Alagoas',\n",
    "'Sergipe',\n",
    "'Bahia',\n",
    "'Minas Gerais',\n",
    "'Espírito Santo',\n",
    "'Rio de Janeiro',\n",
    "'São Paulo',\n",
    "'Paraná',\n",
    "'Santa Catarina',\n",
    "'Rio Grande do Sul',\n",
    "'Mato Grosso do Sul',\n",
    "'Mato Grosso',\n",
    "'Goiás',\n",
    "'Distrito Federal'\n",
    ")\n",
    "\n",
    "# Dar nome as categorias\n",
    "dados.V0302 = dados.V0302.astype('category')\n",
    "dados.V0302.cat.categories = ('Homem', 'Mulher')\n",
    "\n",
    "# Plotar a tabela\n",
    "pd.crosstab(dados.UF, dados.V0302)"
   ]
  },
  {
   "cell_type": "code",
   "execution_count": 9,
   "metadata": {
    "collapsed": false
   },
   "outputs": [
    {
     "data": {
      "text/plain": [
       "<matplotlib.axes._subplots.AxesSubplot at 0x1a6f6402898>"
      ]
     },
     "execution_count": 9,
     "metadata": {},
     "output_type": "execute_result"
    },
    {
     "data": {
      "image/png": "[encoded data removed]",
      "text/plain": [
       "<matplotlib.figure.Figure at 0x1a6f63ec710>"
      ]
     },
     "metadata": {},
     "output_type": "display_data"
    }
   ],
   "source": [
    "# plotar o gráfico\n",
    "dfc = dados.V0302.value_counts()\n",
    "dfc2 = dfc.reindex([\"Homem\",  \"Mulher\"])\n",
    "dfc2.plot(kind='bar', color=('red', 'blue'), legend=False)\n"
   ]
  },
  {
   "cell_type": "code",
   "execution_count": 10,
   "metadata": {
    "collapsed": false
   },
   "outputs": [
    {
     "data": {
      "text/plain": [
       "<matplotlib.axes._subplots.AxesSubplot at 0x1a6f640bc18>"
      ]
     },
     "execution_count": 10,
     "metadata": {},
     "output_type": "execute_result"
    },
    {
     "data": {
      "image/png": "[encoded data removed]",
      "text/plain": [
       "<matplotlib.figure.Figure at 0x1a6fef08470>"
      ]
     },
     "metadata": {},
     "output_type": "display_data"
    }
   ],
   "source": [
    "# Dar nome as categorias\n",
    "dados.V0404 = dados.V0404.astype('category')\n",
    "dados.V0404.cat.categories = ('Indígena', 'Branca', 'Preta', 'Amarela', 'Parda','SD')\n",
    "\n",
    "# Plotar o gráfico\n",
    "Abc = dados.V0404.value_counts()\n",
    "Abc.plot(kind='bar', color= ('red', 'blue', 'green', 'yellow', 'salmon'), legend=False)"
   ]
  },
  {
   "cell_type": "code",
   "execution_count": 11,
   "metadata": {
    "collapsed": false
   },
   "outputs": [
    {
     "data": {
      "text/html": [
       "<div>\n",
       "<table border=\"1\" class=\"dataframe\">\n",
       "  <thead>\n",
       "    <tr style=\"text-align: right;\">\n",
       "      <th>V0601</th>\n",
       "      <th>1</th>\n",
       "      <th>3</th>\n",
       "    </tr>\n",
       "    <tr>\n",
       "      <th>V0404</th>\n",
       "      <th></th>\n",
       "      <th></th>\n",
       "    </tr>\n",
       "  </thead>\n",
       "  <tbody>\n",
       "    <tr>\n",
       "      <th>Indígena</th>\n",
       "      <td>1224</td>\n",
       "      <td>464</td>\n",
       "    </tr>\n",
       "    <tr>\n",
       "      <th>Branca</th>\n",
       "      <td>134470</td>\n",
       "      <td>20748</td>\n",
       "    </tr>\n",
       "    <tr>\n",
       "      <th>Preta</th>\n",
       "      <td>25477</td>\n",
       "      <td>4653</td>\n",
       "    </tr>\n",
       "    <tr>\n",
       "      <th>Amarela</th>\n",
       "      <td>1343</td>\n",
       "      <td>128</td>\n",
       "    </tr>\n",
       "    <tr>\n",
       "      <th>Parda</th>\n",
       "      <td>142895</td>\n",
       "      <td>31147</td>\n",
       "    </tr>\n",
       "    <tr>\n",
       "      <th>SD</th>\n",
       "      <td>0</td>\n",
       "      <td>6</td>\n",
       "    </tr>\n",
       "  </tbody>\n",
       "</table>\n",
       "</div>"
      ],
      "text/plain": [
       "V0601          1      3\n",
       "V0404                  \n",
       "Indígena    1224    464\n",
       "Branca    134470  20748\n",
       "Preta      25477   4653\n",
       "Amarela     1343    128\n",
       "Parda     142895  31147\n",
       "SD             0      6"
      ]
     },
     "execution_count": 11,
     "metadata": {},
     "output_type": "execute_result"
    }
   ],
   "source": [
    "pd.crosstab(dados.V0404, dados.V0601)"
   ]
  },
  {
   "cell_type": "code",
   "execution_count": 12,
   "metadata": {
    "collapsed": false
   },
   "outputs": [
    {
     "data": {
      "text/plain": [
       "<matplotlib.axes._subplots.AxesSubplot at 0x1a6fef10a20>"
      ]
     },
     "execution_count": 12,
     "metadata": {},
     "output_type": "execute_result"
    },
    {
     "data": {
      "image/png": "[encoded data removed]",
      "text/plain": [
       "<matplotlib.figure.Figure at 0x1a6fe1c9668>"
      ]
     },
     "metadata": {},
     "output_type": "display_data"
    }
   ],
   "source": [
    "# Dar nome as categorias\n",
    "dados.V6002 = dados.V6002.astype('category')\n",
    "dados.V6002.cat.categories = ('Pública', 'Privada')\n",
    "\n",
    "# Plotar o gráfico\n",
    "A = dados.V6002.value_counts()\n",
    "A.plot(kind='bar', color= ('green', 'blue'), legend=False)"
   ]
  },
  {
   "cell_type": "code",
   "execution_count": 20,
   "metadata": {
    "collapsed": false
   },
   "outputs": [
    {
     "data": {
      "text/plain": [
       "<matplotlib.axes._subplots.AxesSubplot at 0x1a6ffebb978>"
      ]
     },
     "execution_count": 20,
     "metadata": {},
     "output_type": "execute_result"
    },
    {
     "data": {
      "image/png": "[encoded data removed]",
      "text/plain": [
       "<matplotlib.figure.Figure at 0x1a6ffe9b6d8>"
      ]
     },
     "metadata": {},
     "output_type": "display_data"
    }
   ],
   "source": [
    "# Dar nome as categorias\n",
    "dados.V4802 = dados.V4802.astype('category')\n",
    "\n",
    "dados.V4802.cat.categories = ('Maternal, jardim de infância etc.', \"Classe de alfabetização\", \"Alfabetização de adultos\",\n",
    "                              \"1ª a 4ª séries do ensino fundamental regular em 8 anos ou de educação de jovens e adultos\",\n",
    "                              \"5ª a 8ª séries do ensino fundamental regular em 8 anos ou de educação de jovens e adultos\",\n",
    "                              \"1ª série do ensino fundamental regular em 9 anos\", \"2ª a 5ª séries do ensino fundamental regular em 9 anos \",\n",
    "                              \"6ª a 9ª séries do ensino fundamental regular em 9 anos \",\n",
    "                              \"Educação de jovens e adultos não seriado do ensino fundamental\",\n",
    "                              \"Ensino médio, inclusive pré-vestibular\",\n",
    "                              \"Superior, inclusive mestrado ou doutorado\")\n",
    "\n",
    "# Plotar o gráfico\n",
    "cas = dados.V4802.value_counts()\n",
    "\n",
    "cas2.plot(kind='bar', color= ('green', 'blue', 'yellow', 'red'), legend=False)"
   ]
  },
  {
   "cell_type": "code",
   "execution_count": 14,
   "metadata": {
    "collapsed": false
   },
   "outputs": [
    {
     "data": {
      "text/plain": [
       "([<matplotlib.patches.Wedge at 0x1a6fa6542e8>,\n",
       "  <matplotlib.patches.Wedge at 0x1a6fa5d0518>],\n",
       " [<matplotlib.text.Text at 0x1a6fa654b00>,\n",
       "  <matplotlib.text.Text at 0x1a6fa5d0cf8>],\n",
       " [<matplotlib.text.Text at 0x1a6fa654f98>,\n",
       "  <matplotlib.text.Text at 0x1a6fa5de1d0>])"
      ]
     },
     "execution_count": 14,
     "metadata": {},
     "output_type": "execute_result"
    },
    {
     "data": {
      "image/png": "[encoded data removed]",
      "text/plain": [
       "<matplotlib.figure.Figure at 0x1a6fab5e2b0>"
      ]
     },
     "metadata": {},
     "output_type": "display_data"
    }
   ],
   "source": [
    "# Dar nome as categorias\n",
    "dados.V0601 = dados.V0601.astype('category')\n",
    "dados.V0601.cat.categories = ('Sim', 'Não')\n",
    "\n",
    "# Plotar o gráfico\n",
    "A = dados.V0601.value_counts()\n",
    "\n",
    "label_lista = ['Sim','Não']\n",
    "plt.axis('equal')\n",
    "plt.title(\"Alfabetização\")\n",
    "plt.pie(A, labels = label_lista, autopct = '%1.1f%%')"
   ]
  },
  {
   "cell_type": "code",
   "execution_count": 28,
   "metadata": {
    "collapsed": false
   },
   "outputs": [
    {
     "data": {
      "text/plain": [
       "<matplotlib.axes._subplots.AxesSubplot at 0x1a6fe1aa550>"
      ]
     },
     "execution_count": 28,
     "metadata": {},
     "output_type": "execute_result"
    },
    {
     "data": {
      "image/png": "[encoded data removed]",
      "text/plain": [
       "<matplotlib.figure.Figure at 0x1a6fe1b8a58>"
      ]
     },
     "metadata": {},
     "output_type": "display_data"
    }
   ],
   "source": [
    "# Dar nome as categorias\n",
    "dados.V6003 = dados.V6003.astype('category')\n",
    "dados.V6003.cat.categories = ('Regular do ensino fundamental', 'Regular do ensino médio', 'Educação de jovens e adultos ou supletivo EF', \n",
    "                 'Educação de jovens e adultos ou supletivo EM', 'Superior de graduação', 'Alfabetização de jovens e adultos',\n",
    "                 'Creche', 'Classe de alfabetização - CA', 'Maternal, jardim de infância', 'Pré-vestibular', 'Mestrado ou doutorado')\n",
    "\n",
    "c1 = dados.V6003.value_counts()\n",
    "\n",
    "c1.plot(kind='bar', color = ('blue', 'green', 'salmon','red', 'yellow'), legend=False)"
   ]
  },
  {
   "cell_type": "code",
   "execution_count": null,
   "metadata": {
    "collapsed": true
   },
   "outputs": [],
   "source": []
  }
 ],
 "metadata": {
  "anaconda-cloud": {},
  "kernelspec": {
   "display_name": "Python 3",
   "language": "python",
   "name": "python3"
  },
  "language_info": {
   "codemirror_mode": {
    "name": "ipython",
    "version": 3
   },
   "file_extension": ".py",
   "mimetype": "text/x-python",
   "name": "python",
   "nbconvert_exporter": "python",
   "pygments_lexer": "ipython3",
   "version": "3.5.2"
  }
 },
 "nbformat": 4,
 "nbformat_minor": 0
}
