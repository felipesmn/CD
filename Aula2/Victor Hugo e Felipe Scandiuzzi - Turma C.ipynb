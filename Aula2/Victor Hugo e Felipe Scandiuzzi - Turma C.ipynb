{
 "cells": [
  {
   "cell_type": "markdown",
   "metadata": {},
   "source": [
    "___\n",
    "# Atividade: Variáveis qualitativas com a PNAD (ALUNOS)\n",
    "___\n",
    "Felipe Scandiuzzi Moreria Netto e Victor Hugo Leal Vieira da Silva\n",
    "\n",
    "## Aula 02\n",
    "\n",
    "\n",
    "**Link úteis:**\n",
    "1.\tLeitura prévia necessária: Magalhães e Lima (7ª. Edição): pág. 9 a 16 – destacando para variáveis qualitativas.\n",
    "2.\t10 Minutes to Pandas: http://pandas.pydata.org/pandas-docs/stable/10min.html\n",
    "3.\tEssential Basic Functionality: http://pandas.pydata.org/pandas-docs/stable/basics.html\n",
    "4.  Estude a aula `Aula02 Análise Exploratoria Variáveis Qualitativas-ALUNOS.ipynb`, o qual contém uma introdução ao Jupyter Notebook. A publicação dessa aula tem como objetivo auxiliá-lo, caso queira, no desenvolvimento dos seus próximos programas, como esta atividade.\n",
    "\n",
    "**Hoje:**\n",
    "1.\tAnalisar variáveis qualitativas de forma uni e bivariadas utilizando tabelas de frequências e gráficos de barras e de pizza (ou setor).\n",
    "2.  Trabalhar com a base de dados da PNAD 2013 - Pesquisa Nacional por Amostra de Domicílios\n",
    "\n",
    "**Próxima aula:**\n",
    "1.\tLeitura prévia necessária: Magalhães e Lima (7ª. Edição): pág. 9 a 17 – destacando para variáveis quantitativas; pág. 106 e 107 (Definição 4.1 e Exemplo 4.1).\n",
    "\n",
    "___\n"
   ]
  },
  {
   "cell_type": "markdown",
   "metadata": {},
   "source": [
    "___\n",
    "## <font color='blue'>PNAD 2013 – PESQUISA NACIONAL POR AMOSTRA DE DOMICÍLIOS</font>\n",
    "\n",
    "**Base de dados reduzida: ** `pes2013A.txt` (75 MB)\n",
    "[Acesse a base de dados aqui: https://dl.dropboxusercontent.com/u/65763596/Aula02/pes2013A.txt] \n",
    "\n",
    "**Dicionário das variáveis: ** `Dicionário de variáveis de pessoas - PNAD 2013.xlsx`\n",
    "[Acesse dicionário aqui: https://dl.dropboxusercontent.com/u/65763596/Aula02/Dicion%C3%A1rio%20de%20vari%C3%A1veis%20de%20pessoas%20-%20PNAD%202013.xls]\n",
    "\n",
    "\n",
    "Muitos especialistas na área de negócios dizem que empresários mais bem sucedidos são aqueles que fazem um planejamento antes de começar seu próprio negócio. Nessa visão, imagine que o Sr. Gold tenha como grande objetivo abrir uma nova faculdade e para isso deseja estudar o perfil do estudante que cursa ensino médio ou pré-vestibular e do que cursa ensino superior. \n",
    "\n",
    "Assuma que as variáveis de interesse a respeito dos estudantes sejam relativamente as mesmas de 2013 até o momento atual. Nesse caso, seja criativo para ajudar o Sr. Gold que deseja abrir seu negócio, mas não tem certeza sobre quais variáveis o interessam. \n",
    "\n",
    "Vocês podem ajudá-lo?!  \n",
    "\n",
    "As variáveis a seguir devem fazer parte da sua análise:\n",
    "\n",
    "* V0302: sexo\n",
    "* V0404: cor ou raça\n",
    "* V6002: rede de ensino\n",
    "* V4802: nível de ensino e grupos de séries do ensino fundamental que frequentavam (todos os estudantes)\n",
    "\n",
    "** Crie uma variável com região do indivíduo amostrado considerando a variável `UF` que define o estado e também trabalhe com essa nova variável em suas análises. ** \n",
    "\n",
    "** Escolha mais pelo menos DUAS variáveis qualitativas para completar sua análise!! **\n",
    "\n",
    "Faça uma análise exploratória apenas com as variáveis qualitativas com foco no objetivo do Sr. Gold.\n",
    "\n",
    "Sua análise deve conter pelo menos uma das seguintes visualizações:\n",
    "\n",
    "1. Gráfico de colunas (bar) e setor (pie) com as frequências relativas cadas categorias das variáveis qualitativas.\n",
    "2. Tabela cruzada entre pares de variaveis qualitativas. Montar o gráfico de colunas. Repetir o processo habilitando a opção \"stacked=True\".\n",
    "\n",
    "\n",
    "___\n",
    "\n",
    "\n",
    "<font color='red'>\n",
    "Crie um repositório chamado CD em seu Github\n",
    "</font>\n",
    "\n",
    "\n",
    "Neste repositório, salve seu trabalho numa pasta chamada aula2\n",
    "\n",
    "Por exemplo, se seu login for *pikachu* o projeto vai estar na pasta:\n",
    "\n",
    "https://github.com/<font color=red>pikachu/CD/aula2</font>\n",
    "\n",
    "\n",
    "\n",
    "## <font color='red'>Terça-feira (dia 16/08), no horário de atendimento da sua turma, deverá apresentar aos NINJAS!!</font>\n",
    "___"
   ]
  },
  {
   "cell_type": "code",
   "execution_count": 165,
   "metadata": {
    "collapsed": false
   },
   "outputs": [],
   "source": [
    "%matplotlib inline\n",
    "import pandas as pd\n",
    "import matplotlib.pyplot as plt\n",
    "import os"
   ]
  },
  {
   "cell_type": "code",
   "execution_count": null,
   "metadata": {
    "collapsed": false
   },
   "outputs": [
    {
     "name": "stdout",
     "output_type": "stream",
     "text": [
      "Esperamos trabalhar no diretório\n",
      "C:\\Users\\VictorHugo\\Documents\\GitHub\\CD\\Aula2\n"
     ]
    }
   ],
   "source": [
    "print('Esperamos trabalhar no diretório')\n",
    "print(os.getcwd())"
   ]
  },
  {
   "cell_type": "code",
   "execution_count": null,
   "metadata": {
    "collapsed": false
   },
   "outputs": [],
   "source": [
    "dados = pd.read_excel('Excel Dados.xlsx')\n",
    "dados.head()\n"
   ]
  },
  {
   "cell_type": "code",
   "execution_count": null,
   "metadata": {
    "collapsed": false
   },
   "outputs": [],
   "source": [
    "Norte = dados[(dados[\"UF\"] == 11) ].iloc [:,0:1]\n",
    "Nordeste = dados[(dados[\"UF\"] ==18) ].iloc [:,0:1]\n",
    "Sudeste = dados[(dados[\"UF\"]==31) ].iloc [:,0:1]\n",
    "Sul = dados[(dados[\"UF\"] == 41) ].iloc [:,0:1]\n",
    "CO = dados[(dados[\"UF\"] == 50) ].iloc [:,0:1]\n"
   ]
  },
  {
   "cell_type": "code",
   "execution_count": null,
   "metadata": {
    "collapsed": false
   },
   "outputs": [],
   "source": [
    "# Somar a população das regiões\n",
    "Soma_Norte = Norte.sum()\n",
    "Soma_Nordeste = Nordeste.sum()\n",
    "Soma_Sudeste = Sudeste.sum()\n",
    "Soma_Sul = Sul.sum()\n",
    "Soma_CO = CO.sum()\n",
    "\n",
    "# Soma de todas as populações\n",
    "Soma_Total = dados.UF.sum()\n",
    "\n",
    "# Preparar porcentagens\n",
    "Porcentagem_Norte = (Soma_Norte/ Soma_Total) * 100\n",
    "Porcentagem_Nordeste = (Soma_Nordeste/ Soma_Total) * 100\n",
    "Porcentagem_Sudeste = (Soma_Sudeste/ Soma_Total) * 100\n",
    "Porcentagem_Sul = (Soma_Sul/ Soma_Total) * 100\n",
    "Porcentagem_CO = (Soma_CO/ Soma_Total) * 100\n",
    "\n",
    "# Lista de valores e legendas para o plot\n",
    "\n",
    "lista = [Porcentagem_Norte , Porcentagem_Nordeste, Porcentagem_Sudeste, Porcentagem_Sul, Porcentagem_CO]\n",
    "label_lista = [\"Norte\" , \"Nordeste\", \"Sudeste\", \"Sul\", \"Centro Oeste\"]\n",
    "\n",
    "# plot do gráfico de pizza\n",
    "plt.axis('equal')\n",
    "plt.title(\"Distribuição por Regiões\")\n",
    "plt.pie(lista, labels = label_lista, autopct = '%1.1f%%')"
   ]
  },
  {
   "cell_type": "code",
   "execution_count": null,
   "metadata": {
    "collapsed": false,
    "scrolled": true
   },
   "outputs": [],
   "source": [
    "dados.UF = dados.UF.astype('category')\n",
    "dados.UF.cat.categories = ('Norte', 'Nordeste', 'Sudeste', 'Sul', 'Centro Oeste')\n",
    "\n",
    "dados.V0302 = dados.V0302.astype('category')\n",
    "dados.V0302.cat.categories = ('Homem', 'Mulher')\n",
    "\n",
    "ct = pd.crosstab(dados.UF, dados.V0302)\n",
    "ct"
   ]
  },
  {
   "cell_type": "code",
   "execution_count": null,
   "metadata": {
    "collapsed": false,
    "scrolled": true
   },
   "outputs": [],
   "source": [
    "x = pd.crosstab (dados.UF, dados.V0302)\n",
    "x.plot(kind='bar', color=('green', 'salmon'), title = 'Distribuição de gênero por região')"
   ]
  },
  {
   "cell_type": "code",
   "execution_count": null,
   "metadata": {
    "collapsed": false
   },
   "outputs": [],
   "source": [
    "# Dar nome as categorias\n",
    "dados.V0404 = dados.V0404.astype('category')\n",
    "dados.V0404.cat.categories = ('Indígena', 'Branca', 'Preta', 'Amarela', 'Parda','SD')\n",
    "\n",
    "ct = pd.crosstab(dados.UF, dados.V0404)\n",
    "ct"
   ]
  },
  {
   "cell_type": "code",
   "execution_count": null,
   "metadata": {
    "collapsed": false
   },
   "outputs": [],
   "source": [
    "x = pd.crosstab (dados.UF, dados.V0404)\n",
    "x.plot(kind='bar', title = 'Distribuição de cor/raça por região')"
   ]
  },
  {
   "cell_type": "code",
   "execution_count": null,
   "metadata": {
    "collapsed": false
   },
   "outputs": [],
   "source": [
    "# Dar nome as categorias\n",
    "dados.V6002 = dados.V6002.astype('category')\n",
    "dados.V6002.cat.categories = ('Pública', 'Privada')\n",
    "\n",
    "ct = pd.crosstab(dados.UF, dados.V6002)\n",
    "ct"
   ]
  },
  {
   "cell_type": "code",
   "execution_count": null,
   "metadata": {
    "collapsed": false
   },
   "outputs": [],
   "source": [
    "x = pd.crosstab (dados.UF, dados.V6002)\n",
    "x.plot(kind='bar',  title = 'Rede escolar pública e privada')"
   ]
  },
  {
   "cell_type": "code",
   "execution_count": null,
   "metadata": {
    "collapsed": false
   },
   "outputs": [],
   "source": [
    "# Dar nome as categorias\n",
    "dados.V0601 = dados.V0601.astype('category')\n",
    "dados.V0601.cat.categories = ('Sim', 'Não')\n",
    "\n",
    "cy = pd.crosstab(dados.UF, dados.V0601)\n",
    "cy"
   ]
  },
  {
   "cell_type": "code",
   "execution_count": null,
   "metadata": {
    "collapsed": false
   },
   "outputs": [],
   "source": [
    "x = pd.crosstab (dados.UF, dados.V0601)\n",
    "x.plot(kind='bar', color=(\"red\", \"yellow\"), title = 'Alfabetização')\n"
   ]
  },
  {
   "cell_type": "code",
   "execution_count": null,
   "metadata": {
    "collapsed": false
   },
   "outputs": [],
   "source": [
    "# Dar nome as categorias\n",
    "dados.V4802 = dados.V4802.astype('category')\n",
    "\n",
    "dados.V4802.cat.categories = ('Maternal, jardim de infância etc.', \"Classe de alfabetização\", \"Alfabetização de adultos\",\n",
    "                              \"1ª a 4ª séries do ensino fundamental regular em 8 anos ou de educação de jovens e adultos\",\n",
    "                              \"5ª a 8ª séries do ensino fundamental regular em 8 anos ou de educação de jovens e adultos\",\n",
    "                              \"1ª série do ensino fundamental regular em 9 anos\", \"2ª a 5ª séries do ensino fundamental regular em 9 anos \",\n",
    "                              \"6ª a 9ª séries do ensino fundamental regular em 9 anos \",\n",
    "                              \"Educação de jovens e adultos não seriado do ensino fundamental\",\n",
    "                              \"Ensino médio, inclusive pré-vestibular\",\n",
    "                              \"Superior, inclusive mestrado ou doutorado\")\n",
    "\n",
    "cy = pd.crosstab(dados.UF, dados.V4802)\n",
    "cy"
   ]
  },
  {
   "cell_type": "code",
   "execution_count": null,
   "metadata": {
    "collapsed": false
   },
   "outputs": [],
   "source": [
    "x = pd.crosstab (dados.UF, dados.V4802)\n",
    "x.plot(kind='bar', legend = False, title = 'Nivel de ensino', figsize = (12,8))"
   ]
  },
  {
   "cell_type": "markdown",
   "metadata": {},
   "source": [
    "Legenda do histograma acima:\n",
    "![Legenda_2](Legenda_2.png)"
   ]
  },
  {
   "cell_type": "code",
   "execution_count": null,
   "metadata": {
    "collapsed": false
   },
   "outputs": [],
   "source": [
    "dados.V6003 = dados.V6003.astype('category')\n",
    "\n",
    "dados.V6003.cat.categories = (['Regular do ensino fundamental', 'Regular do ensino médio', 'Educação de jovens e adultos ou supletivo EF', \n",
    "                 'Educação de jovens e adultos ou supletivo EM', 'Superior de graduação', 'Alfabetização de jovens e adultos',\n",
    "                 'Creche', 'Classe de alfabetização - CA', 'Maternal, jardim de infância', 'Pré-vestibular', 'Mestrado ou doutorado'])\n",
    "\n",
    "cy = pd.crosstab(dados.UF, dados.V6003)\n",
    "cy"
   ]
  },
  {
   "cell_type": "code",
   "execution_count": null,
   "metadata": {
    "collapsed": false
   },
   "outputs": [],
   "source": [
    "dados.V6003 = dados.V6003.astype('category')\n",
    "dados.V6003.cat.categories = ('Regular do ensino fundamental', 'Regular do ensino médio', 'Educação de jovens e adultos ou supletivo EF', \n",
    "                 'Educação de jovens e adultos ou supletivo EM', 'Superior de graduação', 'Alfabetização de jovens e adultos',\n",
    "                 'Creche', 'Classe de alfabetização - CA', 'Maternal, jardim de infância', 'Pré-vestibular', 'Mestrado ou doutorado')\n",
    "\n",
    "y = pd.crosstab (dados.UF, dados.V6003)\n",
    "\n",
    "y.plot(kind='bar', legend = False, title = 'Nivel de escolaridade', figsize = (12,8))"
   ]
  },
  {
   "cell_type": "markdown",
   "metadata": {},
   "source": [
    "Legenda do histograma acima:\n",
    "![Legenda_1](Legenda_1.png)\n"
   ]
  },
  {
   "cell_type": "markdown",
   "metadata": {},
   "source": [
    "**Conclusão**\n",
    "\n",
    "    Após as análise e os cruzamentos dos dados do PNAD 2013,podemos concluir que as regiões indicadas para o Sr. Gold abrir seu negócio são as regiões Nordeste e Sudeste, uma vez que essas possuem um maior número de indivíduos cursando o ensino médio ou cursinho pré-vestibular e, além disso, ambos possuem os maiores índices de pessoas em rede de ensino privada, oque, dependendo dos custos de cursar a faculdade do Sr. Gold, é uma variável a ser considerada. \n",
    "    "
   ]
  },
  {
   "cell_type": "code",
   "execution_count": null,
   "metadata": {
    "collapsed": false
   },
   "outputs": [],
   "source": [
    "dados.head()"
   ]
  },
  {
   "cell_type": "markdown",
   "metadata": {},
   "source": [
    "Renda"
   ]
  },
  {
   "cell_type": "code",
   "execution_count": null,
   "metadata": {
    "collapsed": false
   },
   "outputs": [],
   "source": [
    "valoresReais.describe()"
   ]
  },
  {
   "cell_type": "code",
   "execution_count": null,
   "metadata": {
    "collapsed": false
   },
   "outputs": [],
   "source": [
    "#dados[\"V4720\"]\n",
    "from numpy import arange\n",
    "\n",
    "valoresReais = dados[(dados[\"V4720\"] < 10000000) ].iloc[:,9:10]\n",
    "\n",
    "faixa = arange(0,3000, 100)\n",
    "asdw = valoresReais\n",
    "varial = pd.cut(asdw,faixa)\n",
    "varial = varial.value_counts()\n"
   ]
  },
  {
   "cell_type": "code",
   "execution_count": null,
   "metadata": {
    "collapsed": false
   },
   "outputs": [],
   "source": [
    "asdw.plot.hist(bins = faixa, title = \"Renda populacional\")"
   ]
  },
  {
   "cell_type": "code",
   "execution_count": null,
   "metadata": {
    "collapsed": false
   },
   "outputs": [],
   "source": [
    "valoresReais.plot(kind='box', color = 'blue' )"
   ]
  },
  {
   "cell_type": "code",
   "execution_count": null,
   "metadata": {
    "collapsed": false
   },
   "outputs": [],
   "source": [
    "z = pd.crosstab (dados.UF, dados[\"V4720\"])\n",
    "\n",
    "z.plot(kind='bar', legend = False, title = \"Renda por regiões\", figsize = (12,8))"
   ]
  },
  {
   "cell_type": "markdown",
   "metadata": {},
   "source": [
    "Idade"
   ]
  },
  {
   "cell_type": "code",
   "execution_count": null,
   "metadata": {
    "collapsed": false
   },
   "outputs": [],
   "source": [
    "dados[\"V8005\"].describe()"
   ]
  },
  {
   "cell_type": "code",
   "execution_count": null,
   "metadata": {
    "collapsed": false
   },
   "outputs": [],
   "source": [
    "faixaIdade = arange(0,110,5)\n",
    "ass = dados[\"V8005\"]\n",
    "variavel = pd.cut(ass, faixaIdade)\n",
    "variavel.value_counts()\n",
    "ass.plot.hist(bins = faixaIdade)"
   ]
  },
  {
   "cell_type": "code",
   "execution_count": null,
   "metadata": {
    "collapsed": false
   },
   "outputs": [],
   "source": [
    "dados[\"V8005\"].plot(kind='box')"
   ]
  },
  {
   "cell_type": "code",
   "execution_count": null,
   "metadata": {
    "collapsed": false
   },
   "outputs": [],
   "source": [
    "tabela = pd.crosstab(dados[\"V8005\"], dados[\"UF\"])#.describe()\n",
    "#tabela\n",
    "\n",
    "tabela.plot(kind='box', title = \"Seila o que por região\")"
   ]
  },
  {
   "cell_type": "code",
   "execution_count": null,
   "metadata": {
    "collapsed": false
   },
   "outputs": [],
   "source": [
    "dados[\"V4707\"].describe()"
   ]
  },
  {
   "cell_type": "code",
   "execution_count": null,
   "metadata": {
    "collapsed": false
   },
   "outputs": [],
   "source": [
    "\n",
    "faixaTrampo = arange(0,6,1)\n",
    "asj = dados[\"V4707\"]\n",
    "variavel = pd.cut(asj, faixaTrampo)\n",
    "variavel.value_counts()\n",
    "\n",
    "asj.plot.hist(bins = faixaTrampo, title = \"Horas trabalhadas semanalmente\")"
   ]
  },
  {
   "cell_type": "code",
   "execution_count": null,
   "metadata": {
    "collapsed": false
   },
   "outputs": [],
   "source": [
    "dados[\"V4707\"].plot(kind = 'box')"
   ]
  },
  {
   "cell_type": "markdown",
   "metadata": {},
   "source": [
    "**Conclusão**\n",
    "\n",
    "   Após a análise de alguns dados quantitativos relacionados à renda, idade e horas de trabalho semanais da população em questão, podemos perceber que as regiões Sudeste e Nordeste continuam se destacando como sendo as mais indicadas para que o Sr. Gold instale seu negócio. Isso porque, por se tratar possivelmente de uma faculdade particular, a renda das pessoas das regiões anteriormente citadas se encaixam melhor nesse quesito quando comparadas às outras regiões."
   ]
  }
 ],
 "metadata": {
  "anaconda-cloud": {},
  "kernelspec": {
   "display_name": "Python 3",
   "language": "python",
   "name": "python3"
  },
  "language_info": {
   "codemirror_mode": {
    "name": "ipython",
    "version": 3
   },
   "file_extension": ".py",
   "mimetype": "text/x-python",
   "name": "python",
   "nbconvert_exporter": "python",
   "pygments_lexer": "ipython3",
   "version": "3.5.2"
  }
 },
 "nbformat": 4,
 "nbformat_minor": 0
}
