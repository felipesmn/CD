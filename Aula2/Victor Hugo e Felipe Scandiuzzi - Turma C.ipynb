{
 "cells": [
  {
   "cell_type": "markdown",
   "metadata": {},
   "source": [
    "___\n",
    "# Atividade: Variáveis qualitativas com a PNAD (ALUNOS)\n",
    "___\n",
    "Felipe Scandiuzzi Moreria Netto e Victor Hugo Leal Vieira da Silva\n",
    "\n",
    "## Aula 02\n",
    "\n",
    "\n",
    "**Link úteis:**\n",
    "1.\tLeitura prévia necessária: Magalhães e Lima (7ª. Edição): pág. 9 a 16 – destacando para variáveis qualitativas.\n",
    "2.\t10 Minutes to Pandas: http://pandas.pydata.org/pandas-docs/stable/10min.html\n",
    "3.\tEssential Basic Functionality: http://pandas.pydata.org/pandas-docs/stable/basics.html\n",
    "4.  Estude a aula `Aula02 Análise Exploratoria Variáveis Qualitativas-ALUNOS.ipynb`, o qual contém uma introdução ao Jupyter Notebook. A publicação dessa aula tem como objetivo auxiliá-lo, caso queira, no desenvolvimento dos seus próximos programas, como esta atividade.\n",
    "\n",
    "**Hoje:**\n",
    "1.\tAnalisar variáveis qualitativas de forma uni e bivariadas utilizando tabelas de frequências e gráficos de barras e de pizza (ou setor).\n",
    "2.  Trabalhar com a base de dados da PNAD 2013 - Pesquisa Nacional por Amostra de Domicílios\n",
    "\n",
    "**Próxima aula:**\n",
    "1.\tLeitura prévia necessária: Magalhães e Lima (7ª. Edição): pág. 9 a 17 – destacando para variáveis quantitativas; pág. 106 e 107 (Definição 4.1 e Exemplo 4.1).\n",
    "\n",
    "___\n"
   ]
  },
  {
   "cell_type": "markdown",
   "metadata": {},
   "source": [
    "___\n",
    "## <font color='blue'>PNAD 2013 – PESQUISA NACIONAL POR AMOSTRA DE DOMICÍLIOS</font>\n",
    "\n",
    "**Base de dados reduzida: ** `pes2013A.txt` (75 MB)\n",
    "[Acesse a base de dados aqui: https://dl.dropboxusercontent.com/u/65763596/Aula02/pes2013A.txt] \n",
    "\n",
    "**Dicionário das variáveis: ** `Dicionário de variáveis de pessoas - PNAD 2013.xlsx`\n",
    "[Acesse dicionário aqui: https://dl.dropboxusercontent.com/u/65763596/Aula02/Dicion%C3%A1rio%20de%20vari%C3%A1veis%20de%20pessoas%20-%20PNAD%202013.xls]\n",
    "\n",
    "\n",
    "Muitos especialistas na área de negócios dizem que empresários mais bem sucedidos são aqueles que fazem um planejamento antes de começar seu próprio negócio. Nessa visão, imagine que o Sr. Gold tenha como grande objetivo abrir uma nova faculdade e para isso deseja estudar o perfil do estudante que cursa ensino médio ou pré-vestibular e do que cursa ensino superior. \n",
    "\n",
    "Assuma que as variáveis de interesse a respeito dos estudantes sejam relativamente as mesmas de 2013 até o momento atual. Nesse caso, seja criativo para ajudar o Sr. Gold que deseja abrir seu negócio, mas não tem certeza sobre quais variáveis o interessam. \n",
    "\n",
    "Vocês podem ajudá-lo?!  \n",
    "\n",
    "As variáveis a seguir devem fazer parte da sua análise:\n",
    "\n",
    "* V0302: sexo\n",
    "* V0404: cor ou raça\n",
    "* V6002: rede de ensino\n",
    "* V4802: nível de ensino e grupos de séries do ensino fundamental que frequentavam (todos os estudantes)\n",
    "\n",
    "** Crie uma variável com região do indivíduo amostrado considerando a variável `UF` que define o estado e também trabalhe com essa nova variável em suas análises. ** \n",
    "\n",
    "** Escolha mais pelo menos DUAS variáveis qualitativas para completar sua análise!! **\n",
    "\n",
    "Faça uma análise exploratória apenas com as variáveis qualitativas com foco no objetivo do Sr. Gold.\n",
    "\n",
    "Sua análise deve conter pelo menos uma das seguintes visualizações:\n",
    "\n",
    "1. Gráfico de colunas (bar) e setor (pie) com as frequências relativas cadas categorias das variáveis qualitativas.\n",
    "2. Tabela cruzada entre pares de variaveis qualitativas. Montar o gráfico de colunas. Repetir o processo habilitando a opção \"stacked=True\".\n",
    "\n",
    "\n",
    "___\n",
    "\n",
    "\n",
    "<font color='red'>\n",
    "Crie um repositório chamado CD em seu Github\n",
    "</font>\n",
    "\n",
    "\n",
    "Neste repositório, salve seu trabalho numa pasta chamada aula2\n",
    "\n",
    "Por exemplo, se seu login for *pikachu* o projeto vai estar na pasta:\n",
    "\n",
    "https://github.com/<font color=red>pikachu/CD/aula2</font>\n",
    "\n",
    "\n",
    "\n",
    "## <font color='red'>Terça-feira (dia 16/08), no horário de atendimento da sua turma, deverá apresentar aos NINJAS!!</font>\n",
    "___"
   ]
  },
  {
   "cell_type": "code",
<<<<<<< HEAD
   "execution_count": 4,
=======
   "execution_count": 1,
>>>>>>> ee52d75d662253a1ff491af09223713a456bc7a4
   "metadata": {
    "collapsed": false
   },
   "outputs": [],
   "source": [
    "%matplotlib inline\n",
    "import pandas as pd\n",
    "import matplotlib.pyplot as plt\n",
    "import os"
   ]
  },
  {
   "cell_type": "code",
<<<<<<< HEAD
   "execution_count": 5,
=======
   "execution_count": 2,
>>>>>>> ee52d75d662253a1ff491af09223713a456bc7a4
   "metadata": {
    "collapsed": false
   },
   "outputs": [
    {
     "name": "stdout",
     "output_type": "stream",
     "text": [
      "Esperamos trabalhar no diretório\n",
      "C:\\Users\\felipe\\Documents\\GitHub\\CD\\Aula2\n"
     ]
    }
   ],
   "source": [
    "print('Esperamos trabalhar no diretório')\n",
    "print(os.getcwd())"
   ]
  },
  {
   "cell_type": "code",
<<<<<<< HEAD
   "execution_count": 6,
=======
   "execution_count": 3,
>>>>>>> ee52d75d662253a1ff491af09223713a456bc7a4
   "metadata": {
    "collapsed": false
   },
   "outputs": [
    {
     "data": {
      "text/html": [
       "<div>\n",
       "<table border=\"1\" class=\"dataframe\">\n",
       "  <thead>\n",
       "    <tr style=\"text-align: right;\">\n",
       "      <th></th>\n",
       "      <th>UF</th>\n",
       "      <th>V0302</th>\n",
       "      <th>V0404</th>\n",
       "      <th>V0601</th>\n",
       "      <th>V6002</th>\n",
       "      <th>V6003</th>\n",
       "      <th>V4802</th>\n",
       "      <th>V8005</th>\n",
       "      <th>V4707</th>\n",
       "      <th>V4720</th>\n",
       "    </tr>\n",
       "  </thead>\n",
       "  <tbody>\n",
       "    <tr>\n",
       "      <th>1</th>\n",
       "      <td>11</td>\n",
       "      <td>4</td>\n",
       "      <td>2</td>\n",
       "      <td>1</td>\n",
       "      <td>NaN</td>\n",
       "      <td>NaN</td>\n",
       "      <td>NaN</td>\n",
       "      <td>42</td>\n",
       "      <td>NaN</td>\n",
       "      <td>350.0</td>\n",
       "    </tr>\n",
       "    <tr>\n",
       "      <th>2</th>\n",
       "      <td>11</td>\n",
       "      <td>4</td>\n",
       "      <td>8</td>\n",
       "      <td>3</td>\n",
       "      <td>NaN</td>\n",
       "      <td>NaN</td>\n",
       "      <td>NaN</td>\n",
       "      <td>64</td>\n",
       "      <td>NaN</td>\n",
       "      <td>678.0</td>\n",
       "    </tr>\n",
       "    <tr>\n",
       "      <th>3</th>\n",
       "      <td>11</td>\n",
       "      <td>4</td>\n",
       "      <td>4</td>\n",
       "      <td>1</td>\n",
       "      <td>2.0</td>\n",
       "      <td>1.0</td>\n",
       "      <td>8.0</td>\n",
       "      <td>13</td>\n",
       "      <td>NaN</td>\n",
       "      <td>0.0</td>\n",
       "    </tr>\n",
       "    <tr>\n",
       "      <th>4</th>\n",
       "      <td>11</td>\n",
       "      <td>2</td>\n",
       "      <td>8</td>\n",
       "      <td>1</td>\n",
       "      <td>NaN</td>\n",
       "      <td>NaN</td>\n",
       "      <td>NaN</td>\n",
       "      <td>23</td>\n",
       "      <td>3.0</td>\n",
       "      <td>800.0</td>\n",
       "    </tr>\n",
       "    <tr>\n",
       "      <th>5</th>\n",
       "      <td>11</td>\n",
       "      <td>4</td>\n",
       "      <td>8</td>\n",
       "      <td>1</td>\n",
       "      <td>4.0</td>\n",
       "      <td>5.0</td>\n",
       "      <td>11.0</td>\n",
       "      <td>19</td>\n",
       "      <td>NaN</td>\n",
       "      <td>0.0</td>\n",
       "    </tr>\n",
       "  </tbody>\n",
       "</table>\n",
       "</div>"
      ],
      "text/plain": [
       "   UF  V0302  V0404  V0601  V6002  V6003  V4802  V8005  V4707  V4720\n",
       "1  11      4      2      1    NaN    NaN    NaN     42    NaN  350.0\n",
       "2  11      4      8      3    NaN    NaN    NaN     64    NaN  678.0\n",
       "3  11      4      4      1    2.0    1.0    8.0     13    NaN    0.0\n",
       "4  11      2      8      1    NaN    NaN    NaN     23    3.0  800.0\n",
       "5  11      4      8      1    4.0    5.0   11.0     19    NaN    0.0"
      ]
     },
<<<<<<< HEAD
     "execution_count": 6,
=======
     "execution_count": 3,
>>>>>>> ee52d75d662253a1ff491af09223713a456bc7a4
     "metadata": {},
     "output_type": "execute_result"
    }
   ],
   "source": [
    "dados = pd.read_excel('Excel Dados.xlsx')\n",
    "dados.head()\n"
   ]
  },
  {
   "cell_type": "code",
<<<<<<< HEAD
   "execution_count": 7,
=======
   "execution_count": 4,
>>>>>>> ee52d75d662253a1ff491af09223713a456bc7a4
   "metadata": {
    "collapsed": false
   },
   "outputs": [],
   "source": [
    "Norte = dados[(dados[\"UF\"] == 11) ].iloc [:,0:1]\n",
    "Nordeste = dados[(dados[\"UF\"] ==18) ].iloc [:,0:1]\n",
    "Sudeste = dados[(dados[\"UF\"]==31) ].iloc [:,0:1]\n",
    "Sul = dados[(dados[\"UF\"] == 41) ].iloc [:,0:1]\n",
    "CO = dados[(dados[\"UF\"] == 50) ].iloc [:,0:1]\n"
   ]
  },
  {
   "cell_type": "code",
<<<<<<< HEAD
   "execution_count": 8,
=======
   "execution_count": 5,
>>>>>>> ee52d75d662253a1ff491af09223713a456bc7a4
   "metadata": {
    "collapsed": false
   },
   "outputs": [
    {
     "data": {
      "text/plain": [
<<<<<<< HEAD
       "([<matplotlib.patches.Wedge at 0x20bbcdc1e10>,\n",
       "  <matplotlib.patches.Wedge at 0x20bbcdb7f98>,\n",
       "  <matplotlib.patches.Wedge at 0x20bbaebb1d0>,\n",
       "  <matplotlib.patches.Wedge at 0x20bbaec13c8>,\n",
       "  <matplotlib.patches.Wedge at 0x20bbade15c0>],\n",
       " [<matplotlib.text.Text at 0x20bbcdb75c0>,\n",
       "  <matplotlib.text.Text at 0x20bbaf3a7b8>,\n",
       "  <matplotlib.text.Text at 0x20bbaebb9b0>,\n",
       "  <matplotlib.text.Text at 0x20bbaec1ba8>,\n",
       "  <matplotlib.text.Text at 0x20bbade1da0>],\n",
       " [<matplotlib.text.Text at 0x20bbcdb7a58>,\n",
       "  <matplotlib.text.Text at 0x20bbaf3ac50>,\n",
       "  <matplotlib.text.Text at 0x20bbaebbe48>,\n",
       "  <matplotlib.text.Text at 0x20bbade1080>,\n",
       "  <matplotlib.text.Text at 0x20bbadf7278>])"
      ]
     },
     "execution_count": 8,
=======
       "([<matplotlib.patches.Wedge at 0x243412d7fd0>,\n",
       "  <matplotlib.patches.Wedge at 0x2433f3cd198>,\n",
       "  <matplotlib.patches.Wedge at 0x2433f2c7390>,\n",
       "  <matplotlib.patches.Wedge at 0x2433f2d2588>,\n",
       "  <matplotlib.patches.Wedge at 0x2433f209780>],\n",
       " [<matplotlib.text.Text at 0x2433f3dc780>,\n",
       "  <matplotlib.text.Text at 0x2433f3cd978>,\n",
       "  <matplotlib.text.Text at 0x2433f2c7b70>,\n",
       "  <matplotlib.text.Text at 0x2433f2d2d68>,\n",
       "  <matplotlib.text.Text at 0x2433f209f60>],\n",
       " [<matplotlib.text.Text at 0x2433f3dcc18>,\n",
       "  <matplotlib.text.Text at 0x2433f3cde10>,\n",
       "  <matplotlib.text.Text at 0x2433f2d2048>,\n",
       "  <matplotlib.text.Text at 0x2433f209240>,\n",
       "  <matplotlib.text.Text at 0x2433f222438>])"
      ]
     },
     "execution_count": 5,
>>>>>>> ee52d75d662253a1ff491af09223713a456bc7a4
     "metadata": {},
     "output_type": "execute_result"
    },
    {
     "data": {
      "image/png": "iVBORw0KGgoAAAANSUhEUgAAAV0AAAD8CAYAAADUv3dIAAAABHNCSVQICAgIfAhkiAAAAAlwSFlz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\nv+0AAAAASUVORK5CYII=\n",
      "text/plain": [
<<<<<<< HEAD
       "<matplotlib.figure.Figure at 0x20bb1e11a58>"
=======
       "<matplotlib.figure.Figure at 0x2433623eba8>"
>>>>>>> ee52d75d662253a1ff491af09223713a456bc7a4
      ]
     },
     "metadata": {},
     "output_type": "display_data"
    }
   ],
   "source": [
    "# Somar a população das regiões\n",
    "Soma_Norte = Norte.sum()\n",
    "Soma_Nordeste = Nordeste.sum()\n",
    "Soma_Sudeste = Sudeste.sum()\n",
    "Soma_Sul = Sul.sum()\n",
    "Soma_CO = CO.sum()\n",
    "\n",
    "# Soma de todas as populações\n",
    "Soma_Total = dados.UF.sum()\n",
    "\n",
    "# Preparar porcentagens\n",
    "Porcentagem_Norte = (Soma_Norte/ Soma_Total) * 100\n",
    "Porcentagem_Nordeste = (Soma_Nordeste/ Soma_Total) * 100\n",
    "Porcentagem_Sudeste = (Soma_Sudeste/ Soma_Total) * 100\n",
    "Porcentagem_Sul = (Soma_Sul/ Soma_Total) * 100\n",
    "Porcentagem_CO = (Soma_CO/ Soma_Total) * 100\n",
    "\n",
    "# Lista de valores e legendas para o plot\n",
    "\n",
    "lista = [Porcentagem_Norte , Porcentagem_Nordeste, Porcentagem_Sudeste, Porcentagem_Sul, Porcentagem_CO]\n",
    "label_lista = [\"Norte\" , \"Nordeste\", \"Sudeste\", \"Sul\", \"Centro Oeste\"]\n",
    "\n",
    "# plot do gráfico de pizza\n",
    "plt.axis('equal')\n",
    "plt.title(\"Distribuição por Regiões\")\n",
    "plt.pie(lista, labels = label_lista, autopct = '%1.1f%%')"
   ]
  },
  {
   "cell_type": "code",
<<<<<<< HEAD
   "execution_count": 9,
=======
   "execution_count": 6,
>>>>>>> ee52d75d662253a1ff491af09223713a456bc7a4
   "metadata": {
    "collapsed": false,
    "scrolled": true
   },
   "outputs": [
    {
     "data": {
      "text/html": [
       "<div>\n",
       "<table border=\"1\" class=\"dataframe\">\n",
       "  <thead>\n",
       "    <tr style=\"text-align: right;\">\n",
       "      <th>V0302</th>\n",
       "      <th>Homem</th>\n",
       "      <th>Mulher</th>\n",
       "    </tr>\n",
       "    <tr>\n",
       "      <th>UF</th>\n",
       "      <th></th>\n",
       "      <th></th>\n",
       "    </tr>\n",
       "  </thead>\n",
       "  <tbody>\n",
       "    <tr>\n",
       "      <th>Norte</th>\n",
       "      <td>29492</td>\n",
       "      <td>29695</td>\n",
       "    </tr>\n",
       "    <tr>\n",
       "      <th>Nordeste</th>\n",
       "      <td>50363</td>\n",
       "      <td>54234</td>\n",
       "    </tr>\n",
       "    <tr>\n",
       "      <th>Sudeste</th>\n",
       "      <td>50606</td>\n",
       "      <td>54522</td>\n",
       "    </tr>\n",
       "    <tr>\n",
       "      <th>Sul</th>\n",
       "      <td>27210</td>\n",
       "      <td>28906</td>\n",
       "    </tr>\n",
       "    <tr>\n",
       "      <th>Centro Oeste</th>\n",
       "      <td>18431</td>\n",
       "      <td>19096</td>\n",
       "    </tr>\n",
       "  </tbody>\n",
       "</table>\n",
       "</div>"
      ],
      "text/plain": [
       "V0302         Homem  Mulher\n",
       "UF                         \n",
       "Norte         29492   29695\n",
       "Nordeste      50363   54234\n",
       "Sudeste       50606   54522\n",
       "Sul           27210   28906\n",
       "Centro Oeste  18431   19096"
      ]
     },
<<<<<<< HEAD
     "execution_count": 9,
=======
     "execution_count": 6,
>>>>>>> ee52d75d662253a1ff491af09223713a456bc7a4
     "metadata": {},
     "output_type": "execute_result"
    }
   ],
   "source": [
    "dados.UF = dados.UF.astype('category')\n",
    "dados.UF.cat.categories = ('Norte', 'Nordeste', 'Sudeste', 'Sul', 'Centro Oeste')\n",
    "\n",
    "dados.V0302 = dados.V0302.astype('category')\n",
    "dados.V0302.cat.categories = ('Homem', 'Mulher')\n",
    "\n",
    "ct = pd.crosstab(dados.UF, dados.V0302)\n",
    "ct"
   ]
  },
  {
   "cell_type": "code",
<<<<<<< HEAD
   "execution_count": 10,
=======
   "execution_count": 7,
>>>>>>> ee52d75d662253a1ff491af09223713a456bc7a4
   "metadata": {
    "collapsed": false,
    "scrolled": true
   },
   "outputs": [
    {
<<<<<<< HEAD
     "name": "stderr",
     "output_type": "stream",
     "text": [
      "C:\\Users\\VictorHugo\\Anaconda3\\lib\\site-packages\\pandas\\core\\internals.py:3253: VisibleDeprecationWarning: converting an array with ndim > 0 to an index will result in an error in the future\n",
      "  block = self.blocks[self._blknos[i]]\n"
     ]
    },
    {
     "data": {
      "text/plain": [
       "<matplotlib.axes._subplots.AxesSubplot at 0x20bbe25edd8>"
      ]
     },
     "execution_count": 10,
=======
     "data": {
      "text/plain": [
       "<matplotlib.axes._subplots.AxesSubplot at 0x24341d65860>"
      ]
     },
     "execution_count": 7,
>>>>>>> ee52d75d662253a1ff491af09223713a456bc7a4
     "metadata": {},
     "output_type": "execute_result"
    },
    {
     "data": {
      "image/png": "iVBORw0KGgoAAAANSUhEUgAAAYEAAAFRCAYAAACSZxELAAAABHNCSVQICAgIfAhkiAAAAAlwSFlz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\nEgqYdfoAAAAASUVORK5CYII=\n",
      "text/plain": [
<<<<<<< HEAD
       "<matplotlib.figure.Figure at 0x20baf1ca9e8>"
=======
       "<matplotlib.figure.Figure at 0x24336271320>"
>>>>>>> ee52d75d662253a1ff491af09223713a456bc7a4
      ]
     },
     "metadata": {},
     "output_type": "display_data"
    }
   ],
   "source": [
    "x = pd.crosstab (dados.UF, dados.V0302)\n",
    "x.plot(kind='bar', color=('green', 'salmon'), title = 'Distribuição de gênero por região')"
   ]
  },
  {
   "cell_type": "code",
<<<<<<< HEAD
   "execution_count": 11,
=======
   "execution_count": 8,
>>>>>>> ee52d75d662253a1ff491af09223713a456bc7a4
   "metadata": {
    "collapsed": false
   },
   "outputs": [
    {
     "data": {
      "text/html": [
       "<div>\n",
       "<table border=\"1\" class=\"dataframe\">\n",
       "  <thead>\n",
       "    <tr style=\"text-align: right;\">\n",
       "      <th>V0404</th>\n",
       "      <th>Indígena</th>\n",
       "      <th>Branca</th>\n",
       "      <th>Preta</th>\n",
       "      <th>Amarela</th>\n",
       "      <th>Parda</th>\n",
       "      <th>SD</th>\n",
       "    </tr>\n",
       "    <tr>\n",
       "      <th>UF</th>\n",
       "      <th></th>\n",
       "      <th></th>\n",
       "      <th></th>\n",
       "      <th></th>\n",
       "      <th></th>\n",
       "      <th></th>\n",
       "    </tr>\n",
       "  </thead>\n",
       "  <tbody>\n",
       "    <tr>\n",
       "      <th>Norte</th>\n",
       "      <td>912</td>\n",
       "      <td>14044</td>\n",
       "      <td>4376</td>\n",
       "      <td>180</td>\n",
       "      <td>39675</td>\n",
       "      <td>0</td>\n",
       "    </tr>\n",
       "    <tr>\n",
       "      <th>Nordeste</th>\n",
       "      <td>398</td>\n",
       "      <td>28656</td>\n",
       "      <td>10756</td>\n",
       "      <td>280</td>\n",
       "      <td>64501</td>\n",
       "      <td>6</td>\n",
       "    </tr>\n",
       "    <tr>\n",
       "      <th>Sudeste</th>\n",
       "      <td>160</td>\n",
       "      <td>53863</td>\n",
       "      <td>9782</td>\n",
       "      <td>547</td>\n",
       "      <td>40776</td>\n",
       "      <td>0</td>\n",
       "    </tr>\n",
       "    <tr>\n",
       "      <th>Sul</th>\n",
       "      <td>115</td>\n",
       "      <td>43363</td>\n",
       "      <td>2639</td>\n",
       "      <td>271</td>\n",
       "      <td>9728</td>\n",
       "      <td>0</td>\n",
       "    </tr>\n",
       "    <tr>\n",
       "      <th>Centro Oeste</th>\n",
       "      <td>103</td>\n",
       "      <td>15292</td>\n",
       "      <td>2577</td>\n",
       "      <td>193</td>\n",
       "      <td>19362</td>\n",
       "      <td>0</td>\n",
       "    </tr>\n",
       "  </tbody>\n",
       "</table>\n",
       "</div>"
      ],
      "text/plain": [
       "V0404         Indígena  Branca  Preta  Amarela  Parda  SD\n",
       "UF                                                       \n",
       "Norte              912   14044   4376      180  39675   0\n",
       "Nordeste           398   28656  10756      280  64501   6\n",
       "Sudeste            160   53863   9782      547  40776   0\n",
       "Sul                115   43363   2639      271   9728   0\n",
       "Centro Oeste       103   15292   2577      193  19362   0"
      ]
     },
<<<<<<< HEAD
     "execution_count": 11,
=======
     "execution_count": 8,
>>>>>>> ee52d75d662253a1ff491af09223713a456bc7a4
     "metadata": {},
     "output_type": "execute_result"
    }
   ],
   "source": [
    "# Dar nome as categorias\n",
    "dados.V0404 = dados.V0404.astype('category')\n",
    "dados.V0404.cat.categories = ('Indígena', 'Branca', 'Preta', 'Amarela', 'Parda','SD')\n",
    "\n",
    "ct = pd.crosstab(dados.UF, dados.V0404)\n",
    "ct"
   ]
  },
  {
   "cell_type": "code",
<<<<<<< HEAD
   "execution_count": 12,
=======
   "execution_count": 9,
>>>>>>> ee52d75d662253a1ff491af09223713a456bc7a4
   "metadata": {
    "collapsed": false
   },
   "outputs": [
    {
     "data": {
      "text/plain": [
<<<<<<< HEAD
       "<matplotlib.axes._subplots.AxesSubplot at 0x20bbd907128>"
      ]
     },
     "execution_count": 12,
=======
       "<matplotlib.axes._subplots.AxesSubplot at 0x2433e714da0>"
      ]
     },
     "execution_count": 9,
>>>>>>> ee52d75d662253a1ff491af09223713a456bc7a4
     "metadata": {},
     "output_type": "execute_result"
    },
    {
     "data": {
      "image/png": "iVBORw0KGgoAAAANSUhEUgAAAYEAAAFRCAYAAACSZxELAAAABHNCSVQICAgIfAhkiAAAAAlwSFlz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\n",
      "text/plain": [
<<<<<<< HEAD
       "<matplotlib.figure.Figure at 0x20bbadf7b70>"
=======
       "<matplotlib.figure.Figure at 0x243418780f0>"
>>>>>>> ee52d75d662253a1ff491af09223713a456bc7a4
      ]
     },
     "metadata": {},
     "output_type": "display_data"
    }
   ],
   "source": [
    "x = pd.crosstab (dados.UF, dados.V0404)\n",
    "x.plot(kind='bar', title = 'Distribuição de cor/raça por região')"
   ]
  },
  {
   "cell_type": "code",
<<<<<<< HEAD
   "execution_count": 13,
=======
   "execution_count": 10,
>>>>>>> ee52d75d662253a1ff491af09223713a456bc7a4
   "metadata": {
    "collapsed": false
   },
   "outputs": [
    {
     "data": {
      "text/html": [
       "<div>\n",
       "<table border=\"1\" class=\"dataframe\">\n",
       "  <thead>\n",
       "    <tr style=\"text-align: right;\">\n",
       "      <th>V6002</th>\n",
       "      <th>Pública</th>\n",
       "      <th>Privada</th>\n",
       "    </tr>\n",
       "    <tr>\n",
       "      <th>UF</th>\n",
       "      <th></th>\n",
       "      <th></th>\n",
       "    </tr>\n",
       "  </thead>\n",
       "  <tbody>\n",
       "    <tr>\n",
       "      <th>Norte</th>\n",
       "      <td>16305</td>\n",
       "      <td>3155</td>\n",
       "    </tr>\n",
       "    <tr>\n",
       "      <th>Nordeste</th>\n",
       "      <td>23395</td>\n",
       "      <td>7953</td>\n",
       "    </tr>\n",
       "    <tr>\n",
       "      <th>Sudeste</th>\n",
       "      <td>19898</td>\n",
       "      <td>7307</td>\n",
       "    </tr>\n",
       "    <tr>\n",
       "      <th>Sul</th>\n",
       "      <td>10770</td>\n",
       "      <td>3663</td>\n",
       "    </tr>\n",
       "    <tr>\n",
       "      <th>Centro Oeste</th>\n",
       "      <td>7587</td>\n",
       "      <td>3111</td>\n",
       "    </tr>\n",
       "  </tbody>\n",
       "</table>\n",
       "</div>"
      ],
      "text/plain": [
       "V6002         Pública  Privada\n",
       "UF                            \n",
       "Norte           16305     3155\n",
       "Nordeste        23395     7953\n",
       "Sudeste         19898     7307\n",
       "Sul             10770     3663\n",
       "Centro Oeste     7587     3111"
      ]
     },
<<<<<<< HEAD
     "execution_count": 13,
=======
     "execution_count": 10,
>>>>>>> ee52d75d662253a1ff491af09223713a456bc7a4
     "metadata": {},
     "output_type": "execute_result"
    }
   ],
   "source": [
    "# Dar nome as categorias\n",
    "dados.V6002 = dados.V6002.astype('category')\n",
    "dados.V6002.cat.categories = ('Pública', 'Privada')\n",
    "\n",
    "ct = pd.crosstab(dados.UF, dados.V6002)\n",
    "ct"
   ]
  },
  {
   "cell_type": "code",
<<<<<<< HEAD
   "execution_count": 14,
=======
   "execution_count": 11,
>>>>>>> ee52d75d662253a1ff491af09223713a456bc7a4
   "metadata": {
    "collapsed": false
   },
   "outputs": [
    {
<<<<<<< HEAD
     "name": "stderr",
     "output_type": "stream",
     "text": [
      "C:\\Users\\VictorHugo\\Anaconda3\\lib\\site-packages\\pandas\\core\\internals.py:3253: VisibleDeprecationWarning: converting an array with ndim > 0 to an index will result in an error in the future\n",
      "  block = self.blocks[self._blknos[i]]\n"
     ]
    },
    {
     "data": {
      "text/plain": [
       "<matplotlib.axes._subplots.AxesSubplot at 0x20bb9983cf8>"
      ]
     },
     "execution_count": 14,
=======
     "data": {
      "text/plain": [
       "<matplotlib.axes._subplots.AxesSubplot at 0x2433ecb4eb8>"
      ]
     },
     "execution_count": 11,
>>>>>>> ee52d75d662253a1ff491af09223713a456bc7a4
     "metadata": {},
     "output_type": "execute_result"
    },
    {
     "data": {
      "image/png": "iVBORw0KGgoAAAANSUhEUgAAAYEAAAFRCAYAAACSZxELAAAABHNCSVQICAgIfAhkiAAAAAlwSFlz\nAAALEgAACxIB0t1+/AAAIABJREFUeJzt3XucVXW9//HXG/DGCDqgMjjc7CgqyglR0SxtwPJ2UlE8\nJJqp2O2gR806Kf48ienPsn6adrGTV9A0Qutknkg0iVKLwnuJJZpcRYyboHJK5PP7Y61h9gx7ZvbM\nbGZtZr2fj8d+sPd3XfZnffewP3t9v2t9v4oIzMwsn7plHYCZmWXHScDMLMecBMzMcsxJwMwsx5wE\nzMxyzEnAzCzHnASsJJI2SXpf1nG0RtKrksZk8L6XSLqn1FgkfVjSkoLXf5J01NaOs5wkzZR01lbY\n75WS7i73fq24HlkHYFuHpIXAHsBG4C1gFnB+RLzTzl36hpJmSBoMnAkc2cZNN9dpRBxY1qA6QUSc\nsDV3vxX3bQV8JtB1BfAvEdEbGAEcBEzuwP5UlqgqlKTuHdh8X+CsDiTYbY6kLv33kCdOAl2bACLi\nDZIzgRGbF0jbS/p/khZJWi7pZkk7FCz/D0mvSVoq6VwKfpm1tu0WQUgTJc2XtErSLyQNKlj2TUkr\nJL0p6TlJw9LyHSVdL2mhpDWSflP/HpJOSptPVkuaLWm/Zt73UEm/TbdfJunbknoULN8kaZKkl4CX\nimw/OF3n0+n2yyR9oWD5nZK+EhEPR8T8pk08qVGSXkiP/XZJ2zcT6+amI0ndJF0u6eW0XuZJqk2X\n3ShpcUH5h1qo95I/J0lnS3o8raO16ec1pmD5ryRdk67zNrBXWjYxfZ819Z9duv5ukt5J/91V0oOS\n3kjr4UFJexasO0TSnPSYZgG7NYltRhr/mnS9YVjZOAnkgKQBwPHAgoLi64C9gX9O/60Fvpyufxxw\nCXA0sA/wkSa7bHbbIu99MnAZMBbYHXgM+GG67BjgQ8DeEbELMB5YlW56PcnZy+FAH+BLwCZJQ4F7\ngQvT/f0CeLDwy73Ae8DF6fYfAMYAk5qsczJwKNDSF0sd8E/AscClarnPoWkzxhnAR9Pt9wWuaGHb\nel8APg4cl9bLRKD+LOMPJPVeTVIP9zWXWGjD55Q6jORvpC8wBfiJpF0Lln8C+BTQC1hcXxgR/wB+\nDEwoWHc8MCciVpJ8z9wBDAQGpcfy3YJ17wXmkXz5XwOc3SSumST1twfwNHAPVj4R4UcXfACvAuvS\nxybgEaB3wfK3gL0KXn8A+Gv6/Hbg2oJl+6T7eF9r2xaJYyZwbsHrbsDbJF8Io4E/k3z5qGAdkXxR\nHFhkf1cA05usuxQ4quC4xzQTy0XAjwtebwI+3EIdDk7X2aeg7Drg1vT5ncBXCpZ9GFjc5DP4dMHr\n44EFLaw7Jn3+Z+BjJX7Oq4HhzSxry+d0NrC0SdnvgTPT578CpjRZ/itgYvr8aODlgmWPA59o5r1G\nAKvS54OAfwA7FSy/B7irmW13TT+TXln+/+pKD3cMd20nR8SvJB1J8mtrN2CdpN2BnsBTamja7UZD\nu/+ewJMF+1lU/6SEbZsaDNwk6fr6XZD8Wq5NY/sOya/CQZJ+AnwR2AnYAfhrkf3tWRhPRETaBFPb\ndEVJ+wA3AIek++wBPNVktaXNxL35LZqsswhoSydu0233bG7FAgMpfuxI+iLJmUH/tKgXTZpP0vXa\n+jkBLGvyumm8TZu6Cv0K2EnSocAbwPuB/05j2Qm4keRMatc0hp2VBNYfWBMRG5q874B0227AtcBp\n6XFG+tgNWN9CPFYiNwd1bfV9Ao8B00iaWABWkvzSPiAi+qSPXSNpegBYTvJFVG8wDc0crW3b1GLg\nswXrVkfEzhExN43tOxFxCElzzL7Af6Tv8XeSJoCmXkvjKTSQ4l/m3wNeBP4pInYF/g9bfgm2dhWK\naFwXg9IYIDmj6VmwrD9balqPrxVZp6klFDn2tP3/P4DT0nqsJjnTK/bF3tbPCbZMpIXHCi3UVURs\nAmaQNH9NAP4nIt5OF3+B5Gzy0PRzqL8UViR/a9Vpoih833pnAieSnCXtCgxJt3PHdJk4CeTHjcBH\nJQ2P5Lz6VuDG9BcjkmrTNnpI/jOfI2l/ST0paEcuYdumvg9cXtDhu4uk09Lnh0galbbnbwD+F9iU\nvscdwA2S+qcdpYdL2i6N7V8kjZbUI/1l/L/A74q8dy9gXUS8o6Tz+N/aV3X8p6SdJB0AnAtMT8uf\nBU6QVC2phqS5qanz0/rpA1xesG1LbgOulrQ3gKTh6fa9gHeBVWln7JfTsi2043MC2EPSv6f1+q/A\nfsDPS4i33g9J+jLOIDnzrNeL5PNdlx7HlII4F5OcdV4labs00Z1YsO3OJD8I1kiqAr6KLx8tKyeB\nrqvRf5RIOuim0fCFfhnwMjBX0lrgYWBouu5DJEljNslVM4822felzW27RRARPwW+BkxP130eOC5d\n3Jvki2o1SZv4SuAb6bIvAn8k6TBcle6jW0S8RNJB+R3gb8C/ACdGxMYix/1F4ExJ60iSUdMv4FK/\nTH6dHu8jwNcjor4+7k6PZyHwUDP7v5ekfl4m6XT9v828R2EsN5Aku4clvUmSFHYkucJrFsln8irJ\nL/2WmmhK/pxSvyf5xb4SuBoYFxFri8RXLGYi4g8kZ0f9STrs691Icsa0EvgtST9RoTNILgBYBfwn\nyd9pvbtIziaXAX9Kt7cyUvKDoYUVkitL7gL6kXTI3BIR35Z0JfBpkvY/gMvTLw8kTSZpt9wIXBQR\nD6flI4GpJH/QMyPi4rR8+/Q9Dib5Q/l4+gvBLDNKbgL7K7Bd2tzRZUk6GzgvIrapu5at40o5E9gI\nXBIRB5BcXXCBGq7LviEiRqaP+gSwP8nlYfuTXA1xsxp6pr5H8oc2FBgq6di0/DxgdUTsQ/Kr4evl\nODizMnDbs3VprSaBiHg9Ip5Nn79F0tFW34FU7D/IySSX8G2MiIUkp8Cj0jbTXhExL13vLpJrx+u3\nqT8FvJ/kcjOzSuD2Z+vS2tQnIGkIyTW+v0+LLpD0rKTbJNVfdVBL43bKZWlZLY2v4FhKQzLZvE1E\nvAesTTuQzDITEYsiontXbwoCiIhpbgrKp5KTgKSdSX6lX5SeEdxMcvPQCOB1Gi4/LAefgpuZdYKS\nbhZLL+G7H7g7Ih4AiIi/FaxyK/Bg+nwZja+NHpCWNVdeuM1rSgby6h0Rq4vE4VNzM7N2iIiiP65L\nPRO4A5gfETfVF6Rt/PVOJbl8C+BnwOnpdcx7kYxZ8oeIeB14M70uXMAngQcKtqkfL+RfSS5NbO5A\nMn9ceeWVmcdQKQ/XhevBdVH5ddGSVs8EJH2Q5K69P0p6hqSj7HLgDEkjSC4bXQh8Nv2Sni9pBjCf\n5MaWSdEQxfk0vkT0obT8duBuSQtIrhU+vbW4zMys41pNAhHxBFBsrPWHipTVb/NVkjv7mpY/BQwv\nUv53kstKzcysE/mO4Xaoq6vLOoSK4bpIuB4auC4abAt10eodw5VEUmxL8ZqZVQJJRDMdwx5K2sw6\nxZAhQ1i0aFHrK1q7DR48mIULF7ZpG58JmFmnSH+NZh1Gl9ZcHbd0JuA+ATOzHHMSMDPLMScBM7Mc\ncxIwsy5rzJgxPPLII43KbrrpJs4//3yWLFnCsccey7BhwzjwwANZvDiZwmThwoUcfvjhDB06lAkT\nJrBx48bN21544YXss88+jBgxgmeffRaApUuXMmbMGA444ACGDx/Ot771rc47wHLI+nbmNt76HGa2\nbcri/++tt94a5557bqOyww8/PB577LGoq6uLRx99NCIi3n777diwYUNERIwfPz5mzJgRERGf+9zn\n4r/+678iImLmzJlxwgknRETE3Llz47DDDouIiOXLl8czzzwTERHr16+PoUOHxosvvrj1D66I5uo4\nLS/6veozATPrssaNG8fMmTM3/5pftGgRy5cvp0+fPrz33nuMGTMGgJ49e7LjjjsCMHv2bMaNGwfA\n2WefzU9/+lMAHnjgAT75yU8CcNhhh/Hmm2+yYsUKampqGDFiBAA777wz+++/P8uWLWNb4SSQYzU1\nQ5DUoUdNzZCsD8OsWdXV1YwaNYpf/CKZ8nj69OmMHz+eBQsWsMsuuzBu3DgOPvhgLr30UiKCVatW\nUV1dTbduyVfjgAEDNn+hL1u2jIEDGwZCrq2t3eLLfuHChTz77LMcdthhnXSEHeckkGMrViwiGQ+w\n/Y9kH2aV6/TTT2f69OlAkgTq2/kff/xxbrjhBubNm8crr7zC1KlTAdp9L8Nbb73Faaedxk033cTO\nO+9crvC3OicBM+vSTj75ZB599FGeeeYZNmzYwEEHHcSAAQMYMWIEgwcPplu3bowdO5ann36avn37\nsnbtWjZtSiaTW7p0KbW1yQSItbW1LFnSMGli4bKNGzdy2mmncdZZZ3HyySd3/kF2gJOAmXVpVVVV\n1NXVMXHiRCZMmADAoYceytq1a1m1ahWQ9AMMGzYMSK4ouu+++wCYNm3a5i/1k046ibvuuguAuXPn\nsuuuu9KvXz8AJk6cyLBhw7jooos69djKwcNG5Fgyt09H69NDAVhpshw24oEHHuDUU0/lxRdfZOjQ\noQA8+uijXHLJJQAcfPDB3HLLLfTo0YNXX32V008/nTVr1nDQQQfxgx/8gO222w6ACy64gIceeoiq\nqiqmTp3KQQcdxBNPPMFRRx3F8OHDN/eVXXvttRx33HGdfpztGTbCSSDHnASsM3nsoK3PYweZmVmb\nOAmYmeWYk4CZWY45CZiZ5ZiTgJlZjjkJmJnlmJOAmVmOOQmYmZVo7Nix3HLLLZtfL1q0iG7dum0e\nZqKpq666irPOOguAJUuW0Lt374q7V8JJwMwyU46RbMs1yu2QIUPo2bMnvXv3pn///px77rm88847\nm5fff//9VFVV8ZnPfKbRdslNl82rXz5w4EDWrVvX6vqdzUnAzDJTjpFsyzXKrSR+/vOfs27dOp5+\n+mmefPJJrrnmms3L165d2+gsoKtwEjAzS9U31fTv35/jjz+eP/7xj+y1117Mnj2bT33qU1RVVTVq\n4qnf5vbbb6e2tpba2lquv/76ovtu2nS0Zs0aJk6cSG1tLX379uXUU08FkmRz4oknsscee9C3b19O\nPPFEXnvtta12zE4CZmZNLFmyhJkzZzJy5MiizTdNy+bMmcMrr7zCrFmzuO6665g9e3bR/RZu94lP\nfIINGzbw4osv8sYbb/D5z38egE2bNjFx4kSWLFnC4sWL6dmzJxdccEEZj64xJwEzs9TYsWPp06cP\nRx11FKNHj2by5MkldeROmTKFHXfckQMPPJBzzz2XH/7why2uv3z5cmbNmsX3v/99evfuTffu3Tny\nyCMB6NOnD6eccgo77LADVVVVTJ48mV//+tdlOb5iemy1PZuZbWMeeOABRo8e3aZtJDFgwIDNrwcP\nHsyf/vSnFrdZunQpffr0oXfv3lss27BhAxdffDGzZs1i7dq1RARvvfUWEbFVOpV9JmBmlir2q7+q\nqqrRVUKvv/76FusUzji2ePFi9txzzxbfZ+DAgaxevZp169Ztsez6669nwYIFzJs3j7Vr1/Kb3/ym\n2djKwUnAzKwFI0aMYPr06WzcuJEnn3yS+++/v9HyiODqq69mw4YNvPDCC9x5552cfvrpRfdV/0Ve\nU1PD8ccfz6RJk1i7di3vvvsujz32GADr169np512onfv3qxevZopU6Zs1eNzEjAzo/nr/a+++mpe\nfvll+vTpw1VXXcWZZ565xXYf/vCH2XvvvfnoRz/Kl770JY4++uhW3+Puu++mR48e7LffftTU1HDT\nTTcBcPHFF/POO++w2267ccQRR3DCCSeU6QiL88xiOeaZxawzFZv1qqZmSJuu5W+rfv0G8/rrC7fa\n/iuNp5e0NnESsM7k6SW3Pk8vaWZmbdJqEpA0QNJsSS9I+qOkC9PyakkPS/qLpFmSdinYZrKkBZJe\nlHRMQflISc9LeknSjQXl20uanm7zO0mDyn2gZma2pVLOBDYCl0TEAcAHgPMl7QdcBvwyIvYFZgOT\nASQNA8YD+wPHAzeroTfke8B5ETEUGCrp2LT8PGB1ROwD3Ah8vSxHZ2ZmLWo1CUTE6xHxbPr8LeBF\nYABwMjAtXW0aMDZ9fhIwPSI2RsRCYAEwSlIN0Csi5qXr3VWwTeG+7geKd62bmVlZtalPQNIQYAQw\nF+gXESsgSRTAHulqtcCSgs2WpWW1wNKC8qVpWaNtIuI9YK2kPm2JzczM2q7kJCBpZ5Jf6RelZwRN\nu6DL2e1fWQNum5l1USWNHSSpB0kCuDsiHkiLV0jqFxEr0qaeN9LyZcDAgs0HpGXNlRdu85qk7kDv\niFhdLJbCu+fq6uqoq6sr5RDMzHJjzpw5zJkzp6R1S7pPQNJdwMqIuKSg7DqSztzrJF0KVEfEZWnH\n8D3AYSTNPI8A+0RESJoLXAjMA34OfCsiHpI0CTgwIiZJOh0YGxFb3Hft+wTKy/cJNOjoTUt5uymp\nPbrSfQInnHACEyZMaDSvQDlcddVVvPzyy9x9993t2r499wm0eiYg6YPAmcAfJT1D8q1xOXAdMEPS\nRGARyRVBRMR8STOA+cC7wKSCb+7zganAjsDMiHgoLb8duFvSAmAVUHzgDbOtpGGGq/Zu7xbM9qgZ\nUMOKZSu22v771fbj9aVbDvhWzJAhQ3jjjTfo0aMHVVVVHHfccXz3u9+lZ8+eW6w7c+bMcoe6WWdP\nP9lqEoiIJ4DuzSz+SDPbfBX4apHyp4DhRcr/TppEzCw/VixbAVO24v6nlJ5g6qeXHD16NMuXL+eY\nY47hmmuu4dprr2203tYa0jkrvmPYzCxVbHrJ0aNHc8UVV/ChD32IqqoqXn31VUaPHs0dd9zBP/7x\nD6qrq5k/f/7mfaxcuZKePXuycuXKVqeKXLhwIXV1deyyyy4ce+yxrFy5slE848ePp3///lRXV1NX\nV9fofcrFScDMrInC6SUBfvCDH3Dbbbexfv16Bg1qGNBg++23Z9y4cY1mEpsxYwZ1dXXstttuRaeK\nPP/88zeve8YZZ3DooYeycuVKrrjiCqZNm0ahE044gVdeeYU33niDkSNHbjGCaTk4CZiZpZpOL3n5\n5ZcDcM4557DffvvRrVs3evRo3Io+YcKERkng3nvv5YwzzgCKTxVZP0nM4sWLefLJJ/nKV77Cdttt\nx5FHHsmJJ57YaN/nnHMOPXv2ZLvttuPLX/4yzz33HOvXry/rMXt6STOzVHPTSw4cOLDI2onRo0ez\nYcMG5s2bxx577MFzzz3HKaecArQ8VeTy5cuprq5mp5122ryvwYMHs3Rpck/tpk2buPzyy7n//vtZ\nuXIlkpDEypUr6dWrV9mO2UnAzCzV3CWsLXUEd+vWjfHjx3PvvffSr18/Pvaxj1FVVQU0nipy9913\n57nnnmPkyJFEBP3792fNmjVs2LBhcyJYvHgx3bolDTT33HMPDz74ILNnz2bQoEG8+eabVFdXl/0y\nWzcHmZl10IQJE/jRj37UqCkIWp4qctCgQRxyyCFceeWVvPvuuzz++OM8+OCDm5e/9dZb7LDDDlRX\nV/P2228zefJkTzRvZra1NPcFW6y8admoUaOoqqpi+fLlHH/88ZvLW5sq8t5772Xu3Ln07duXq6++\nmrPPPnvzsk9+8pMMGjSI2tpaDjzwQI444oiOHF6zPLNYjvmO4QYdr4uuUQ9bU9HpJSvoZrGuwNNL\nWps4CTRwEtj6utKwEZXK00uamVmbOAmYmeWYk4CZWY45CZiZ5ZiTgJlZjjkJmJnlmIeNMLNOMXjw\n4C41Dn8lGjx4cJu38X0COeb7BBr4PgHrynyfgJmZFeUkYGaWY04CZmY55iRgZpZjTgJmZjnmJGBm\nlmNOAmZmOeYkYGaWY04CZmY55iRgZpZjTgJmZjnmJGBmlmO5SwI1NUOQ1KFHTc2QrA/DzKwscjeK\nqEfObOC6aOBRRK0r8yiiZmZWlJOAmVmOOQmYmeWYk4CZWY61mgQk3S5phaTnC8qulLRU0tPp47iC\nZZMlLZD0oqRjCspHSnpe0kuSbiwo317S9HSb30kaVM4DNDOz5pVyJnAncGyR8hsiYmT6eAhA0v7A\neGB/4HjgZjXMLP094LyIGAoMlVS/z/OA1RGxD3Aj8PX2H46ZmbVFq0kgIh4H1hRZVOxyo5OB6RGx\nMSIWAguAUZJqgF4RMS9d7y5gbME209Ln9wNHlx6+mZl1REf6BC6Q9Kyk2yTtkpbVAksK1lmWltUC\nSwvKl6ZljbaJiPeAtZL6dCAuMzMrUXuTwM3A+yJiBPA6cH35Qip6hmFmZltBj/ZsFBF/K3h5K/Bg\n+nwZMLBg2YC0rLnywm1ek9Qd6B0Rq5t77ylTpmx+XldXR11dXXsOwcysy5ozZw5z5swpad2Sho2Q\nNAR4MCKGp69rIuL19PnngUMj4gxJw4B7gMNImnkeAfaJiJA0F7gQmAf8HPhWRDwkaRJwYERMknQ6\nMDYiTm8mDg8bUUauiwYeNsK6spaGjWj1TEDSvUAd0FfSYuBKYLSkEcAmYCHwWYCImC9pBjAfeBeY\nVPCtfT4wFdgRmFl/RRFwO3C3pAXAKqBoAjAzs/LzAHLt20uX+NXnumjgMwHryjyAnJmZFeUkYGaW\nY04CZmY55iRgZpZjTgJmZjnmJGBmlmNOAmZmOeYkYGaWY04CZmY55iRgZpZjTgJmZjnmJGBmlmNO\nAmZmOeYkYGaWY04CZmY55iRgZpZjTgJmZjnmJGBmlmNOAmZmOeYkYGaWY04CZmY55iRgZpZjTgJm\nZjnmJGBmlmNOAmZmOeYkYGaWY04CZmY55iRgZpZjTgJmZjnmJGBmlmNOAmZmOeYkYGaWY04CZmY5\n5iRgZpZjTgJm1khNzRAktftRUzMk60OwNlBEZB1DySRFR+OVBHT0mMW2VG/NcV006HhddI16ANdF\nVySJiFCxZa2eCUi6XdIKSc8XlFVLeljSXyTNkrRLwbLJkhZIelHSMQXlIyU9L+klSTcWlG8vaXq6\nze8kDWr/oZqZWVuU0hx0J3Bsk7LLgF9GxL7AbGAygKRhwHhgf+B44GYlPysAvgecFxFDgaGS6vd5\nHrA6IvYBbgS+3oHjMTOzNmg1CUTE48CaJsUnA9PS59OAsenzk4DpEbExIhYCC4BRkmqAXhExL13v\nroJtCvd1P3B0O47DzMzaob0dw3tExAqAiHgd2CMtrwWWFKy3LC2rBZYWlC9NyxptExHvAWsl9Wln\nXGZm1gblujqonL1ARTsvzMys/Hq0c7sVkvpFxIq0qeeNtHwZMLBgvQFpWXPlhdu8Jqk70DsiVjf3\nxlOmTNn8vK6ujrq6unYegplZ1zRnzhzmzJlT0rolXSIqaQjwYEQMT19fR9KZe52kS4HqiLgs7Ri+\nBziMpJnnEWCfiAhJc4ELgXnAz4FvRcRDkiYBB0bEJEmnA2Mj4vRm4vAlomXkumjgyyIbuC66npYu\nEW31TEDSvUAd0FfSYuBK4GvAfZImAotIrggiIuZLmgHMB94FJhV8a58PTAV2BGZGxENp+e3A3ZIW\nAKuAognAzMzKzzeLtW8vXeKXjuuigX/9NnBddD0dulnMzMy6LicBM7MccxIwM8sxJwEzsxxzEjAz\nyzEnATOzHHMSMDPLMScBM7MccxIwM8sxJwEzsxxzEjAzyzEnATOzHHMSMDPLMScBM7MccxKwjume\nDFPb3kfNgJqsj8As1zyfQPv20iXGSy9XXTClA5tPoSLq0mPoN3BddD2eT8DMzIpyEjAza0ZNzZCO\nNXfWDMn6EFrV6hzDZmZ5tWLFIjrSNLZiRdEWmIriMwEzsxxzEjArhw5eJeUrpSwrbg4yK4f36NhV\nUsCKKSvKEYlZm/hMwMwsx5wEzMxyzEnAzCzHnATMzHLMScDMLMecBMzMcsxJwMwsx5wEzMxyzEnA\nzCzHnATMzHLMScDMLMecBMzMcsxJwMwsx5wEzMxyrENJQNJCSc9JekbSH9KyakkPS/qLpFmSdilY\nf7KkBZJelHRMQflISc9LeknSjR2JyczMStfRM4FNQF1EHBQRo9Kyy4BfRsS+wGxgMoCkYcB4YH/g\neOBmSfVzr30POC8ihgJDJR3bwbjMzKwEHU0CKrKPk4Fp6fNpwNj0+UnA9IjYGBELgQXAKEk1QK+I\nmJeud1fBNmZmthV1NAkE8IikeZI+lZb1i4gVABHxOrBHWl4LLCnYdllaVgssLShfmpaZmdlW1tHp\nJT8YEcsl7Q48LOkvJImhUNPXZmZWITqUBCJiefrv3yT9FBgFrJDULyJWpE09b6SrLwMGFmw+IC1r\nrryoKVOmbH5eV1dHXV1dRw7BzKzLmTNnDnPmzClpXUW074e6pJ5At4h4S1IV8DBwFXA0sDoirpN0\nKVAdEZelHcP3AIeRNPc8AuwTESFpLnAhMA/4OfCtiHioyHtGe+Mt2AcdPzkRHY2jEpSrLjo0wfoU\nKqIuO14XHawH6FJ1UQnHUQ5dpS4kEREqtqwjZwL9gP+WFOl+7omIhyU9CcyQNBFYRHJFEBExX9IM\nYD7wLjCp4Bv9fGAqsCMws1gCMDOz8mt3EoiIV4ERRcpXAx9pZpuvAl8tUv4UMLy9sZiZWfv4jmEz\nsxxzEjAzyzEnATOzHHMSMDPLMScBM7MccxIwM8sxJwEzsxxzEjCz8uqe3KHakUfNgJqsjyI3OjqA\nnJlZY+/R4SE0VkxZUY5IrAQ+EzAzyzEnATOzHHMSMDPLMSeB9uhgx5c7vcxyYhvoJHfHcHt0sOPL\nnV5mObENdJL7TMDMLMecBMzMcsxJwMwsx5wEzMxyzEnAzCzHnATMzHLMScDMLMecBMzMcsxJwMws\nx5wEzMxyzEnAzCzHnATMzHLMScDMLMecBMzMcsxJwMwsx5wEzMxyzEnAzCzHnATMzHLMScDMLMec\nBMzMcsxJwMwsxyomCUg6TtKfJb0k6dKs4zEzy4OKSAKSugHfAY4FDgAmSNov26jMzLq+ikgCwChg\nQUQsioh3genAyRnHZGbW5VVKEqgFlhS8XpqWmZnZVlQpScDMzDKgiMg6BiQdDkyJiOPS15cBERHX\nNVkv+2AazhwRAAAK90lEQVTNzLZBEaFi5ZWSBLoDfwGOBpYDfwAmRMSLmQZmZtbF9cg6AICIeE/S\nBcDDJE1UtzsBmJltfRVxJmBmZtlwx7CZWY45CZiZlZmknlnHUCongTbalj5cM+tcko6QNB/4c/r6\n/ZJuzjisFrlPoESSjgBuA3aOiEGS3g98NiImZRxap5PUD7gW2DMijpc0DPhARNyecWidyvUAkr4N\nNPslEhEXdmI4mZP0e+A04GcRcVBa9qeIODDbyJrnM4HSfZNkbKNVABHxHHBUphFlZyowC9gzff0S\ncHFm0WRnKq6HJ4GnWnjkTkQsaVL0XiaBlKgiLhHdVkTEEqnR/RYV/eFuRbtFxAxJkwEiYqOkPNZF\n7ushIqZlHUOFWZK2GoSk7YCLgIq+3N1JoHTb3Ie7Fb0tqS9pM0B6x/eb2YaUCddDStKvKNIsFBFj\nMggnS58DbiIZ+2wZyb1PFd1k7CRQum3uw92KLgF+BvyTpCeA3YF/zTakTLgeGnyx4PmOwDhgY0ax\nZGnfiDizsEDSB4EnMoqnVe4YLpGkD0bEE62V5YGkHUiawvYFRDLkR7eI+HumgXUy10PLJP0hIkZl\nHUdnkvR0RIxsrayS+EygdN8Gmn6Qxcry4HfpH/UL9QWSniZ/deF6SEnqU/CyG3AIsEtG4XQ6SR8A\njgB2l3RJwaLeQPdsoiqNk0ArtuUPt9wk1ZA0h+0k6SCSX7+Q1EVu7p9wPRT1FA19AhuBhcB5mUXT\n+bYHdib5Tu1VUL6O5JLRiuUk0Lpt9sPdCo4FzgEGANfT8OW3Hrg8o5iy4HpISToUWBIRe6Wvzybp\nD1gIzM8wtE4VEb8Gfi1pakQsgs3T5u4cEeuyja5l7hMoQTrU9YyIGJd1LJVA0riI+HHWcWTN9bC5\n+esjEbFa0lEkU8P+OzAC2D8icvVDSdK9JBeRvAfMIzk7vCkivpFpYC3wzWIliIj3aLghyGCApN5K\n3CbpaUnHZB1UBlwP0D0iVqfPPw7cEhE/joj/BPbOMK6sDEt/+Y8FfgHsBZyVbUgtcxIo3bOSfibp\nLEmn1j+yDiojE9M/9GOAviR/5F/LNqRMuB6gu6T6ZuWjgdkFy/LY3Lxdeh/RWJKhI96lhWE1KkEe\nP6T22pFkyIjCm18C+Ek24WSqvg38BOCuiHhBTW6lzgnXA/yQpC18JbABeAxA0t7k88a575P0hzwH\n/EbSYJL+w4rlPgFrM0l3klwdsxfwfpKrpOZExMGZBtbJXA+J9E7p/sDDEfF2WjaUpFP06UyDqwCS\nekRExd445yRQIkkDSO4L+GBa9BhwUUQszS6qbKRXPYwA/hoRa9OhE2oj4vmMQ+tUrgdralscWdZ9\nAqW7k2SIgD3Tx4NpWR4FMAyoHya4iqS5LG9cD9bUVLaxkWWdBEq3e0TcGREb08dUkrFi8uhm4APA\nhPT1euC72YWTGdeDNbVbRMwANkEysiwVPtqwk0DpVkn6hKTu6eMTpHML5NBhEXE+8L8AEbGG5Ka6\nvHE9WFPb3MiyvjqodBNJ+gS+SfIB/xY4N9OIsvNuegNd/R/67qS/fHLG9WBNFRtZtqJvmHPHsLWZ\npDNJbgwaCUwj+SO/IiLuyzSwTuZ6sGLS+yY2jyyb3itQsZwEWiHpyy0sjoi4utOCqSCS9iO5OUjA\noxGRywl2XA9WT9IewPnAAWnRC8B3I+KN7KJqnZNAKyR9oUhxFckIiX0jYudODikzTYYL3kLB8AFd\nmuvBmkonjrmX5Oqg+rmVDwbOBs6s5HlHnATaQFIvkmklzwNmANdXepYvJ0mvkrR/CxgErEmf7wos\nrh9JsqtzPVhTkuYC/xYRzzQpHwF8PyIOyyay1vnqoBJI6iPpGuB5ks70kRFxaZ4SAEBE7BUR7wN+\nCZwYEbtFRF/gYyTTbeaC68GK6N00AQBExLM0HoK+4jgJtELSN0iGhF0PDI+IKemlgHl2eETMrH8R\nEb8gmXgnb1wPVk+SqosU9qHCv2crOrgK8QWSu/+uAF6TtC59rJdU0QNDbUWvSbpC0pD08X+A17IO\nKgOuB6v3TeBhSR+W1Ct91JEMJ/3NbENrmfsErM3SXzdXAkeRtI3/BvhK3jpEm9QDJPVwVd7qwRKS\nPgZ8ieTqoCCZWe0bEfFgpoG1wknA2iS9Oeq6iPhi1rGYWcf5jmFrk4h4T9KHso6jEkj6FUUmDImI\nMUVWN6tITgLWHs9I+hlwH/B2fWFE5G2CncKzoR1JJliv2HHjzYpxc5C1WTqZSlMRERM7PZgKI+kP\nETEq6zjMSuUzAWuziMjrwHmNNLlzuBtwCLBLRuFYBZC0CzAFODIt+jXJRRMVO5Kok4C1mWdZ2+wp\nGvoENpLMLXteZtFYJbgD+BMwPn19FsnkU6dmFlEr3BxkbSbpEZJxUu5Oiz5BMj7KR7OLqvNIOhRY\nEhGvp6/PJukPWAhM8SWi+SXp2YgY0VpZJfHNYtYeeZ9l7fvAPwAkHQV8lWQo6TeBWzKMy7K3ofDq\nuXRguQ0ZxtMqNwdZe6xKZ1b7Yfp6AvmaZa17wa/9jwO3RMSPgR9LejbDuCx7nwPuSvsGIBlc8OwM\n42mVk4C1R95nWesuqUc6f+zRwGcKlvn/VE5J6gbsGxHvl9QbICIqfmgZ9wmYtVE6RtAJwEqSoaRH\nRkRI2huYFhEfbHEH1mVJejIiDsk6jrZwErCSeZa1BukE4v2BhyPi7bRsKLBzRDydaXCWGUlfI/lx\n8CMa30hZsRcLOAlYyTzLmlnL0gmHmop0/omK5CRg7ZL3WdbMipG0Y0T8b2tllcSXiFqbeJY1sxb9\ntsSyiuErGaxk6Sxrp5JcCz88It7KOCSziiCpBqgFdpJ0EMmc0wC9gZ6ZBVYCNwdZySRtAv5OMkRC\n4R+OSNo9e2cSmFnG0rvGzyEZP+rJgkXrgamVPMKuk4CZWZlIGpfeOLjNcBIwMysTSTuQjCM1hILm\n9oj4SlYxtcZ9AmZm5fMAyRhST5E0nVY8nwmYmZWJpD9FxIFZx9EWvkTUzKx8fitpeNZBtIXPBMzM\nykTSfGBv4FWS5qD6K+f+OdPAWuAkYGZWJpIGFyuPiEWdHUup3BxkZlYm6Zf9QGBM+vwdKvx71mcC\nZmZlIulKkhvG9o2IoZL2BO6r5OHFKzpDmZltY04BTiIdRjoiXgN6ZRpRK5wEzMzK5x+RNK8EgKSq\njONplZOAmVn5zJD0fWBXSZ8GfgncmnFMLXKfgJlZGUn6KHAMyeWhsyLikYxDapGTgJlZB6XzS/eL\niCealH8IWB4Rr2QTWevcHGRm1nE3AuuKlL+ZLqtYTgJmZh3XLyL+2LQwLRvS+eGUzknAzKzjdm1h\n2U6dFkU7OAmYmXXck+nVQI1I+hTJsNIVyx3DZmYdJKkf8N/AP2j40j8E2B44JSJezyq21jgJmJmV\niaTRQP18Ai9ExOws4ymFk4CZWY65T8DMLMecBMzMcsxJwMwsx3pkHYDZtiadPep/ImJ4QdmVwFsk\nnYIfBtami+6IiO90fpRmpXESMGuf5q6oCOCLEfGTzgzGrL3cHGRWfso6ALNSOQmYlU+QJIBvSHpG\n0tOSDsg6KLOWuDnIrO1aurnGzUG2TfGZgFnbrQL6NCnrA/wNNwXZNsZJwKyNIuJt4LV0iAAk9QGO\nBR7PNDCzdnBzkFn7fBK4WdINJE1AUyLiVUkeh8W2KR47yMwsx9wcZGaWY04CZmY55iRgZpZjTgJm\nZjnmJGBmlmNOAmZmOeYkYGaWY04CZmY59v8Bmeg6IFScKUAAAAAASUVORK5CYII=\n",
      "text/plain": [
<<<<<<< HEAD
       "<matplotlib.figure.Figure at 0x20bba916fd0>"
=======
       "<matplotlib.figure.Figure at 0x2433f752ef0>"
>>>>>>> ee52d75d662253a1ff491af09223713a456bc7a4
      ]
     },
     "metadata": {},
     "output_type": "display_data"
    }
   ],
   "source": [
    "x = pd.crosstab (dados.UF, dados.V6002)\n",
    "x.plot(kind='bar',  title = 'Rede escolar pública e privada')"
   ]
  },
  {
   "cell_type": "code",
<<<<<<< HEAD
   "execution_count": 15,
=======
   "execution_count": 12,
>>>>>>> ee52d75d662253a1ff491af09223713a456bc7a4
   "metadata": {
    "collapsed": false
   },
   "outputs": [
    {
     "data": {
      "text/html": [
       "<div>\n",
       "<table border=\"1\" class=\"dataframe\">\n",
       "  <thead>\n",
       "    <tr style=\"text-align: right;\">\n",
       "      <th>V0601</th>\n",
       "      <th>Sim</th>\n",
       "      <th>Não</th>\n",
       "    </tr>\n",
       "    <tr>\n",
       "      <th>UF</th>\n",
       "      <th></th>\n",
       "      <th></th>\n",
       "    </tr>\n",
       "  </thead>\n",
       "  <tbody>\n",
       "    <tr>\n",
       "      <th>Norte</th>\n",
       "      <td>48141</td>\n",
       "      <td>11046</td>\n",
       "    </tr>\n",
       "    <tr>\n",
       "      <th>Nordeste</th>\n",
       "      <td>82077</td>\n",
       "      <td>22520</td>\n",
       "    </tr>\n",
       "    <tr>\n",
       "      <th>Sudeste</th>\n",
       "      <td>92905</td>\n",
       "      <td>12223</td>\n",
       "    </tr>\n",
       "    <tr>\n",
       "      <th>Sul</th>\n",
       "      <td>49877</td>\n",
       "      <td>6239</td>\n",
       "    </tr>\n",
       "    <tr>\n",
       "      <th>Centro Oeste</th>\n",
       "      <td>32409</td>\n",
       "      <td>5118</td>\n",
       "    </tr>\n",
       "  </tbody>\n",
       "</table>\n",
       "</div>"
      ],
      "text/plain": [
       "V0601           Sim    Não\n",
       "UF                        \n",
       "Norte         48141  11046\n",
       "Nordeste      82077  22520\n",
       "Sudeste       92905  12223\n",
       "Sul           49877   6239\n",
       "Centro Oeste  32409   5118"
      ]
     },
<<<<<<< HEAD
     "execution_count": 15,
=======
     "execution_count": 12,
>>>>>>> ee52d75d662253a1ff491af09223713a456bc7a4
     "metadata": {},
     "output_type": "execute_result"
    }
   ],
   "source": [
    "# Dar nome as categorias\n",
    "dados.V0601 = dados.V0601.astype('category')\n",
    "dados.V0601.cat.categories = ('Sim', 'Não')\n",
    "\n",
    "cy = pd.crosstab(dados.UF, dados.V0601)\n",
    "cy"
   ]
  },
  {
   "cell_type": "code",
<<<<<<< HEAD
   "execution_count": 16,
=======
   "execution_count": 13,
>>>>>>> ee52d75d662253a1ff491af09223713a456bc7a4
   "metadata": {
    "collapsed": false
   },
   "outputs": [
    {
<<<<<<< HEAD
     "name": "stderr",
     "output_type": "stream",
     "text": [
      "C:\\Users\\VictorHugo\\Anaconda3\\lib\\site-packages\\pandas\\core\\internals.py:3253: VisibleDeprecationWarning: converting an array with ndim > 0 to an index will result in an error in the future\n",
      "  block = self.blocks[self._blknos[i]]\n"
     ]
    },
    {
     "data": {
      "text/plain": [
       "<matplotlib.axes._subplots.AxesSubplot at 0x20bb947b710>"
      ]
     },
     "execution_count": 16,
=======
     "data": {
      "text/plain": [
       "<matplotlib.axes._subplots.AxesSubplot at 0x2433f141898>"
      ]
     },
     "execution_count": 13,
>>>>>>> ee52d75d662253a1ff491af09223713a456bc7a4
     "metadata": {},
     "output_type": "execute_result"
    },
    {
     "data": {
      "image/png": "iVBORw0KGgoAAAANSUhEUgAAAYcAAAFRCAYAAACfeWFMAAAABHNCSVQICAgIfAhkiAAAAAlwSFlz\nAAALEgAACxIB0t1+/AAAIABJREFUeJzt3XmYXVWZ7/HvL4mEKRNTIiEDQioCIQzGBBm0GEyYGkJz\nCQFaptjaDbeZ1IY0XhKVbhUaRRvhQYSQ0EAasVvpK0KCWApqZAoGAUMumJBUIBgyEJROCL73j71S\ndVK7qlLUOVX7VNXv8zznec5Ze6j3rKo679lrr0ERgZmZWaleRQdgZmbVx8nBzMxynBzMzCzHycHM\nzHKcHMzMLMfJwczMcpwcrFuTNEvSl0te/72k1yW9JWnQNo6dIemuCsbyoKRPVep8zZz/OEmrJZ0t\n6ZuSxnTUz7Luz8nBug1JdZLWSPpAC9v7ADcAx0VE/4hY24bTtmsgUEosc7Y6UcSJEVGxZNOMjwOT\ngGOBkRHxuw78WdbN9Sk6ALNKkDQCOBJYB5wC/KCZ3YYAfYEXOzG0ThMR16Sn0woNxLoFXzlYd3Eu\n8GvgTuD8phsljQJ+n16ulfRIKr9R0quS1kt6UtKRTQ7dQdLc1Az1lKSxJef8oKT7Jb0h6WVJ/5DK\nJwH/BJwpaYOkhan8Z5IuTM+fTed8K+3zF0kfT9vuk/SapLXpamj/kp+5vaQbJC1N238hqW+T49ZJ\n+nmT4/pLmpNi/YOkq8upbOv+nBysuzgX+HfgHmCSpN1LN0bEEuCA9HJARByXnj8BjAUGpWO/L2m7\nkkNPAf4jbb8X+KGk3pIE/DewEPggWVPOpZI+GREPA/8C/EdE9IuIQ5oGGxEHp6at/sAVZInrmbT5\nQWAfYI9UdnfJoTcAhwCHAbsA/wj8pclxuwNPNznuJqAfMBKoBc6VdEG+Gs2SiPDDjy79IGtO2ggM\nSq9fAC5Nz2cBX07PRwDvAb1aOdca4MD0fAbwq5JtAuqBI4DxwNImx14F3F5y7Jwm238GXNhM7K8D\n+7QQz0CyD/9+6ef/GRjThjopPa5Xqp/RJds/Azxa9O/Oj+p9+MrBuoNzgXnReIP5XuC8thwo6fOS\nXkhNNGuB/sBuJbss3/IkIoIsOexJlmiGphvga9Kx08m+7beJpGFkVyXnRsTLqayXpK9J+n+S1gF/\nILspvlt69AVeaeZc2zquD/BqySHLgKFtjdV6Ht+Qti5N0vbAFKCXpNdScV9gQOn9gRaOPRL4AnB0\nRLyQytaQfUPfYljJ/gL2AlaSXYG8EhGjWzh9q72cUtz/BXwjIuaVbDob+CvgmIh4VdIAYG2KaTXw\nP2RNR881OeW2jnuXLKFtue8ygizRmTXLVw7W1Z0GbAb2Aw5Kjw8Dj5FdUTRV+sHfj+xD801J20m6\nJpWV+oikyZJ6A5eTfTgvILtXsUHSP6abxL0lHSBpXDpuFTAyJZTmzAJejIgbmpT3I2sCWitpJ+Cr\npESTrlxmAd9IN8N7STos3SNp7bi/APcB/yxp59Sz63KgI7vVWhfn5GBd3bnAHRFRHxFvbHkA3yH7\nNt27yf6l3+gfTo+XyJph/kxJM1LyI+BMsm/h5wCnRcR76QP3ZODgdOwbwG1kzVIA3ydLRG9KeqqZ\nn30mcFrqqbQh9Vo6AphD1vxTD/wO+FWTeD5PdtXwLFlS/Fr6Ods67pL0/l4BfgH8e0TMwqwFyr6M\ntLKDdDvZP8GqiBibygaRtZWOAJYCUyJifdo2HbiQ7A/30i2XzJIOJetmuD3wYERclsq3I/vD/gjZ\n5e+ZEfFq2nYecDXZP9U/R8RWg4rMejJJDwPHx7b+ic3aoS1XDrPIRl2Wugp4JLW3Pkp2I47Ur3oK\n2SX+CcDNJZfVtwDTIqIGqEl9wSEbsLMmIkYBNwLXpXMNAq4BPgpMAGakdlSzHi01Y/Uhu2e4d9Hx\nWPe0zeQQEY+TXVKXOhWYnZ7PBian56cAcyNic0QsBZYA4yUNAfpFxJNpvzklx5Se637gmPR8ElkP\nlPURsQ6YBxz/Pt6bWXe1H9lI8J3IN4OZVUR7eyvtERGrACLidUlbuu8NJRulukV9KtsMrCgpX0Fj\nN7qhpD/wiHgvjVTdpbS8ybnMerSIWAjsXHQc1r1V6oZ0Jds8W+rdYWZmnaS9Vw6rJA2OiFWpyeiN\nVF5PSb9wsj7h9a2Ulx6zMnUX7B8RayTVkw3zLz3mZ80FI8k35MzM2iEimv1C3tYrB7H1N/oHaJzc\n7Dyy7n5byqemPuN7A/sCT0TE68B6SePTDepzmxyzZTTrGWQ3uCHrYvhJSQPSzelPprKW3mDhjxkz\nZhQeQ7U8XBeuC9dF9ddFa7Z55SDpHrJv8LtKepVszpivkU1QdiHZMPwp6QP6BUn3kc1t8y5wUTRG\ncDFbd2V9KJXfDtwlaQnwJjA1nWutpK8AT5E1W30pshvTZmbWwbaZHCLi7BY2HddcYUR8lWx0ZtPy\np4EDmynfSEouzWy7kyyhmJlZJ/II6Qqqra0tOoSq4bpo5Lpo5LpoVO11sc0R0l2BpOgO78PMrDNJ\nIlq4Ie1ZWc2sWxo5ciTLli0rOoyqMGLECJYuXfq+jvGVg5l1S+lbcdFhVIWW6qK1KwffczAzsxwn\nBzMzy3FyMDOzHCcHM7NWHHPMMcyfP3+rsm9961tcfPHFzJkzh5qaGkaPHs2cOVsvN3P11VczevRo\nDjjgAG666aaG8ksuuYRRo0Zx8MEHs3DhwobyadOmMXjwYMaObXV1285T9PDtCg0BDzOzUpX6XLjt\nttviggsu2KrssMMOi8ceeyw+9KEPxbp162Lt2rUNzyMiZs2aFeedd17D/n/84x8jIuLBBx+ME088\nMSIiFixYEBMmTGjY57HHHouFCxfGgQceWJG4S7VUF6m82c9VXzmYmbXi9NNP58EHH2Tz5s0ALFu2\njNdee40VK1YwceJEBgwYwMCBA5k4cSIPPZTNCnTLLbdwzTXXNJxjt912A+BHP/oR556bLW0+YcIE\n1q9fz6pVqwA48sgjGTRoUGe+tVY5OZiZtWLQoEGMHz+en/zkJwDMnTuXKVOmUF9fz7BhjZNNDx06\nlPr6bLLpl19+mblz5/LRj36Uk046iZdffhmg1WOqjZODmdk2TJ06lblz5wJZcjjrrLNa3X/jxo3s\nuOOOPPnkk3z605/mggsu6IwwK8rJwawVI4cMQVJZj5FDhhT9NqxMp556Kj/96U9ZuHAh77zzDocc\ncghDhw7l1VdfbdhnxYoVDB2aLVY5bNgwTjvtNABOO+00nnvuOSC7Uli+fHmzx1QbJwezVixbtYqA\nsh7LUpuydV077bQTtbW1XHjhhQ1XDZMmTWL+/PmsX7+etWvXMn/+fCZNmgTA5MmTefTRbGmauro6\nampqADjllFMaejUtWLCAgQMHMnjw4IafE42dbIrX0p3qrvTAvZWsgwARZT7891mMStf7D3/4w+jV\nq1csXry4oWzWrFmx7777xqhRo2L27NkN5evWrYuTTjopDjzwwDj88MNj0aJFDdsuvvji2GeffWLs\n2LHx9NNPN5SfddZZ8cEPfjC22267GDZsWNxxxx0Vi72luqCV3kqeW8msFZLKXiBdUD3fBnsQz63U\nyHMrmZlZRTg5mJlZjpODmZnlODmYmVmOk4OZmeU4OZiZWY6Tg5mZ5Tg5mJlVmXvuuYfjjz++0Bic\nHMysx6jEXFmVnEfr8ccf54gjjmDgwIHstttuHHXUUTz99NOcffbZDdN/F8UjpM1a4RHSXVdzo4Ir\n8fts9WfS9t/1hg0bGD58OLfeeitnnHEGmzZt4rHHHmPIkCGMGTOmsnF5hLSZWdfw0ksvIYkpU6Yg\nib59+3LccccxZswYZs+ezVFHHdWwb69evbjllluoqalhwIABXHPNNbzyyisNVx1Tp05tWIyoUpwc\nzMwKUFNTQ+/evTn//PN56KGHWLdu3Vbbpa2/0M+bN4+FCxeyYMECrrvuOj772c9yzz33sHz5cp57\n7jnuvffeisbn5GBmVoB+/frx+OOP06tXLz7zmc+w++67M3nyZN54441m97/yyivZaaed2G+//Rgz\nZgwTJ05kxIgR9OvXjxNOOIGFCxdWND4nBzOzgowePZo77riDV199leeff576+nouu+yyZvfdY489\nGp7vsMMOW60DscMOO/D2229XNDYnBzOzKlBTU8P555/P888/X3QogJODmVkhFi9ezDe+8Q3q6+sB\nWL58Offeey+HHXZYwZFlnBzMzArQr18/fvOb3zBhwgT69evH4YcfztixY7nhhhty+za9Od30dUfw\nOAezVnicQ9fVXN/+kUOGdOia3iMGD2bp66932Pnbqz3jHJwczFrh5NB1eZnQRh4EZ2ZmFVFWcpB0\nuaTfSVok6W5J20kaJGmepMWSHpY0oGT/6ZKWSHpR0sSS8kPTOV6SdGNJ+XaS5qZjfi1peDnxWttU\nYv6Z9zvHjJlVl3YnB0l7Av8AHBoRY4E+wFnAVcAjETEaeBSYnvbfH5gC7AecANysxrsqtwDTIqIG\nqJE0KZVPA9ZExCjgRuC69sZrbbds1SoCynp0ZLuumXW8cpuVegM7SeoD7ADUA6cCs9P22cDk9PwU\nYG5EbI6IpcASYLykIUC/iHgy7Ten5JjSc90PHFtmvGZm1gbtTg4RsRK4AXiVLCmsj4hHgMERsSrt\n8zqwZVjfUGB5ySnqU9lQYEVJ+YpUttUxEfEesE7SLu2N2czM2qacZqWBZN/sRwB7kl1BnAO5zh2V\n7C7Q8Z17zcyMPmUcexzwSkSsAZD0X8DhwCpJgyNiVWoy2jKLVD0wrOT4vVJZS+Wlx6yU1Bvov+Xn\nNTVz5syG57W1tdTW1pbx1szMup+6ujrq6uratG+7xzlIGg/cDnwU2AjMAp4EhpPdRP66pCuBQRFx\nVbohfTcwgay5aD4wKiJC0gLgknT8j4FvR8RDki4CxkTERZKmApMjYmozsXicQwW5b38j10XX1dXH\nObzwwgscffTRfO5zn6Nv377ss88+nHzyye06V6eOc4iIJ8huEi8Efkv2P/Bd4OvAJyUtJruB/LW0\n/wvAfcALwIPARSWf6BeTJZqXgCURsWV9vNuB3SQtAS4j6wllZtYuI0d28DKhI9vehXvkyJEMHjyY\nd955p6Hs9ttv5+ijjwayJURnzZrF6tWreeCBBzq9NcQjpC3H35YbuS66rhaXCe3AX4XU9t/13nvv\nzdtvv80VV1zB9OnTgSw53H333Tz66KMVjssjpM3MuowvfOEL3HDDDbz11lu5bZdddhnDhw9nwIAB\njBs3jscff7xh26ZNm7jssssYOnQoe+21F5dffjnvvvtuRWNzcjAzK8i4ceOora3l+uuvz20bP348\nixYtYu3atZxzzjmcccYZbNq0CYBrr72WJ554gkWLFvHb3/6WJ554gmuvvbaisTk5mJkV6Etf+hI3\n3XQTb7755lblZ599NgMHDqRXr15cfvnlbNy4kcWLFwNwzz33MGPGDHbddVd23XVXZsyYwZw5cyoa\nl5ODmVmBDjjgAE4++WS++tWvblX+r//6r+y///4MGjSIQYMG8dZbb7F69WoAVq5cyfDhjVPNjRgx\ngtdee62icTk5mJkVbObMmdx2220Nq8I9/vjjXH/99dx///2sXbuWtWvX0r9//4abynvuuSfLli1r\nOH7ZsmXsueeeFY3JycHMrGD77LMPZ555Jt/+9rcB2LBhAx/4wAfYdddd2bRpE1/+8pfZsGFDw/5n\nnXUW1157LatXr2b16tV85Stf4VOf+lRFY3JyMDMrQNOlPq+55hr+/Oc/I4njjz+eSZMmUVNTw957\n782OO+7IsGGNE0l88YtfZNy4cYwdO5aDDjqIcePGcfXVV1c2vu7Q/9rjHCrLffsbuS66rmaXCR05\nhGXLOnCZ0BGDWbrUy4RWDSeHyvIHYiPXRdfV1afPqCQPgjMzs4pwcjAzsxwnBzMzy3FyMDOzHCcH\nMzPLcXIwM7OccpYJNTOrWiNGjMgNNOupRowY8b6P8TgHy3Hf/kauC+vOPM7BzMzeFycHMzPLcXIw\nM7McJwczM8txcjAzsxwnBzMzy3FyMDOzHCcHMzPLcXIwM7McJwczM8txcjAzsxwnBzMzy3FyMDOz\nHCcHMzPLcXIwM7McJwczM8txcjAzsxwnBzMzyykrOUgaIOn7kl6U9LykCZIGSZonabGkhyUNKNl/\nuqQlaf+JJeWHSlok6SVJN5aUbydpbjrm15KGlxOvmZm1TblXDt8CHoyI/YCDgN8DVwGPRMRo4FFg\nOoCk/YEpwH7ACcDNalz9+xZgWkTUADWSJqXyacCaiBgF3AhcV2a8ZmbWBu1ODpL6A0dFxCyAiNgc\nEeuBU4HZabfZwOT0/BRgbtpvKbAEGC9pCNAvIp5M+80pOab0XPcDx7Y3XjMza7tyrhz2BlZLmiXp\nGUnflbQjMDgiVgFExOvAHmn/ocDykuPrU9lQYEVJ+YpUttUxEfEesE7SLmXEbGZmbVBOcugDHAp8\nJyIOBf5E1qQUTfZr+roc2vYuZmZWrj5lHLsCWB4RT6XXPyBLDqskDY6IVanJ6I20vR4YVnL8Xqms\npfLSY1ZK6g30j4g1zQUzc+bMhue1tbXU1ta2/52ZmXVDdXV11NXVtWlfRbT/i72knwN/GxEvSZoB\n7Jg2rYmIr0u6EhgUEVelG9J3AxPImovmA6MiIiQtAC4BngR+DHw7Ih6SdBEwJiIukjQVmBwRU5uJ\nI8p5H7Y1SWVf7gnoDr8T14V1Z5KIiGZbZMpNDgcB3wM+ALwCXAD0Bu4j+8a/DJgSEevS/tPJeiC9\nC1waEfNS+UeAO4HtyXo/XZrK+wJ3AYcAbwJT083spnE4OVSQPxAbuS6sO+uw5FAtnBwqyx+IjVwX\n1p21lhw8QtrMzHKcHMzMLMfJwczMcpwczMwsx8nBzMxynBzMzCzHycHMzHKcHMzMLMfJwczMcpwc\nzMwsx8nBzMxynBzMzCzHycHMzHKcHMzMLMfJwczMcpwczMwsx8nBzMxynBzMzCzHycHMzHKcHMys\nTUYOGYKksh4jhwwp+m1YG6k7LHwuKbrD+6gWkii3NgV0h9+J66KR66L7kUREqLltvnIwM7McJwcz\nM8txckjcnmpm1sj3HBrP4fbUxHXRyHXRyHXR/fieg5mZvS9ODmZmluPkYGZmOU4OZmaW4+RgZmY5\nTg5mZpbj5GBmZjlODmZmluPkYGZmOU4OZmaW4+RgZmY5ZScHSb0kPSPpgfR6kKR5khZLeljSgJJ9\np0taIulFSRNLyg+VtEjSS5JuLCnfTtLcdMyvJQ0vN14zM9u2Slw5XAq8UPL6KuCRiBgNPApMB5C0\nPzAF2A84AbhZ0pYJn24BpkVEDVAjaVIqnwasiYhRwI3AdRWI18zMtqGs5CBpL+BE4HslxacCs9Pz\n2cDk9PwUYG5EbI6IpcASYLykIUC/iHgy7Ten5JjSc90PHFtOvGZm1jblXjl8E/gCbDWT7+CIWAUQ\nEa8De6TyocDykv3qU9lQYEVJ+YpUttUxEfEesE7SLmXGbGZm29Du5CDpJGBVRDxLNk17Syo5eXtr\nP8fMzCqkTxnHHgGcIulEYAegn6S7gNclDY6IVanJ6I20fz0wrOT4vVJZS+Wlx6yU1BvoHxFrmgtm\n5syZDc9ra2upra0t462ZmXU/dXV11NXVtWnfiqwEJ+kTwOci4hRJ1wFvRsTXJV0JDIqIq9IN6buB\nCWTNRfOBURERkhYAlwBPAj8Gvh0RD0m6CBgTERdJmgpMjoipzfx8rwRXQa6LRq6LRq6L7qe1leDK\nuXJoydeA+yRdCCwj66FERLwg6T6ynk3vAheVfKJfDNwJbA88GBEPpfLbgbskLQHeBHKJwczMKs9r\nSDeew9+KEtdFI9dFI9dF9+M1pM3M7H1xcjAzsxwnBzMzy3FyMDOzHCcHMzPLcXIwM7McJwczM8tx\ncjAzsxwnBzMzy3FyMDOzHCcHMzPLcXIwM7McJwczM8txcjAze59GDhmCpLIeI4cMKfpttMpTdjee\nw9MRJ66LRq6LRq6LRt2lLjxlt5mZvS9ODmZmluPkYGZmOU4OZmaW4+RgZmY5Tg5mZpbj5GBmZjlO\nDmZmluPkYGZmOU4OZmaW4+RgZmY5Tg5mZpbj5GBmZjlODmZmluPkYGZmOU4OZmaW4+RgZmY5Tg5m\nZpbj5GBmZjlODmZmluPkYB2ib99s8fJyHiNHDin6bZj1WO1ODpL2kvSopOclPSfpklQ+SNI8SYsl\nPSxpQMkx0yUtkfSipIkl5YdKWiTpJUk3lpRvJ2luOubXkoa3N17rXBs3QkR5j2XLVhX9Nsx6rHKu\nHDYDV0TEAcDHgIslfRi4CngkIkYDjwLTASTtD0wB9gNOAG6WpHSuW4BpEVED1EialMqnAWsiYhRw\nI3BdGfGamVkbtTs5RMTrEfFsev428CKwF3AqMDvtNhuYnJ6fAsyNiM0RsRRYAoyXNAToFxFPpv3m\nlBxTeq77gWPbG6+ZmbVdRe45SBoJHAwsAAZHxCrIEgiwR9ptKLC85LD6VDYUWFFSviKVbXVMRLwH\nrJO0SyViNjOzlpWdHCTtTPat/tJ0BRFNdmn6uqwfV8FzmZlZC/qUc7CkPmSJ4a6I+FEqXiVpcESs\nSk1Gb6TyemBYyeF7pbKWykuPWSmpN9A/ItY0F8vMmTMbntfW1lJbW1vGOzMz637q6uqoq6tr076K\naP8Xe0lzgNURcUVJ2dfJbiJ/XdKVwKCIuCrdkL4bmEDWXDQfGBURIWkBcAnwJPBj4NsR8ZCki4Ax\nEXGRpKnA5IiY2kwcUc77SOco+xJHQLlxVIPK1UW5cRRfn/67aOS6aNRd6kISEdFsi0y7k4OkI4Bf\nAM+RNR0F8E/AE8B9ZN/4lwFTImJdOmY6WQ+kd8maoeal8o8AdwLbAw9GxKWpvC9wF3AI8CYwNd3M\nbhqLk0MFOTmUxuC/iy1cF426S110SHKoJk4OleXkUBqD/y62cF006i510Vpy8AhpMzPLcXIwM7Mc\nJwczM8txcjAzsxwnBzMzy3FyMDOzHCcHMzPLcXIwM7McJwczM8txcjAzsxwnBzMzy3FyMDOzHCcH\nMzPLcXIw62B9+2azX5bzGDlySNFvw3qYslaCM7Nt27ixEtOXr6pMMGZt5CsHMzPLcXKoIDcfmFl3\n4WalCnLzgZl1F75yMDOzHCcHMzPLcXIwM7McJwczM8txcjAzsxwnBzMzy3FyMDOzHCcHMzPLcXIw\ns07jWQS6Do+QNrNO41kEug5fOZiZWY6Tg5lZAaq9ic3NSmZmBaj2JjZfOZiZWY6Tg5mZ5Tg5mJlZ\njpODmZnldInkIOl4Sb+X9JKkK4uOx8ysu6v65CCpF3ATMAk4ADhL0oeLjcrMrHur+uQAjAeWRMSy\niHgXmAucWnBMZmbdWldIDkOB5SWvV6QyMzPrIF0hOZiZWSfrCiOk64HhJa/3SmVbkVT2Dyr/DFCB\nMCryXsqOoRLncF00nsN10XgO10XjOaq4LhTljt/uYJJ6A4uBY4HXgCeAsyLixUIDMzPrxqr+yiEi\n3pP0v4F5ZM1gtzsxmJl1rKq/cjAzs87nG9JmZpbj5GBm1okk7Vh0DG3h5FAhXeUXbmbFkHS4pBeA\n36fXB0m6ueCwWuR7DmWSdDjwPWDniBgu6SDgsxFxUcGhdTpJg4F/AfaMiBMk7Q98LCJuLzi0TuV6\nAEn/BrT44RIRl3RiOFVB0m+A/wU8EBGHpLLfRcSYYiNrnq8cyvdNsnmf3gSIiN8CHy80ouLcCTwM\n7JlevwRcVlg0xbkT18NTwNOtPHqkiFjepOi9QgJpg6rvytoVRMTyJgNRqvYX3sF2i4j7JE0HiIjN\nknpiXfT4eoiI2UXHUIWWp5aGkPQB4FKgarvlOzmUr0v9wjvYnyTtSmpOkHQYsL7YkArhekgk/Yxm\nmpci4pgCwina3wHfIpsbrp5s7FbVNj87OZSvS/3CO9gVwAPAPpJ+CewOnFFsSIVwPTT6fMnz7YHT\ngc0FxVK00RFxTmmBpCOAXxYUT6t8Q7pMko6IiF9uq6wnkNSXrEltNNnUM4uBXhGxsdDAOpnroXWS\nnoiI8UXH0dkkPRMRh26rrFr4yqF8/wY0/eU2V9YT/Dr9oT+/pUDSM/S8unA9JJJ2KXnZCxgHDCgo\nnEJI+hhwOLC7pCtKNvUHehcT1bY5ObRTV/2FdwRJQ8ia1XaQdAiNE1b2B3rM+A/XQ7OepvGew2Zg\nKTCtsGiKsR2wM9nnbb+S8rfIurZWJSeH9uuSv/AOMgk4n2w69Rto/FDcAPxTQTEVwfWQSPoosDwi\n9k6vzyO737AUeKHA0DpdRPwc+LmkOyNiGTQsf7xzRLxVbHQt8z2HMqTpxO+LiNOLjqUaSDo9In5Q\ndBxFcz00NKMdFxFrJH2cbHnffwAOBvaLiJ72BQpJ95B1YHkPeJLsivJbEXF9oYG1wIPgyhAR79E4\n0MlgL0n9lfmepGckTSw6qAK4HqB3RKxJz88EvhsRP4iI/wPsW2BcRdo/XSlMBn4C7A18qtiQWubk\nUL5nJT0g6VOS/nrLo+igCnJh+uOfCOxK9of/tWJDKoTrAXpL2tJsfSzwaMm2ntqc/YE0Fmoy2RQa\n79LKFCNF66m/pEranmzqjNJBPQH8ZzHhFGpLG/uJwJyIeF7VsJ5j53M9wL1k7eyrgXeAxwAk7UsP\nHRAI3Ep2z+W3wC8kjSC7R1mVfM/BKkbSLLLeOnsDB5H12qqLiI8UGlgncz1k0sjwDwLzIuJPqayG\n7EbsM4UGVyUk9YmIqhwU6ORQJkl7kY1rOCIVPQZcGhEriouqGKkHxsHAKxGxLk0hMTQiFhUcWqdy\nPVhzutpsvb7nUL5ZZFMl7Jke/53KeqIA9ge2TMe8E1mzW0/jerDm3EkXmq3XyaF8u0fErIjYnB53\nks2l0xPdDHwMOCu93gB8p7hwCuN6sObsFhH3AX+BbLZeqngGZyeH8r0p6W8k9U6PvyGt7dADTYiI\ni4H/AYiItWSDBXsa14M1p0vN1uveSuW7kOyewzfJfum/Ai4oNKLivJsGBm7549+d9C2ph3E9WHOa\nm623ages0AXgAAAGZUlEQVQD+oa0VYykc8gGPB0KzCb7w/9iRHy/0MA6mevBWpLGfjTM1pvGOlQl\nJ4d2knRNK5sjIr7SacFUEUkfJhv0JOCnEdEjFz5yPVgpSXsAFwMHpKLnge9ExBvFRdU6J4d2kvS5\nZop3IptxcteI2LmTQypMk2mZc0qmUejWXA/WnLSgzz1kvZW2rJ/9EeA84JxqXfvFyaECJPUjWx50\nGnAfcEM1fyOoNEl/IGtfFzAcWJueDwRe3TIzZ3fnerDmSFoA/H1ELGxSfjBwa0RMKCay1rm3Uhkk\n7SLpWmAR2c39QyPiyp6UGAAiYu+I+BDwCPBXEbFbROwKnEy2bGqP4HqwFvRvmhgAIuJZtp7uv6o4\nObSTpOvJpt3dABwYETNTl8We7LCIeHDLi4j4CdmCSD2N68FKSdKgZgp3oYo/g6s2sC7gc2QjHb8I\nrJT0VnpskFS1k2l1sJWSvihpZHpcDawsOqgCuB6s1DeBeZI+IalfetSSTdv9zWJDa5nvOVjFpG9C\nM4CPk7W9/wL4ck+7EdukHiCrhy/1tHqwRpJOBv6RrLdSkK2Gd31E/HehgbXCycEqIg36+npEfL7o\nWMysfB4hbRUREe9JOrLoOKqBpJ/RzCIuEXFMM7ubVSUnB6ukhZIeAL4P/GlLYUT0tIWPSq+etgdO\nB6pyzn6zlrhZySomLXLTVETEhZ0eTJWR9EREjC86DrO28pWDVUxE9NQJB7fSZKR0L2AcMKCgcKxK\nSBoAzASOSkU/J+uwUZUzszo5WMV4VbwGT9N4z2Ez2brB0wqLxqrFHcDvgCnp9afIFgb768IiaoWb\nlaxiJM0nm0PmrlT0N2Rzx3yyuKg6j6SPAssj4vX0+jyy+w1LgZnuytqzSXo2Ig7eVlm18CA4q6Se\nvirercAmAEkfB75KNmX3euC7BcZl1eGd0h59aUK+dwqMp1VuVrJKejOthHdven0WPWtVvN4lVwdn\nAt+NiB8AP5D0bIFxWXX4O2BOuvcA2cSM5xUYT6ucHKySevqqeL0l9UlrAx8LfKZkm//XejBJvYDR\nEXGQpP4AEVHV0+z4noNZhaQ5lE4EVpNN2X1oRISkfYHZEXFEqyewbk3SUxExrug42srJwcrmVfEa\npUXjPwjMi4g/pbIaYOeIeKbQ4KxQkr5G9sXhP9h6kGhVdlRwcrCyeVU8s21Li0E1FWkNkKrj5GAV\n1dNXxTNriaTtI+J/tlVWLdyV1SrCq+KZbdOv2lhWFdyDwsqWVsX7a7K+/AdGxNsFh2RWNSQNAYYC\nO0g6hGxdcYD+wI6FBbYNblayskn6C7CRbKqI0j8okbWp9i8kMLMqkEbKn082x9ZTJZs2AHdW66zF\nTg5mZp1A0ulpUGSX4ORgZtYJJPUlm2trJCVN+hHx5aJiao3vOZiZdY4fkc2z9TRZM2xV85WDmVkn\nkPS7iBhTdBxt5a6sZmad41eSDiw6iLbylYOZWSeQ9AKwL/AHsmalLb35xhYaWAucHMzMOoGkEc2V\nR8Syzo6lLdysZGbWCVISGAYck57/mSr+DPaVg5lZJ5A0g2wg3OiIqJG0J/D9ap3KvWqzlplZN3Ma\ncAppuu6IWAn0KzSiVjg5mJl1jk2RNdUEgKSdCo6nVU4OZmad4z5JtwIDJf0t8AhwW8Extcj3HMzM\nOomkTwITybqxPhwR8wsOqUVODmZmHSitIT44In7ZpPxI4LWIeLmYyFrnZiUzs451I/BWM+Xr07aq\n5ORgZtaxBkfEc00LU9nIzg+nbZwczMw61sBWtu3QaVG8T04OZmYd66nUO2krkj5NNn13VfINaTOz\nDiRpMPBfwCYak8E4YDvgtIh4vajYWuPkYGbWCSQdDWxZz+H5iHi0yHi2xcnBzMxyfM/BzMxynBzM\nzCzHycHMzHL6FB2AWXeRVvr6vxFxYEnZDOBtshuRnwDWpU13RMRNnR+lWds4OZhVVks9PAL4fET8\nZ2cGY9ZeblYy6zwqOgCztnJyMOt4QZYYrpe0UNIzkg4oOiiz1rhZyaxyWhs05GYl61J85WBWOW8C\nuzQp2wX4I25Ssi7GycGsQiLiT8DKNE0CknYBJgGPFxqYWTu4Wcmsss4Fbpb0DbKmpJkR8QdJnqfG\nuhTPrWRmZjluVjIzsxwnBzMzy3FyMDOzHCcHMzPLcXIwM7McJwczM8txcjAzsxwnBzMzy/n/xciv\nKHoH9ZAAAAAASUVORK5CYII=\n",
      "text/plain": [
<<<<<<< HEAD
       "<matplotlib.figure.Figure at 0x20bb9d78128>"
=======
       "<matplotlib.figure.Figure at 0x2433dd50dd8>"
>>>>>>> ee52d75d662253a1ff491af09223713a456bc7a4
      ]
     },
     "metadata": {},
     "output_type": "display_data"
    }
   ],
   "source": [
    "x = pd.crosstab (dados.UF, dados.V0601)\n",
    "x.plot(kind='bar', color=(\"red\", \"yellow\"), title = 'Alfabetização')\n"
   ]
  },
  {
   "cell_type": "code",
<<<<<<< HEAD
   "execution_count": 17,
=======
   "execution_count": 14,
>>>>>>> ee52d75d662253a1ff491af09223713a456bc7a4
   "metadata": {
    "collapsed": false
   },
   "outputs": [
    {
     "data": {
      "text/html": [
       "<div>\n",
       "<table border=\"1\" class=\"dataframe\">\n",
       "  <thead>\n",
       "    <tr style=\"text-align: right;\">\n",
       "      <th>V4802</th>\n",
       "      <th>Maternal, jardim de infância etc.</th>\n",
       "      <th>Classe de alfabetização</th>\n",
       "      <th>Alfabetização de adultos</th>\n",
       "      <th>1ª a 4ª séries do ensino fundamental regular em 8 anos ou de educação de jovens e adultos</th>\n",
       "      <th>5ª a 8ª séries do ensino fundamental regular em 8 anos ou de educação de jovens e adultos</th>\n",
       "      <th>1ª série do ensino fundamental regular em 9 anos</th>\n",
       "      <th>2ª a 5ª séries do ensino fundamental regular em 9 anos</th>\n",
       "      <th>6ª a 9ª séries do ensino fundamental regular em 9 anos</th>\n",
       "      <th>Educação de jovens e adultos não seriado do ensino fundamental</th>\n",
       "      <th>Ensino médio, inclusive pré-vestibular</th>\n",
       "      <th>Superior, inclusive mestrado ou doutorado</th>\n",
       "    </tr>\n",
       "    <tr>\n",
       "      <th>UF</th>\n",
       "      <th></th>\n",
       "      <th></th>\n",
       "      <th></th>\n",
       "      <th></th>\n",
       "      <th></th>\n",
       "      <th></th>\n",
       "      <th></th>\n",
       "      <th></th>\n",
       "      <th></th>\n",
       "      <th></th>\n",
       "      <th></th>\n",
       "    </tr>\n",
       "  </thead>\n",
       "  <tbody>\n",
       "    <tr>\n",
       "      <th>Norte</th>\n",
       "      <td>1145</td>\n",
       "      <td>238</td>\n",
       "      <td>49</td>\n",
       "      <td>299</td>\n",
       "      <td>460</td>\n",
       "      <td>1146</td>\n",
       "      <td>5481</td>\n",
       "      <td>4396</td>\n",
       "      <td>133</td>\n",
       "      <td>3316</td>\n",
       "      <td>2090</td>\n",
       "    </tr>\n",
       "    <tr>\n",
       "      <th>Nordeste</th>\n",
       "      <td>2182</td>\n",
       "      <td>371</td>\n",
       "      <td>227</td>\n",
       "      <td>367</td>\n",
       "      <td>454</td>\n",
       "      <td>1687</td>\n",
       "      <td>8056</td>\n",
       "      <td>7439</td>\n",
       "      <td>181</td>\n",
       "      <td>5057</td>\n",
       "      <td>3438</td>\n",
       "    </tr>\n",
       "    <tr>\n",
       "      <th>Sudeste</th>\n",
       "      <td>1656</td>\n",
       "      <td>282</td>\n",
       "      <td>82</td>\n",
       "      <td>187</td>\n",
       "      <td>425</td>\n",
       "      <td>1529</td>\n",
       "      <td>6145</td>\n",
       "      <td>6134</td>\n",
       "      <td>56</td>\n",
       "      <td>4781</td>\n",
       "      <td>3807</td>\n",
       "    </tr>\n",
       "    <tr>\n",
       "      <th>Sul</th>\n",
       "      <td>694</td>\n",
       "      <td>68</td>\n",
       "      <td>51</td>\n",
       "      <td>167</td>\n",
       "      <td>723</td>\n",
       "      <td>737</td>\n",
       "      <td>3262</td>\n",
       "      <td>2615</td>\n",
       "      <td>67</td>\n",
       "      <td>2432</td>\n",
       "      <td>2400</td>\n",
       "    </tr>\n",
       "    <tr>\n",
       "      <th>Centro Oeste</th>\n",
       "      <td>616</td>\n",
       "      <td>114</td>\n",
       "      <td>26</td>\n",
       "      <td>72</td>\n",
       "      <td>100</td>\n",
       "      <td>586</td>\n",
       "      <td>2453</td>\n",
       "      <td>2388</td>\n",
       "      <td>36</td>\n",
       "      <td>1817</td>\n",
       "      <td>1909</td>\n",
       "    </tr>\n",
       "  </tbody>\n",
       "</table>\n",
       "</div>"
      ],
      "text/plain": [
       "V4802         Maternal, jardim de infância etc.  Classe de alfabetização  \\\n",
       "UF                                                                         \n",
       "Norte                                      1145                      238   \n",
       "Nordeste                                   2182                      371   \n",
       "Sudeste                                    1656                      282   \n",
       "Sul                                         694                       68   \n",
       "Centro Oeste                                616                      114   \n",
       "\n",
       "V4802         Alfabetização de adultos  \\\n",
       "UF                                       \n",
       "Norte                               49   \n",
       "Nordeste                           227   \n",
       "Sudeste                             82   \n",
       "Sul                                 51   \n",
       "Centro Oeste                        26   \n",
       "\n",
       "V4802         1ª a 4ª séries do ensino fundamental regular em 8 anos ou de educação de jovens e adultos  \\\n",
       "UF                                                                                                        \n",
       "Norte                                                       299                                           \n",
       "Nordeste                                                    367                                           \n",
       "Sudeste                                                     187                                           \n",
       "Sul                                                         167                                           \n",
       "Centro Oeste                                                 72                                           \n",
       "\n",
       "V4802         5ª a 8ª séries do ensino fundamental regular em 8 anos ou de educação de jovens e adultos  \\\n",
       "UF                                                                                                        \n",
       "Norte                                                       460                                           \n",
       "Nordeste                                                    454                                           \n",
       "Sudeste                                                     425                                           \n",
       "Sul                                                         723                                           \n",
       "Centro Oeste                                                100                                           \n",
       "\n",
       "V4802         1ª série do ensino fundamental regular em 9 anos  \\\n",
       "UF                                                               \n",
       "Norte                                                     1146   \n",
       "Nordeste                                                  1687   \n",
       "Sudeste                                                   1529   \n",
       "Sul                                                        737   \n",
       "Centro Oeste                                               586   \n",
       "\n",
       "V4802         2ª a 5ª séries do ensino fundamental regular em 9 anos   \\\n",
       "UF                                                                      \n",
       "Norte                                                      5481         \n",
       "Nordeste                                                   8056         \n",
       "Sudeste                                                    6145         \n",
       "Sul                                                        3262         \n",
       "Centro Oeste                                               2453         \n",
       "\n",
       "V4802         6ª a 9ª séries do ensino fundamental regular em 9 anos   \\\n",
       "UF                                                                      \n",
       "Norte                                                      4396         \n",
       "Nordeste                                                   7439         \n",
       "Sudeste                                                    6134         \n",
       "Sul                                                        2615         \n",
       "Centro Oeste                                               2388         \n",
       "\n",
       "V4802         Educação de jovens e adultos não seriado do ensino fundamental  \\\n",
       "UF                                                                             \n",
       "Norte                                                       133                \n",
       "Nordeste                                                    181                \n",
       "Sudeste                                                      56                \n",
       "Sul                                                          67                \n",
       "Centro Oeste                                                 36                \n",
       "\n",
       "V4802         Ensino médio, inclusive pré-vestibular  \\\n",
       "UF                                                     \n",
       "Norte                                           3316   \n",
       "Nordeste                                        5057   \n",
       "Sudeste                                         4781   \n",
       "Sul                                             2432   \n",
       "Centro Oeste                                    1817   \n",
       "\n",
       "V4802         Superior, inclusive mestrado ou doutorado  \n",
       "UF                                                       \n",
       "Norte                                              2090  \n",
       "Nordeste                                           3438  \n",
       "Sudeste                                            3807  \n",
       "Sul                                                2400  \n",
       "Centro Oeste                                       1909  "
      ]
     },
<<<<<<< HEAD
     "execution_count": 17,
=======
     "execution_count": 14,
>>>>>>> ee52d75d662253a1ff491af09223713a456bc7a4
     "metadata": {},
     "output_type": "execute_result"
    }
   ],
   "source": [
    "# Dar nome as categorias\n",
    "dados.V4802 = dados.V4802.astype('category')\n",
    "\n",
    "dados.V4802.cat.categories = ('Maternal, jardim de infância etc.', \"Classe de alfabetização\", \"Alfabetização de adultos\",\n",
    "                              \"1ª a 4ª séries do ensino fundamental regular em 8 anos ou de educação de jovens e adultos\",\n",
    "                              \"5ª a 8ª séries do ensino fundamental regular em 8 anos ou de educação de jovens e adultos\",\n",
    "                              \"1ª série do ensino fundamental regular em 9 anos\", \"2ª a 5ª séries do ensino fundamental regular em 9 anos \",\n",
    "                              \"6ª a 9ª séries do ensino fundamental regular em 9 anos \",\n",
    "                              \"Educação de jovens e adultos não seriado do ensino fundamental\",\n",
    "                              \"Ensino médio, inclusive pré-vestibular\",\n",
    "                              \"Superior, inclusive mestrado ou doutorado\")\n",
    "\n",
    "cy = pd.crosstab(dados.UF, dados.V4802)\n",
    "cy"
   ]
  },
  {
   "cell_type": "code",
<<<<<<< HEAD
   "execution_count": 18,
=======
   "execution_count": 15,
>>>>>>> ee52d75d662253a1ff491af09223713a456bc7a4
   "metadata": {
    "collapsed": false
   },
   "outputs": [
    {
<<<<<<< HEAD
     "name": "stderr",
     "output_type": "stream",
     "text": [
      "C:\\Users\\VictorHugo\\Anaconda3\\lib\\site-packages\\pandas\\core\\internals.py:3253: VisibleDeprecationWarning: converting an array with ndim > 0 to an index will result in an error in the future\n",
      "  block = self.blocks[self._blknos[i]]\n"
     ]
    },
    {
     "data": {
      "text/plain": [
       "<matplotlib.axes._subplots.AxesSubplot at 0x20bb883dda0>"
      ]
     },
     "execution_count": 18,
=======
     "data": {
      "text/plain": [
       "<matplotlib.axes._subplots.AxesSubplot at 0x2433d2a6048>"
      ]
     },
     "execution_count": 15,
>>>>>>> ee52d75d662253a1ff491af09223713a456bc7a4
     "metadata": {},
     "output_type": "execute_result"
    },
    {
     "data": {
      "image/png": "iVBORw0KGgoAAAANSUhEUgAAAskAAAIwCAYAAAB0qPY8AAAABHNCSVQICAgIfAhkiAAAAAlwSFlz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\nyP8PWvYMAfouwqsAAAAASUVORK5CYII=\n",
      "text/plain": [
<<<<<<< HEAD
       "<matplotlib.figure.Figure at 0x20bb9363390>"
=======
       "<matplotlib.figure.Figure at 0x2433ba3b208>"
>>>>>>> ee52d75d662253a1ff491af09223713a456bc7a4
      ]
     },
     "metadata": {},
     "output_type": "display_data"
    }
   ],
   "source": [
    "x = pd.crosstab (dados.UF, dados.V4802)\n",
    "x.plot(kind='bar', legend = False, title = 'Nivel de ensino', figsize = (12,8))"
   ]
  },
  {
   "cell_type": "markdown",
   "metadata": {},
   "source": [
    "Legenda do histograma acima:\n",
    "![Legenda_2](Legenda_2.png)"
   ]
  },
  {
   "cell_type": "code",
<<<<<<< HEAD
   "execution_count": 19,
=======
   "execution_count": 16,
>>>>>>> ee52d75d662253a1ff491af09223713a456bc7a4
   "metadata": {
    "collapsed": false
   },
   "outputs": [
    {
     "data": {
      "text/html": [
       "<div>\n",
       "<table border=\"1\" class=\"dataframe\">\n",
       "  <thead>\n",
       "    <tr style=\"text-align: right;\">\n",
       "      <th>V6003</th>\n",
       "      <th>Regular do ensino fundamental</th>\n",
       "      <th>Regular do ensino médio</th>\n",
       "      <th>Educação de jovens e adultos ou supletivo EF</th>\n",
       "      <th>Educação de jovens e adultos ou supletivo EM</th>\n",
       "      <th>Superior de graduação</th>\n",
       "      <th>Alfabetização de jovens e adultos</th>\n",
       "      <th>Creche</th>\n",
       "      <th>Classe de alfabetização - CA</th>\n",
       "      <th>Maternal, jardim de infância</th>\n",
       "      <th>Pré-vestibular</th>\n",
       "      <th>Mestrado ou doutorado</th>\n",
       "    </tr>\n",
       "    <tr>\n",
       "      <th>UF</th>\n",
       "      <th></th>\n",
       "      <th></th>\n",
       "      <th></th>\n",
       "      <th></th>\n",
       "      <th></th>\n",
       "      <th></th>\n",
       "      <th></th>\n",
       "      <th></th>\n",
       "      <th></th>\n",
       "      <th></th>\n",
       "      <th></th>\n",
       "    </tr>\n",
       "  </thead>\n",
       "  <tbody>\n",
       "    <tr>\n",
       "      <th>Norte</th>\n",
       "      <td>11482</td>\n",
       "      <td>3055</td>\n",
       "      <td>433</td>\n",
       "      <td>208</td>\n",
       "      <td>2011</td>\n",
       "      <td>49</td>\n",
       "      <td>707</td>\n",
       "      <td>238</td>\n",
       "      <td>1145</td>\n",
       "      <td>53</td>\n",
       "      <td>79</td>\n",
       "    </tr>\n",
       "    <tr>\n",
       "      <th>Nordeste</th>\n",
       "      <td>17615</td>\n",
       "      <td>4742</td>\n",
       "      <td>569</td>\n",
       "      <td>262</td>\n",
       "      <td>3250</td>\n",
       "      <td>227</td>\n",
       "      <td>1889</td>\n",
       "      <td>371</td>\n",
       "      <td>2182</td>\n",
       "      <td>53</td>\n",
       "      <td>188</td>\n",
       "    </tr>\n",
       "    <tr>\n",
       "      <th>Sudeste</th>\n",
       "      <td>14253</td>\n",
       "      <td>4460</td>\n",
       "      <td>223</td>\n",
       "      <td>253</td>\n",
       "      <td>3582</td>\n",
       "      <td>82</td>\n",
       "      <td>2121</td>\n",
       "      <td>282</td>\n",
       "      <td>1656</td>\n",
       "      <td>68</td>\n",
       "      <td>225</td>\n",
       "    </tr>\n",
       "    <tr>\n",
       "      <th>Sul</th>\n",
       "      <td>7427</td>\n",
       "      <td>2240</td>\n",
       "      <td>144</td>\n",
       "      <td>162</td>\n",
       "      <td>2261</td>\n",
       "      <td>51</td>\n",
       "      <td>1217</td>\n",
       "      <td>68</td>\n",
       "      <td>694</td>\n",
       "      <td>30</td>\n",
       "      <td>139</td>\n",
       "    </tr>\n",
       "    <tr>\n",
       "      <th>Centro Oeste</th>\n",
       "      <td>5508</td>\n",
       "      <td>1685</td>\n",
       "      <td>127</td>\n",
       "      <td>112</td>\n",
       "      <td>1832</td>\n",
       "      <td>26</td>\n",
       "      <td>581</td>\n",
       "      <td>114</td>\n",
       "      <td>616</td>\n",
       "      <td>20</td>\n",
       "      <td>77</td>\n",
       "    </tr>\n",
       "  </tbody>\n",
       "</table>\n",
       "</div>"
      ],
      "text/plain": [
       "V6003         Regular do ensino fundamental  Regular do ensino médio  \\\n",
       "UF                                                                     \n",
       "Norte                                 11482                     3055   \n",
       "Nordeste                              17615                     4742   \n",
       "Sudeste                               14253                     4460   \n",
       "Sul                                    7427                     2240   \n",
       "Centro Oeste                           5508                     1685   \n",
       "\n",
       "V6003         Educação de jovens e adultos ou supletivo EF  \\\n",
       "UF                                                           \n",
       "Norte                                                  433   \n",
       "Nordeste                                               569   \n",
       "Sudeste                                                223   \n",
       "Sul                                                    144   \n",
       "Centro Oeste                                           127   \n",
       "\n",
       "V6003         Educação de jovens e adultos ou supletivo EM  \\\n",
       "UF                                                           \n",
       "Norte                                                  208   \n",
       "Nordeste                                               262   \n",
       "Sudeste                                                253   \n",
       "Sul                                                    162   \n",
       "Centro Oeste                                           112   \n",
       "\n",
       "V6003         Superior de graduação  Alfabetização de jovens e adultos  \\\n",
       "UF                                                                       \n",
       "Norte                          2011                                 49   \n",
       "Nordeste                       3250                                227   \n",
       "Sudeste                        3582                                 82   \n",
       "Sul                            2261                                 51   \n",
       "Centro Oeste                   1832                                 26   \n",
       "\n",
       "V6003         Creche  Classe de alfabetização - CA  \\\n",
       "UF                                                   \n",
       "Norte            707                           238   \n",
       "Nordeste        1889                           371   \n",
       "Sudeste         2121                           282   \n",
       "Sul             1217                            68   \n",
       "Centro Oeste     581                           114   \n",
       "\n",
       "V6003         Maternal, jardim de infância  Pré-vestibular  \\\n",
       "UF                                                           \n",
       "Norte                                 1145              53   \n",
       "Nordeste                              2182              53   \n",
       "Sudeste                               1656              68   \n",
       "Sul                                    694              30   \n",
       "Centro Oeste                           616              20   \n",
       "\n",
       "V6003         Mestrado ou doutorado  \n",
       "UF                                   \n",
       "Norte                            79  \n",
       "Nordeste                        188  \n",
       "Sudeste                         225  \n",
       "Sul                             139  \n",
       "Centro Oeste                     77  "
      ]
     },
<<<<<<< HEAD
     "execution_count": 19,
=======
     "execution_count": 16,
>>>>>>> ee52d75d662253a1ff491af09223713a456bc7a4
     "metadata": {},
     "output_type": "execute_result"
    }
   ],
   "source": [
    "dados.V6003 = dados.V6003.astype('category')\n",
    "\n",
    "dados.V6003.cat.categories = (['Regular do ensino fundamental', 'Regular do ensino médio', 'Educação de jovens e adultos ou supletivo EF', \n",
    "                 'Educação de jovens e adultos ou supletivo EM', 'Superior de graduação', 'Alfabetização de jovens e adultos',\n",
    "                 'Creche', 'Classe de alfabetização - CA', 'Maternal, jardim de infância', 'Pré-vestibular', 'Mestrado ou doutorado'])\n",
    "\n",
    "cy = pd.crosstab(dados.UF, dados.V6003)\n",
    "cy"
   ]
  },
  {
   "cell_type": "code",
<<<<<<< HEAD
   "execution_count": 20,
=======
   "execution_count": 17,
>>>>>>> ee52d75d662253a1ff491af09223713a456bc7a4
   "metadata": {
    "collapsed": false
   },
   "outputs": [
    {
<<<<<<< HEAD
     "name": "stderr",
     "output_type": "stream",
     "text": [
      "C:\\Users\\VictorHugo\\Anaconda3\\lib\\site-packages\\pandas\\core\\internals.py:3253: VisibleDeprecationWarning: converting an array with ndim > 0 to an index will result in an error in the future\n",
      "  block = self.blocks[self._blknos[i]]\n"
     ]
    },
    {
     "data": {
      "text/plain": [
       "<matplotlib.axes._subplots.AxesSubplot at 0x20bb67d2fd0>"
      ]
     },
     "execution_count": 20,
=======
     "data": {
      "text/plain": [
       "<matplotlib.axes._subplots.AxesSubplot at 0x2433b547e48>"
      ]
     },
     "execution_count": 17,
>>>>>>> ee52d75d662253a1ff491af09223713a456bc7a4
     "metadata": {},
     "output_type": "execute_result"
    },
    {
     "data": {
      "image/png": "iVBORw0KGgoAAAANSUhEUgAAAs8AAAIwCAYAAAB5toZ7AAAABHNCSVQICAgIfAhkiAAAAAlwSFlz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\nktTI8CxJkiQ1+r+gzk+E9m5FxAAAAABJRU5ErkJggg==\n",
      "text/plain": [
<<<<<<< HEAD
       "<matplotlib.figure.Figure at 0x20bb66b82e8>"
=======
       "<matplotlib.figure.Figure at 0x2433af28438>"
>>>>>>> ee52d75d662253a1ff491af09223713a456bc7a4
      ]
     },
     "metadata": {},
     "output_type": "display_data"
    }
   ],
   "source": [
    "dados.V6003 = dados.V6003.astype('category')\n",
    "dados.V6003.cat.categories = ('Regular do ensino fundamental', 'Regular do ensino médio', 'Educação de jovens e adultos ou supletivo EF', \n",
    "                 'Educação de jovens e adultos ou supletivo EM', 'Superior de graduação', 'Alfabetização de jovens e adultos',\n",
    "                 'Creche', 'Classe de alfabetização - CA', 'Maternal, jardim de infância', 'Pré-vestibular', 'Mestrado ou doutorado')\n",
    "\n",
    "y = pd.crosstab (dados.UF, dados.V6003)\n",
    "\n",
    "y.plot(kind='bar', legend = False, title = 'Nivel de escolaridade', figsize = (12,8))"
   ]
  },
  {
   "cell_type": "markdown",
   "metadata": {},
   "source": [
    "Legenda do histograma acima:\n",
    "![Legenda_1](Legenda_1.png)\n"
   ]
  },
  {
   "cell_type": "markdown",
   "metadata": {},
   "source": [
    "**Conclusão**\n",
    "\n",
    "    Após as análise e os cruzamentos dos dados do PNAD 2013,podemos concluir que as regiões indicadas para o Sr. Gold abrir seu negócio são as regiões Nordeste e Sudeste, uma vez que essas possuem um maior número de indivíduos cursando o ensino médio ou cursinho pré-vestibular e, além disso, ambos possuem os maiores índices de pessoas em rede de ensino privada, oque, dependendo dos custos de cursar a faculdade do Sr. Gold, é uma variável a ser considerada. \n",
    "    "
   ]
  },
  {
   "cell_type": "code",
<<<<<<< HEAD
   "execution_count": 21,
=======
   "execution_count": 18,
>>>>>>> ee52d75d662253a1ff491af09223713a456bc7a4
   "metadata": {
    "collapsed": false
   },
   "outputs": [
    {
     "data": {
      "text/html": [
       "<div>\n",
       "<table border=\"1\" class=\"dataframe\">\n",
       "  <thead>\n",
       "    <tr style=\"text-align: right;\">\n",
       "      <th></th>\n",
       "      <th>UF</th>\n",
       "      <th>V0302</th>\n",
       "      <th>V0404</th>\n",
       "      <th>V0601</th>\n",
       "      <th>V6002</th>\n",
       "      <th>V6003</th>\n",
       "      <th>V4802</th>\n",
       "      <th>V8005</th>\n",
       "      <th>V4707</th>\n",
       "      <th>V4720</th>\n",
       "    </tr>\n",
       "  </thead>\n",
       "  <tbody>\n",
       "    <tr>\n",
       "      <th>1</th>\n",
       "      <td>Norte</td>\n",
       "      <td>Mulher</td>\n",
       "      <td>Branca</td>\n",
       "      <td>Sim</td>\n",
       "      <td>NaN</td>\n",
       "      <td>NaN</td>\n",
       "      <td>NaN</td>\n",
       "      <td>42</td>\n",
       "      <td>NaN</td>\n",
       "      <td>350.0</td>\n",
       "    </tr>\n",
       "    <tr>\n",
       "      <th>2</th>\n",
       "      <td>Norte</td>\n",
       "      <td>Mulher</td>\n",
       "      <td>Parda</td>\n",
       "      <td>Não</td>\n",
       "      <td>NaN</td>\n",
       "      <td>NaN</td>\n",
       "      <td>NaN</td>\n",
       "      <td>64</td>\n",
       "      <td>NaN</td>\n",
       "      <td>678.0</td>\n",
       "    </tr>\n",
       "    <tr>\n",
       "      <th>3</th>\n",
       "      <td>Norte</td>\n",
       "      <td>Mulher</td>\n",
       "      <td>Preta</td>\n",
       "      <td>Sim</td>\n",
       "      <td>Pública</td>\n",
       "      <td>Regular do ensino fundamental</td>\n",
       "      <td>6ª a 9ª séries do ensino fundamental regular e...</td>\n",
       "      <td>13</td>\n",
       "      <td>NaN</td>\n",
       "      <td>0.0</td>\n",
       "    </tr>\n",
       "    <tr>\n",
       "      <th>4</th>\n",
       "      <td>Norte</td>\n",
       "      <td>Homem</td>\n",
       "      <td>Parda</td>\n",
       "      <td>Sim</td>\n",
       "      <td>NaN</td>\n",
       "      <td>NaN</td>\n",
       "      <td>NaN</td>\n",
       "      <td>23</td>\n",
       "      <td>3.0</td>\n",
       "      <td>800.0</td>\n",
       "    </tr>\n",
       "    <tr>\n",
       "      <th>5</th>\n",
       "      <td>Norte</td>\n",
       "      <td>Mulher</td>\n",
       "      <td>Parda</td>\n",
       "      <td>Sim</td>\n",
       "      <td>Privada</td>\n",
       "      <td>Superior de graduação</td>\n",
       "      <td>Superior, inclusive mestrado ou doutorado</td>\n",
       "      <td>19</td>\n",
       "      <td>NaN</td>\n",
       "      <td>0.0</td>\n",
       "    </tr>\n",
       "  </tbody>\n",
       "</table>\n",
       "</div>"
      ],
      "text/plain": [
       "      UF   V0302   V0404 V0601    V6002                          V6003  \\\n",
       "1  Norte  Mulher  Branca   Sim      NaN                            NaN   \n",
       "2  Norte  Mulher   Parda   Não      NaN                            NaN   \n",
       "3  Norte  Mulher   Preta   Sim  Pública  Regular do ensino fundamental   \n",
       "4  Norte   Homem   Parda   Sim      NaN                            NaN   \n",
       "5  Norte  Mulher   Parda   Sim  Privada          Superior de graduação   \n",
       "\n",
       "                                               V4802  V8005  V4707  V4720  \n",
       "1                                                NaN     42    NaN  350.0  \n",
       "2                                                NaN     64    NaN  678.0  \n",
       "3  6ª a 9ª séries do ensino fundamental regular e...     13    NaN    0.0  \n",
       "4                                                NaN     23    3.0  800.0  \n",
       "5          Superior, inclusive mestrado ou doutorado     19    NaN    0.0  "
      ]
     },
<<<<<<< HEAD
     "execution_count": 21,
=======
     "execution_count": 18,
>>>>>>> ee52d75d662253a1ff491af09223713a456bc7a4
     "metadata": {},
     "output_type": "execute_result"
    }
   ],
   "source": [
    "dados.head()"
   ]
  },
  {
   "cell_type": "markdown",
   "metadata": {},
   "source": [
    "Renda"
   ]
  },
  {
   "cell_type": "code",
<<<<<<< HEAD
   "execution_count": 22,
=======
   "execution_count": 21,
>>>>>>> ee52d75d662253a1ff491af09223713a456bc7a4
   "metadata": {
    "collapsed": false
   },
   "outputs": [
    {
<<<<<<< HEAD
     "ename": "NameError",
     "evalue": "name 'valoresReais' is not defined",
     "output_type": "error",
     "traceback": [
      "\u001b[1;31m---------------------------------------------------------------------------\u001b[0m",
      "\u001b[1;31mNameError\u001b[0m                                 Traceback (most recent call last)",
      "\u001b[1;32m<ipython-input-22-5b7b49a9c8e2>\u001b[0m in \u001b[0;36m<module>\u001b[1;34m()\u001b[0m\n\u001b[1;32m----> 1\u001b[1;33m \u001b[0mvaloresReais\u001b[0m\u001b[1;33m.\u001b[0m\u001b[0mdescribe\u001b[0m\u001b[1;33m(\u001b[0m\u001b[1;33m)\u001b[0m\u001b[1;33m\u001b[0m\u001b[0m\n\u001b[0m",
      "\u001b[1;31mNameError\u001b[0m: name 'valoresReais' is not defined"
     ]
=======
     "data": {
      "text/html": [
       "<div>\n",
       "<table border=\"1\" class=\"dataframe\">\n",
       "  <thead>\n",
       "    <tr style=\"text-align: right;\">\n",
       "      <th></th>\n",
       "      <th>V4720</th>\n",
       "    </tr>\n",
       "  </thead>\n",
       "  <tbody>\n",
       "    <tr>\n",
       "      <th>count</th>\n",
       "      <td>303403.000000</td>\n",
       "    </tr>\n",
       "    <tr>\n",
       "      <th>mean</th>\n",
       "      <td>1077.657584</td>\n",
       "    </tr>\n",
       "    <tr>\n",
       "      <th>std</th>\n",
       "      <td>2269.936135</td>\n",
       "    </tr>\n",
       "    <tr>\n",
       "      <th>min</th>\n",
       "      <td>0.000000</td>\n",
       "    </tr>\n",
       "    <tr>\n",
       "      <th>25%</th>\n",
       "      <td>0.000000</td>\n",
       "    </tr>\n",
       "    <tr>\n",
       "      <th>50%</th>\n",
       "      <td>678.000000</td>\n",
       "    </tr>\n",
       "    <tr>\n",
       "      <th>75%</th>\n",
       "      <td>1200.000000</td>\n",
       "    </tr>\n",
       "    <tr>\n",
       "      <th>max</th>\n",
       "      <td>180000.000000</td>\n",
       "    </tr>\n",
       "  </tbody>\n",
       "</table>\n",
       "</div>"
      ],
      "text/plain": [
       "               V4720\n",
       "count  303403.000000\n",
       "mean     1077.657584\n",
       "std      2269.936135\n",
       "min         0.000000\n",
       "25%         0.000000\n",
       "50%       678.000000\n",
       "75%      1200.000000\n",
       "max    180000.000000"
      ]
     },
     "execution_count": 21,
     "metadata": {},
     "output_type": "execute_result"
>>>>>>> ee52d75d662253a1ff491af09223713a456bc7a4
    }
   ],
   "source": [
    "valoresReais = dados[(dados[\"V4720\"] < 10000000) ].iloc[:,9:10]\n",
    "valoresReais.describe()"
   ]
  },
  {
   "cell_type": "code",
   "execution_count": 22,
   "metadata": {
    "collapsed": false
   },
   "outputs": [],
   "source": [
    "#dados[\"V4720\"]\n",
    "from numpy import arange\n",
    "\n",
    "\n",
    "\n",
    "faixa = arange(0,3000, 100)\n",
    "asdw = valoresReais\n",
    "varial = pd.cut(asdw,faixa)\n",
    "varial = varial.value_counts()\n"
   ]
  },
  {
   "cell_type": "code",
   "execution_count": 23,
   "metadata": {
    "collapsed": false
   },
   "outputs": [
    {
     "data": {
      "text/plain": [
       "<matplotlib.axes._subplots.AxesSubplot at 0x2433fc55ac8>"
      ]
     },
     "execution_count": 23,
     "metadata": {},
     "output_type": "execute_result"
    },
    {
     "data": {
      "image/png": "iVBORw0KGgoAAAANSUhEUgAAAaMAAAEKCAYAAAC/hjrSAAAABHNCSVQICAgIfAhkiAAAAAlwSFlz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\n4RyMzMyscP8f+HWcMytKRkoAAAAASUVORK5CYII=\n",
      "text/plain": [
       "<matplotlib.figure.Figure at 0x243388f4f28>"
      ]
     },
     "metadata": {},
     "output_type": "display_data"
    }
   ],
   "source": [
    "asdw.plot.hist(bins = faixa, title = \"Renda populacional\")"
   ]
  },
  {
   "cell_type": "code",
   "execution_count": 24,
   "metadata": {
    "collapsed": false
   },
   "outputs": [
    {
     "data": {
      "text/plain": [
       "<matplotlib.axes._subplots.AxesSubplot at 0x2433b0c8e10>"
      ]
     },
     "execution_count": 24,
     "metadata": {},
     "output_type": "execute_result"
    },
    {
     "data": {
      "image/png": "iVBORw0KGgoAAAANSUhEUgAAAYcAAAEACAYAAABYq7oeAAAABHNCSVQICAgIfAhkiAAAAAlwSFlz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\nycHMzHKcHMzMLOf/AytVum7+ipprAAAAAElFTkSuQmCC\n",
      "text/plain": [
       "<matplotlib.figure.Figure at 0x2434290bc18>"
      ]
     },
     "metadata": {},
     "output_type": "display_data"
    }
   ],
   "source": [
    "valoresReais.plot(kind='box', color = 'blue' )"
   ]
  },
  {
   "cell_type": "code",
   "execution_count": 25,
   "metadata": {
    "collapsed": false
   },
   "outputs": [
    {
     "data": {
      "text/plain": [
       "<matplotlib.axes._subplots.AxesSubplot at 0x24338748198>"
      ]
     },
     "execution_count": 25,
     "metadata": {},
     "output_type": "execute_result"
    },
    {
     "data": {
      "image/png": "iVBORw0KGgoAAAANSUhEUgAAAs8AAAIwCAYAAAB5toZ7AAAABHNCSVQICAgIfAhkiAAAAAlwSFlz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\n",
      "text/plain": [
       "<matplotlib.figure.Figure at 0x243386b4400>"
      ]
     },
     "metadata": {},
     "output_type": "display_data"
    }
   ],
   "source": [
    "z = pd.crosstab (dados.UF, dados[\"V4720\"])\n",
    "\n",
    "z.plot(kind='bar', legend = False, title = \"Renda por regiões\", figsize = (12,8))"
   ]
  },
  {
   "cell_type": "markdown",
   "metadata": {},
   "source": [
    "Idade"
   ]
  },
  {
   "cell_type": "code",
   "execution_count": 26,
   "metadata": {
    "collapsed": false
   },
   "outputs": [
    {
     "data": {
      "text/plain": [
       "count    362555.000000\n",
       "mean         33.049813\n",
       "std          20.870874\n",
       "min           0.000000\n",
       "25%          16.000000\n",
       "50%          31.000000\n",
       "75%          48.000000\n",
       "max         109.000000\n",
       "Name: V8005, dtype: float64"
      ]
     },
     "execution_count": 26,
     "metadata": {},
     "output_type": "execute_result"
    }
   ],
   "source": [
    "dados[\"V8005\"].describe()"
   ]
  },
  {
   "cell_type": "code",
   "execution_count": 27,
   "metadata": {
    "collapsed": false
   },
   "outputs": [
    {
     "data": {
      "text/plain": [
       "<matplotlib.axes._subplots.AxesSubplot at 0x2433a3123c8>"
      ]
     },
     "execution_count": 27,
     "metadata": {},
     "output_type": "execute_result"
    },
    {
     "data": {
      "image/png": "iVBORw0KGgoAAAANSUhEUgAAAZkAAAEACAYAAABhzAtFAAAABHNCSVQICAgIfAhkiAAAAAlwSFlz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\n",
      "text/plain": [
       "<matplotlib.figure.Figure at 0x2434294c710>"
      ]
     },
     "metadata": {},
     "output_type": "display_data"
    }
   ],
   "source": [
    "faixaIdade = arange(0,110,5)\n",
    "ass = dados[\"V8005\"]\n",
    "variavel = pd.cut(ass, faixaIdade)\n",
    "variavel.value_counts()\n",
    "ass.plot.hist(bins = faixaIdade)"
   ]
  },
  {
   "cell_type": "code",
   "execution_count": 28,
   "metadata": {
    "collapsed": false
   },
   "outputs": [
    {
     "data": {
      "text/plain": [
       "<matplotlib.axes._subplots.AxesSubplot at 0x24336a69ba8>"
      ]
     },
     "execution_count": 28,
     "metadata": {},
     "output_type": "execute_result"
    },
    {
     "data": {
      "image/png": "iVBORw0KGgoAAAANSUhEUgAAAXQAAAEACAYAAACj0I2EAAAABHNCSVQICAgIfAhkiAAAAAlwSFlz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\nSY34PxEBHCrS0Ds5AAAAAElFTkSuQmCC\n",
      "text/plain": [
       "<matplotlib.figure.Figure at 0x24340f00780>"
      ]
     },
     "metadata": {},
     "output_type": "display_data"
    }
   ],
   "source": [
    "dados[\"V8005\"].plot(kind='box')"
   ]
  },
  {
   "cell_type": "code",
   "execution_count": 29,
   "metadata": {
    "collapsed": false
   },
   "outputs": [
    {
     "data": {
      "text/plain": [
       "<matplotlib.axes._subplots.AxesSubplot at 0x24336e21748>"
      ]
     },
     "execution_count": 29,
     "metadata": {},
     "output_type": "execute_result"
    },
    {
     "data": {
      "image/png": "iVBORw0KGgoAAAANSUhEUgAAAXoAAAEKCAYAAAAcgp5RAAAABHNCSVQICAgIfAhkiAAAAAlwSFlz\nAAALEgAACxIB0t1+/AAAGwpJREFUeJzt3Xu8XGV97/HPF5AGSQzZyEUSCCgXQ0XTUKIWNOONi1Xg\nWMsL0QKClxYUWuppE1F37Ks9SvvSghc8YhUSCo2Rc1CwEQLCgFKBKJcEk0J8SYAEEgWCiHqUwO/8\nsZ7tXmz27Nl7ZvaetZ/5vl+vSdY86/Zba2Z++5nnedYaRQRmZpav7bodgJmZjS8nejOzzDnRm5ll\nzonezCxzTvRmZplzojczy5wTvU0ISb+UtG+avljSP3Q3ot4laZGki0rP3yzpUUknSfpXSa/oZnzW\neU70NmqSjpB0i6QnUmL4nqRDR7NuREyLiA3jHKKNQkR8KiI+UCp6PXAU8CZg34i4pzuR2XjZodsB\n2OQgaRpwNfBB4BvAjsDrgN92M67cSNo+Ip5pd5mxiIhPpMnTO7VNqxbX6G20DgQiIpZH4bcRcX25\n9ifpNElrJT0m6TuS9inNe1bSS4duVNIukq6W9LO03tWS9moUhKSXS7pR0lZJayS9fYRl95VUl/QL\nSddK+rykS9O8BZIeGrL8/ZLemKYlaaGkn0j6uaRlknZpsJ8Fkh5KTSI/l/RTSSeV5r9I0tJ0jPdL\nOrc07xRJ35f0WUmPAv3DbL9f0jckXSrpCeCUZvFJOlnShjTvY0OOrX/gPKTnyyU9kr6p3STp4NHE\nbpOHE72N1n3AM5IukXT00KQn6ThgIXA8sBvwPeA/Sos0utfGdsDXgL2BfYBfA18YbkFJO1B8q7gm\n7eMs4DJJBzTY9uXAKuDFwD8CpwyJY6T7f5wFHEvxrWUvYCtw4QjL7wn0pWVPBS4qxfUFYBqwL1AD\nTpb03tK6rwZ+AuwO/FOD7R8LLI+IXYDLRoovJeovAu8CXgJMT8uUlY99BfAyinP6o7T9Ac1it8kg\nIvzwY1QP4CCKpPwg8DvgW8Buad4K4L2lZbcDfgXsnZ4/C7w0TV8M/EODfcwFHmsw7wjg4SFllwOf\nGGbZvVOMO5XKLgOWpukFwIND1rkfeGOaXgu8oTTvJWl72w2zrwVp3pRS2deBc9N5+C1wUGneB4Ab\n0vQpwIYm570fqA8paxgf8HHgstK8nVIMbyxtb2mDfe2SXqtpzWL3Y/I8XKO3UYuIeyPitIjYB3gF\nRS3x/DR7NnCBpMclPQ48RlFrnDnSNiXtJOnLqZnhCeAmYBdJGmbxvYCHhpQ90GAfewFbI+I3Q5Yd\nrdnAlaXjWQs8DezRYPmtEfH/huxrL4pvEy+g+OPYKOahxzScocuMFN9zzlM6B48Nt1FJ20n6dGoC\neoLij12kuF9M0Y83Uuw2CTjRW0si4j7gEoqED0Vi+WBE9KXHjIiYGhG3NtnUR4ADgMOiaJZ4fSof\nLtE/TFFTL9sH2DTMso8AMyTtNGTZAb8CXjjwRNL2FE0XAx4EjhlyPDtHxCMNjmO4fT0MPEqRgGeX\n5s0eEvNobiE7dJmR4nsEmFU6tp2AXRts993A2ylq+7tQNNEoPUYTu00CTvQ2KpIOknSOpJnp+d4U\nbcA/SIv8b+CjAx15kqZLeucoNj0V+A3wpKQ+YPEIy94G/FrS30naQVINeBuwbOiCEfEg8EPgk5Je\nIOkIioQ24D5giqRjUtv/xyhGEg34MvC/BjqUJe0m6dgRYlNpX68D/pSiTf1Zimacf5I0VdJs4G+A\nS0fY1miMFN8VwNslvUbSCxj5nE6laJ7ZKmln4FOkPyop9uXjELtNMCd6G61fUnQa3ibpl8B/Aasp\nauRExDeBTwPLUhPAauDo0vqNaq3nU9SsH03bXNEogIh4miJZvzUt/wXgL9K3i+GcBLyGotni48CS\n0raeBM4AvgpsTMe3sbTuBRR9ECsl/SLFNr9RbBS16K0UtfhLKb7drE/zzqLoZP4pcDPw7xFx8Qjb\nGo2G8UXEWuDDFH9gHgaeBH7G8ENhl1J8O9gE3JO2UzYesdsEU8TI3xolzaJ4M+xB0UlzUUR8XlI/\n8H6KNxDARyPimrTOIuA0YBtwdkSsTOXzKL7uTwFWRMRfd/yIzBpI79mXRcTJHd7uAuDS1HdROamm\n/gSwf0SMpZ/CMjGaC6a2AedExF2SpgI/knRdmvfZiPhseWFJc4ATgDkU7YTXSzogir8oXwJOj4hV\nklZIOioiru3c4ZgZgKS3Ad+l+Nb+GWC1k3zvatp0ExGbI+KuNP0UsI7BXvfhOsyOA5ZFxLYoLnlf\nD8yXtCcwLSJWpeWWUoy5NrPOO46i2WYjxRj5E7sbjnXTmNroVdyUai5FpxjAhyTdJenfJE1PZTN5\n7lCwTalsJs9tA92Ih2nZBIqIT3a62SZt96aqNdtExPvTSJwZEfGWUn+B9aBRJ/rUbHMFRZv7UxRX\n4b00IuYCmym+HpqZWcWM6qZmafjZFRQdTt8CiIiflxb5CsWl6VDU4MtjnWelskblw+1vNOOKzcxs\niIh4XpP6aGv0XwPWRsQFAwWpzX3AOyiGZgFcBZwoaUdJ+wH7A7dHxGbgF5Lmp6seT6YYHtYo2K4+\n+vv7ux5DVR4+Fz4XPheT41w00rRGL+lwiqvn1ki6k2I89EeBkyTNpRhyuYHi9rVExFpJyxm8JPuM\nGIzgTJ47vPKaZvs3M7P2NE30EXELsP0wsxom6Yj4FMUVdkPLfwQcMpYAzcysPb4ytoFardbtECrD\n52KQz8Ugn4tBVT8XTa+M7QZJUcW4zMyqTBLRRmesmZlNUk70ZmaZc6I3M8ucE72ZWeac6M3MMudE\nb2aWOSd6M7PMOdGbmWXOid7MLHNO9GZmmXOiNzPLnBO9mVnmnOjNzDLnRG9mljknejOzzDnRm5ll\nzonezCxzTvRmZplzojczy5wTvZlZ5pzozcwy50RvZpY5J3ozs8w50ZuZZc6J3swsc070ZmaZc6I3\nM8ucE72ZWeZ26HYA1n2SOrKdiOjIdsyss5zozQnaLHNuujEzy5wTvTW1eHG3IzCzdqiKX9slRRXj\n6lUS+OUwqz5JRMTzOt1cozczy1zTRC9plqQbJP1Y0hpJZ6XyGZJWSrpX0rWSppfWWSRpvaR1ko4s\nlc+TtFrSfZLOH59DMjOzstHU6LcB50TEHwKvBc6U9HJgIXB9RBwE3AAsApB0MHACMAc4BrhQg+P3\nvgScHhEHAgdKOqqjR2NmZs/TNNFHxOaIuCtNPwWsA2YBxwFL0mJLgOPT9LHAsojYFhEbgPXAfEl7\nAtMiYlVabmlpHTMzGydjaqOXtC8wF7gV2CMitkDxxwDYPS02E3iotNqmVDYT2Fgq35jKrOL6+7sd\ngZm1Y9QXTEmaClwBnB0RT0kaOg6jo+MyFpfG9NVqNWq1Wic3b2Pg4ZVm1VSv16nX602XG9XwSkk7\nAN8GvhMRF6SydUAtIrakZpkbI2KOpIVARMR5ablrgH7ggYFlUvmJwIKI+Kth9ufhlWZmY9Tu8Mqv\nAWsHknxyFXBqmj4F+Fap/ERJO0raD9gfuD017/xC0vzUOXtyaR0zMxsnTWv0kg4HbgbWUDTPBPBR\n4HZgObA3RW39hIh4Iq2zCDgdeJqiqWdlKj8UuASYAqyIiLMb7NM1ejOzMWpUo/eVsWZmmfCVsdYy\nd8aaTW6u0VtTvteN2eTgGr2ZWY9yojczy5wTvZlZ5pzozcwy50RvTfleN2aTm0fdmJllotGom1Hf\n1MysFwz+dELrXEmxqnGiNytpfksQX1Ngk4/b6M3MMudEb2aWOSd6a8r3uhnkEUg2GXnUjTXldmmz\nycH3ujEz61FO9GZmmXOiNzPLnBO9mVnmnOitKY80GeQRSDYZedSN2Rh4BJJVmUfdmJn1KCd6M7PM\nOdGbmWXOid7MLHNO9NaUR5oM8ggkm4w86saa8kgTs8nBo27MzHqUE72ZWeac6M3MMudEb2aWOSf6\nzPX1FZ2p7Tyg/W309XX3PHSKRyDZZORRN5mryoiZqsTRrlyOw/LkUTdmZj3Kid7MLHNO9GZmmWua\n6CV9VdIWSatLZf2SNkq6Iz2OLs1bJGm9pHWSjiyVz5O0WtJ9ks7v/KGYmdlwRlOjvxg4apjyz0bE\nvPS4BkDSHOAEYA5wDHChNDBugy8Bp0fEgcCBkobbptm48Qgk61U7NFsgIr4vafYws57XswscByyL\niG3ABknrgfmSHgCmRcSqtNxS4Hjg2hbjNhuzrVurMWJGw31yzMZRO230H5J0l6R/kzQ9lc0EHiot\nsymVzQQ2lso3pjIzMxtnrSb6C4GXRsRcYDPwmc6FZGZmndS06WY4EfHz0tOvAFen6U3A3qV5s1JZ\no/KGFpcuQazVatRqtVZCNTPLVr1ep16vN11uVFfGStoXuDoiDknP94yIzWn6b4DDIuIkSQcDlwGv\npmiauQ44ICJC0q3AWcAq4D+Bzw104g6zP18Z2yFVuZKzCnFUIYYqxWH5aXRlbNMavaTLgRqwq6QH\ngX7gDZLmAs8CG4APAkTEWknLgbXA08AZpYx9JnAJMAVY0SjJm5lZZ/leN5mrSu2xCnFUIYYqxWH5\n8b1uzMx6lBO9mVnmnOjNzDLnRG9mljknejOzzDnRm5llzonezCxzTvRmZplzojczy5wTvZlZ5pzo\nzcwy50RvZpY5J3ozs8w50ZuZZc6J3swscy39lGAOpOfdsrklvm++mVVdzyb6ZgnaPw5hZrlw042Z\nWeac6Bvo7+92BGZmneHfjM1cVZqgqhBHFWKoUhyWn0a/GduzbfTWewJBZ/rg24xj8F+zieBEbz1D\nRCVq0pLTvE0st9GbmWXOid7MLHNO9A0sXtztCMzMOsOjbhrGkMfIiKocRxXiqEIMVYrD8tNo1I1r\n9GZmmXOiNzPLnBO9mVnmnOjNzDLnRN+A73VjZrnwqJvMVWWERxXiqEIMVYrD8uNRN2ZmPcqJ3sws\nc070ZmaZc6I3M8tc00Qv6auStkhaXSqbIWmlpHslXStpemneIknrJa2TdGSpfJ6k1ZLuk3R+5w+l\ns3K5101xD/buP6IKN4I361FNR91IOgJ4ClgaEa9MZecBj0XEP0v6e2BGRCyUdDBwGXAYMAu4Hjgg\nIkLSbcCHImKVpBXABRFxbYN9dn3UTS4jI6pyHFWIowoxVCkOy0/Lo24i4vvA1iHFxwFL0vQS4Pg0\nfSywLCK2RcQGYD0wX9KewLSIWJWWW1pax8zMxlGrbfS7R8QWgIjYDOyeymcCD5WW25TKZgIbS+Ub\nU5mZmY2zTv2UoL+ImmVGar9fpdtNsFZoNdFvkbRHRGxJzTI/S+WbgL1Ly81KZY3KG1pc6g2t1WrU\narUWQzWzVjTvv3NfQ7fV63Xq9XrT5UZ1CwRJ+wJXR8Qh6fl5wOMRcV6DzthXUzTNXMdgZ+ytwFnA\nKuA/gc9FxDUN9tdWZ2xfH2wd2qvQBTNmwOOPdzeGqnwYqxBHFWKoUhztyuU4ctKoM7ZpjV7S5UAN\n2FXSg0A/8GngG5JOAx4ATgCIiLWSlgNrgaeBM0oZ+0zgEmAKsKJRku+ErVur8QbswDdfM7O2ZXlT\ns6rUNKoQRxViqEocVYihSnG0K5fjyIlvamZmHeVbeU8ertGPoyrEUYUYqhJHFWKoUhyWH9fozcx6\nlBO9mVnmnOjNzDLnRG9mljknejNrSS638u4FHnUzjqoQRxViqEocVYihSnG0K5fjyIlH3ZiZ9Sgn\nejOzzDnRm5llzonezCxzTvRmPaivr/3ffIf2t9HX193z0Cs69QtTZjaJ+FbevcU1ejOzzDnRm5ll\nzonezCxzTvRmZplzojczy5wTvZlZ5jy80sysCXVgHGg3byDpGr2ZWRMRMeKjv3/k+d2+S7BvUzyO\nqhBHFWKoShxViKEqcVQhhirFkQvfptjMrEc50ZuZZc6J3swsc070ZmaZc6I360FBm/cX7tAjyOP2\nlVX/oXSPuhlHVYijCjFUJY4qxFCVOKoQQ5XiaFdVjsOjbszMepQTvZlZ5pzozcwy50RvZpY5J3oz\n62m98EPpvnulmfW0XvihdNfozcwy11ail7RB0t2S7pR0eyqbIWmlpHslXStpemn5RZLWS1on6ch2\ngzczs+bardE/C9Qi4o8iYn4qWwhcHxEHATcAiwAkHQycAMwBjgEuVCfu5m9mZiNqN9FrmG0cByxJ\n00uA49P0scCyiNgWERuA9cB8xoEv7zYzG9Ruog/gOkmrJL0vle0REVsAImIzsHsqnwk8VFp3Uyrr\nOBFF70qXH6ICPTxm1vPaHXVzeEQ8Imk3YKWke+F52a2lbLe4dJegWq1GrVZrNUYzsyzV63Xq9XrT\n5Tp2UzNJ/cBTwPso2u23SNoTuDEi5khaCEREnJeWvwboj4jbhtmWb2qWUQxViaMKMVQljirEUJU4\nqhBDp+Lo+E3NJL1Q0tQ0vTNwJLAGuAo4NS12CvCtNH0VcKKkHSXtB+wP3N7q/s3MbHTaabrZA7hS\nUqTtXBYRKyX9EFgu6TTgAYqRNkTEWknLgbXA08AZbVXbzcxsVHw/+nFUhTiqEENV4qhCDFWJowox\nVCWOKsTQqTh8P3ozsx7lRG9mljknejOzzPnulWbW04or6bsdxcAFR+PTWeBEb2Y9TUR1OmPHadtu\nujEzy5wTvZlZ5pzozcwy50RvZpY5J3ozs8w50ZuZZc6J3swsc070ZmaZc6I3M8ucE72ZWeZ8CwTr\nKarAPU1mzOh2BNZrnOitZ3TifiZV+ZEKs7Fw042ZWeac6M3MMudEb2aWObfR9wB3QJr1Nif6zLkD\nsrP6+7sdgdnYKSr4CZYU7cRVlcRUlTjalctx2KCqvKZViKMKMXQqDklExPO+w7uN3swsc070ZmaZ\nc6I3M8ucE7015Q5Is8nNid6aWry42xFUh8+FTUYedTOOqhKHdU4ur2lVjqMKcVQhhk7F0WjUjcfR\nm/UoX0jXO5zozXqQL6TrLW6jNzPLXLaJXur+I5evpe6ANJvcsuyM7UwM/lo6wOdi0OLF/sM3IJf3\nRVWOYzw7Y53oG8ZQjRe/CnwubDi5vC+q0CkNRQvA44+3t43K3OtG0tGS/lvSfZL+fqL3b2adkcuF\ndBHtPzqxnXaT/EgmNNFL2g74AnAU8IfAuyS9fCJjGL16twOokHq3A6iMer3e7RAqo1ardzuECql3\nO4ARTXSNfj6wPiIeiIingWXAcRMcwyjVux1AhdS7HUBlONEP8rkoq3c7gBFNdKKfCTxUer4xlVXO\nggXdjqA6fC7MJrdsh1e2q1brdgTV4XMxyJVYm4wmdNSNpNcAiyPi6PR8IRARcd6Q5TLoyzczm3hd\nH14paXvgXuBNwCPA7cC7ImLdhAVhZtZjJvReNxHxjKQPASspmo2+6iRvZja+KnnBlJmZdU5PdMZK\nelbSv5Se/62kT4xxGwskvbbz0XVOJ45zmG3eL6mvhfVOkbRnO/vuJEnnSrpH0t2S7pB02BjWzeIc\ntGos5y4d8+cnMr603z0k/Yek9ZJWSfq2pP1b3FZHXjdJH5C0TtJaSbdKOrzF7bSde3oi0QO/Bd7R\nyocVft+3UAP+pJNBjYNOHOdQrX7lO5WKDJ1NgwDeCsyNiFcBb+a5w3ybmfTnoFUtnrtuNBNcCdwQ\nEQdExGHAImCPFrd1Kg1et3TRZ1OS3ga8H/iTiDgY+Cvgckm7txBPjTZzT68k+m3ARcA5Q2dImi3p\nu5LuknSdpFmp/GJJX5L0A2A58JfAX6cazeGSXizpCkm3pUcV/gi0c5y3AudJ6pN0raQ1kr4CqLSN\nd6djvSOtI0nbpW2sTjW+syX9GfDHwL+nZf9A0jxJ9VTb+o6kVj+ErXgJ8GhEbAOIiMcjYnO5pi7p\nUEk3pukcz0GrxnTuukHSG4DfRcRXBsoiYk1E3JLmf0TS7em935/KZqea9kXp28o16TUa+rpNScf6\naUk/BN4p6VWSfpC2938kTR8mrL8DPhIRW1M8dwKXAGem/Q/7XpB0lqQfp21fLmk2ncg9EZH9A3gS\nmArcD0wD/hb4RJp3FfCeNP1e4Mo0fTFwVWkb/cA5peeXUfy1BtgbWJvJcV4AfCxNvxV4BugDXp62\nsX2a90XgPcA8YGVp/Rel/28A/ihN7wDcAuyanp9A0RE/UedlZ+BO4L9T3K9P5T8F+tL0oRQ1wizP\nwQSeu1OAz01wjB8GPtNg3luAL6dpAVcDRwCzgd8Bh6R5XwdOStM3Drxu6fn9FEl74PndwBFp+pPA\nvw6z38eAaUPKjgWuGOm9AGwCXjDkfdR27umZX5iKiKckLQHOBn5TmvVa4H+k6UuB8pj+b4ywyTcD\nc6Tf3/tuqqQXRsSvOxVzKzpwnK8fWC4iVkjamsrfRJHQVqVjngJsAb4N7CfpAmAFxYgqKD5UA+fm\nIOAVwHVp3e2Ah9s81FGLiF9Jmge8DngjsEzSohFWye4ctKqFc1c1RwJvkXQHxWuxM3AARfPT/RGx\nJi33I2Df0npDx6J/HUDSi4DpEfH9VL6E4hv/UCM1X430Xriboonnm8A3G6w/5tzTM4k+uQC4g6IW\nO2CkF+RXI8wT8Ooo7tlTNe0c59DlVPp/SUScO3RlSa+iuFHdXwJ/DrxvmG3cExEtdUZ1QhTVn5uB\nmyWtoah5bmOw+XLKCKtncQ5a1ea5mwg/Bt7ZYJ6AT0WpWQeKphuKPq0BzzDycYyUC4azluKbTr1U\ndmiKdaT3wp9SVDSOBc6V9Iphlhlz7umVNnoBRNFethw4vTTvv4B3pen3AN9rsI1fAi8qPV9JUWsu\ndlB80LutE8d5M/BuAEnHALuk8u9StE/ulubNkLSPpF0pmjKuBD5GUeOF556ve4HdVHTsIWkHSQe3\nc6BjIelAPXcExlxgQ3r8cSr7s9L87M5Bq1o4dxMuIm4AdpT0+z+ukg6RdARwLXCapJ1T+V4Drx/P\nr7UPGPpZL+/rSWCrBkfQ/AVw0zCL/gupzyvtdy7FH8gvMvJ7YZ+IuAlYmGKYOkw8Y8893W4DnKA2\nvCdL07sDTwEfT8/3ofgA3wVcB8xK5V8D3lFa7wCKr1V3AIdTtNkuS2X3ABdmcpx9FB+ONcCXKdon\nB9pi/5yivfZuYBXF3UhfSfG19850bo5My76Dol33DuAPgFdRfCDuSts+fQLPyzyKNtF70v6vSMd5\nBMWH7nbgnxlsZ87uHEzguZvwNvq03z0pmld+ks7t1cDL0rwPA6vT4xZgP4o2+tWl9cv9WeXXbQql\n/og0/5XAD9L5+L8UTTnDxfTBtJ21wG3A4UO28Zz3AkULy/fSe2s18D/Tsm3nHl8wZWaWuV5pujEz\n61lO9GZmmXOiNzPLnBO9mVnmnOjNzDLnRG9mljknejOzzDnRm5ll7v8D95E5hbsW19EAAAAASUVO\nRK5CYII=\n",
      "text/plain": [
       "<matplotlib.figure.Figure at 0x24355096320>"
      ]
     },
     "metadata": {},
     "output_type": "display_data"
    }
   ],
   "source": [
    "tabela = pd.crosstab(dados[\"V8005\"], dados[\"UF\"])#.describe()\n",
    "#tabela\n",
    "\n",
    "tabela.plot(kind='box', title = \"Seila o que por região\")"
   ]
  },
  {
   "cell_type": "code",
   "execution_count": 30,
   "metadata": {
    "collapsed": false
   },
   "outputs": [
    {
     "name": "stderr",
     "output_type": "stream",
     "text": [
      "C:\\Users\\felipe\\Anaconda3\\lib\\site-packages\\numpy\\lib\\function_base.py:3834: RuntimeWarning: Invalid value encountered in percentile\n",
      "  RuntimeWarning)\n"
     ]
    },
    {
     "data": {
      "text/plain": [
       "count    172330.000000\n",
       "mean          3.089909\n",
       "std           1.065145\n",
       "min           1.000000\n",
       "25%                NaN\n",
       "50%                NaN\n",
       "75%                NaN\n",
       "max           5.000000\n",
       "Name: V4707, dtype: float64"
      ]
     },
     "execution_count": 30,
     "metadata": {},
     "output_type": "execute_result"
    }
   ],
   "source": [
    "dados[\"V4707\"].describe()"
   ]
  },
  {
   "cell_type": "code",
   "execution_count": 31,
   "metadata": {
    "collapsed": false
   },
   "outputs": [
    {
     "data": {
      "text/plain": [
       "<matplotlib.axes._subplots.AxesSubplot at 0x243426d2668>"
      ]
     },
     "execution_count": 31,
     "metadata": {},
     "output_type": "execute_result"
    },
    {
     "data": {
      "image/png": "iVBORw0KGgoAAAANSUhEUgAAAZMAAAEKCAYAAADXdbjqAAAABHNCSVQICAgIfAhkiAAAAAlwSFlz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\niVEAAAAASUVORK5CYII=\n",
      "text/plain": [
       "<matplotlib.figure.Figure at 0x2434250b588>"
      ]
     },
     "metadata": {},
     "output_type": "display_data"
    }
   ],
   "source": [
    "\n",
    "faixaTrampo = arange(0,6,1)\n",
    "asj = dados[\"V4707\"]\n",
    "variavel = pd.cut(asj, faixaTrampo)\n",
    "variavel.value_counts()\n",
    "\n",
    "asj.plot.hist(bins = faixaTrampo, title = \"Horas trabalhadas semanalmente\")"
   ]
  },
  {
   "cell_type": "code",
   "execution_count": 32,
   "metadata": {
    "collapsed": false
   },
   "outputs": [
    {
     "data": {
      "text/plain": [
       "<matplotlib.axes._subplots.AxesSubplot at 0x243365e88d0>"
      ]
     },
     "execution_count": 32,
     "metadata": {},
     "output_type": "execute_result"
    },
    {
     "data": {
      "image/png": "iVBORw0KGgoAAAANSUhEUgAAAXEAAAEACAYAAABF+UbAAAAABHNCSVQICAgIfAhkiAAAAAlwSFlz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\nRK5CYII=\n",
      "text/plain": [
       "<matplotlib.figure.Figure at 0x243418b4518>"
      ]
     },
     "metadata": {},
     "output_type": "display_data"
    }
   ],
   "source": [
    "dados[\"V4707\"].plot(kind = 'box')"
   ]
  },
  {
   "cell_type": "markdown",
   "metadata": {},
   "source": [
    "**Conclusão**\n",
    "\n",
    "   Após a análise de alguns dados quantitativos relacionados à renda, idade e horas de trabalho semanais da população em questão, podemos perceber que as regiões Sudeste e Nordeste continuam se destacando como sendo as mais indicadas para que o Sr. Gold instale seu negócio. Isso porque, por se tratar possivelmente de uma faculdade particular, a renda das pessoas das regiões anteriormente citadas se encaixam melhor nesse quesito quando comparadas às outras regiões."
   ]
  }
 ],
 "metadata": {
  "anaconda-cloud": {},
  "kernelspec": {
   "display_name": "Python [Root]",
   "language": "python",
   "name": "Python [Root]"
  },
  "language_info": {
   "codemirror_mode": {
    "name": "ipython",
    "version": 3
   },
   "file_extension": ".py",
   "mimetype": "text/x-python",
   "name": "python",
   "nbconvert_exporter": "python",
   "pygments_lexer": "ipython3",
   "version": "3.5.2"
  }
 },
 "nbformat": 4,
 "nbformat_minor": 0
}
