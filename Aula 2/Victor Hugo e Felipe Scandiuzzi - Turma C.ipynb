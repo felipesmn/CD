{
 "cells": [
  {
   "cell_type": "markdown",
   "metadata": {},
   "source": [
    "___\n",
    "# Atividade: Variáveis qualitativas com a PNAD (ALUNOS)\n",
    "___\n",
    "Felipe Scandiuzzi Moreria Netto e Victor Hugo Leal Vieira da Silva\n",
    "\n",
    "## Aula 02\n",
    "\n",
    "\n",
    "**Link úteis:**\n",
    "1.\tLeitura prévia necessária: Magalhães e Lima (7ª. Edição): pág. 9 a 16 – destacando para variáveis qualitativas.\n",
    "2.\t10 Minutes to Pandas: http://pandas.pydata.org/pandas-docs/stable/10min.html\n",
    "3.\tEssential Basic Functionality: http://pandas.pydata.org/pandas-docs/stable/basics.html\n",
    "4.  Estude a aula `Aula02 Análise Exploratoria Variáveis Qualitativas-ALUNOS.ipynb`, o qual contém uma introdução ao Jupyter Notebook. A publicação dessa aula tem como objetivo auxiliá-lo, caso queira, no desenvolvimento dos seus próximos programas, como esta atividade.\n",
    "\n",
    "**Hoje:**\n",
    "1.\tAnalisar variáveis qualitativas de forma uni e bivariadas utilizando tabelas de frequências e gráficos de barras e de pizza (ou setor).\n",
    "2.  Trabalhar com a base de dados da PNAD 2013 - Pesquisa Nacional por Amostra de Domicílios\n",
    "\n",
    "**Próxima aula:**\n",
    "1.\tLeitura prévia necessária: Magalhães e Lima (7ª. Edição): pág. 9 a 17 – destacando para variáveis quantitativas; pág. 106 e 107 (Definição 4.1 e Exemplo 4.1).\n",
    "\n",
    "___\n"
   ]
  },
  {
   "cell_type": "markdown",
   "metadata": {},
   "source": [
    "___\n",
    "## <font color='blue'>PNAD 2013 – PESQUISA NACIONAL POR AMOSTRA DE DOMICÍLIOS</font>\n",
    "\n",
    "**Base de dados reduzida: ** `pes2013A.txt` (75 MB)\n",
    "[Acesse a base de dados aqui: https://dl.dropboxusercontent.com/u/65763596/Aula02/pes2013A.txt] \n",
    "\n",
    "**Dicionário das variáveis: ** `Dicionário de variáveis de pessoas - PNAD 2013.xlsx`\n",
    "[Acesse dicionário aqui: https://dl.dropboxusercontent.com/u/65763596/Aula02/Dicion%C3%A1rio%20de%20vari%C3%A1veis%20de%20pessoas%20-%20PNAD%202013.xls]\n",
    "\n",
    "\n",
    "Muitos especialistas na área de negócios dizem que empresários mais bem sucedidos são aqueles que fazem um planejamento antes de começar seu próprio negócio. Nessa visão, imagine que o Sr. Gold tenha como grande objetivo abrir uma nova faculdade e para isso deseja estudar o perfil do estudante que cursa ensino médio ou pré-vestibular e do que cursa ensino superior. \n",
    "\n",
    "Assuma que as variáveis de interesse a respeito dos estudantes sejam relativamente as mesmas de 2013 até o momento atual. Nesse caso, seja criativo para ajudar o Sr. Gold que deseja abrir seu negócio, mas não tem certeza sobre quais variáveis o interessam. \n",
    "\n",
    "Vocês podem ajudá-lo?!  \n",
    "\n",
    "As variáveis a seguir devem fazer parte da sua análise:\n",
    "\n",
    "* V0302: sexo\n",
    "* V0404: cor ou raça\n",
    "* V6002: rede de ensino\n",
    "* V4802: nível de ensino e grupos de séries do ensino fundamental que frequentavam (todos os estudantes)\n",
    "\n",
    "** Crie uma variável com região do indivíduo amostrado considerando a variável `UF` que define o estado e também trabalhe com essa nova variável em suas análises. ** \n",
    "\n",
    "** Escolha mais pelo menos DUAS variáveis qualitativas para completar sua análise!! **\n",
    "\n",
    "Faça uma análise exploratória apenas com as variáveis qualitativas com foco no objetivo do Sr. Gold.\n",
    "\n",
    "Sua análise deve conter pelo menos uma das seguintes visualizações:\n",
    "\n",
    "1. Gráfico de colunas (bar) e setor (pie) com as frequências relativas cadas categorias das variáveis qualitativas.\n",
    "2. Tabela cruzada entre pares de variaveis qualitativas. Montar o gráfico de colunas. Repetir o processo habilitando a opção \"stacked=True\".\n",
    "\n",
    "\n",
    "___\n",
    "\n",
    "\n",
    "<font color='red'>\n",
    "Crie um repositório chamado CD em seu Github\n",
    "</font>\n",
    "\n",
    "\n",
    "Neste repositório, salve seu trabalho numa pasta chamada aula2\n",
    "\n",
    "Por exemplo, se seu login for *pikachu* o projeto vai estar na pasta:\n",
    "\n",
    "https://github.com/<font color=red>pikachu/CD/aula2</font>\n",
    "\n",
    "\n",
    "\n",
    "## <font color='red'>Terça-feira (dia 16/08), no horário de atendimento da sua turma, deverá apresentar aos NINJAS!!</font>\n",
    "___"
   ]
  },
  {
   "cell_type": "code",
   "execution_count": 1,
   "metadata": {
    "collapsed": false
   },
   "outputs": [],
   "source": [
    "%matplotlib inline\n",
    "import pandas as pd\n",
    "import matplotlib.pyplot as plt\n",
    "import os"
   ]
  },
  {
   "cell_type": "code",
   "execution_count": 2,
   "metadata": {
    "collapsed": false
   },
   "outputs": [
    {
     "name": "stdout",
     "output_type": "stream",
     "text": [
      "Esperamos trabalhar no diretório\n",
      "C:\\Users\\VictorHugo\\Documents\\GitHub\\CD\\Aula 2\n"
     ]
    }
   ],
   "source": [
    "print('Esperamos trabalhar no diretório')\n",
    "print(os.getcwd())"
   ]
  },
  {
   "cell_type": "code",
   "execution_count": 3,
   "metadata": {
    "collapsed": false
   },
   "outputs": [
    {
     "data": {
      "text/html": [
       "<div>\n",
       "<table border=\"1\" class=\"dataframe\">\n",
       "  <thead>\n",
       "    <tr style=\"text-align: right;\">\n",
       "      <th></th>\n",
       "      <th>UF</th>\n",
       "      <th>V0302</th>\n",
       "      <th>V0404</th>\n",
       "      <th>V0601</th>\n",
       "      <th>V6002</th>\n",
       "      <th>V6003</th>\n",
       "      <th>V4802</th>\n",
       "    </tr>\n",
       "  </thead>\n",
       "  <tbody>\n",
       "    <tr>\n",
       "      <th>1</th>\n",
       "      <td>11</td>\n",
       "      <td>4</td>\n",
       "      <td>2</td>\n",
       "      <td>1</td>\n",
       "      <td>NaN</td>\n",
       "      <td>NaN</td>\n",
       "      <td>NaN</td>\n",
       "    </tr>\n",
       "    <tr>\n",
       "      <th>2</th>\n",
       "      <td>11</td>\n",
       "      <td>4</td>\n",
       "      <td>8</td>\n",
       "      <td>3</td>\n",
       "      <td>NaN</td>\n",
       "      <td>NaN</td>\n",
       "      <td>NaN</td>\n",
       "    </tr>\n",
       "    <tr>\n",
       "      <th>3</th>\n",
       "      <td>11</td>\n",
       "      <td>4</td>\n",
       "      <td>4</td>\n",
       "      <td>1</td>\n",
       "      <td>2.0</td>\n",
       "      <td>1.0</td>\n",
       "      <td>8.0</td>\n",
       "    </tr>\n",
       "    <tr>\n",
       "      <th>4</th>\n",
       "      <td>11</td>\n",
       "      <td>2</td>\n",
       "      <td>8</td>\n",
       "      <td>1</td>\n",
       "      <td>NaN</td>\n",
       "      <td>NaN</td>\n",
       "      <td>NaN</td>\n",
       "    </tr>\n",
       "    <tr>\n",
       "      <th>5</th>\n",
       "      <td>11</td>\n",
       "      <td>4</td>\n",
       "      <td>8</td>\n",
       "      <td>1</td>\n",
       "      <td>4.0</td>\n",
       "      <td>5.0</td>\n",
       "      <td>11.0</td>\n",
       "    </tr>\n",
       "  </tbody>\n",
       "</table>\n",
       "</div>"
      ],
      "text/plain": [
       "   UF  V0302  V0404  V0601  V6002  V6003  V4802\n",
       "1  11      4      2      1    NaN    NaN    NaN\n",
       "2  11      4      8      3    NaN    NaN    NaN\n",
       "3  11      4      4      1    2.0    1.0    8.0\n",
       "4  11      2      8      1    NaN    NaN    NaN\n",
       "5  11      4      8      1    4.0    5.0   11.0"
      ]
     },
     "execution_count": 3,
     "metadata": {},
     "output_type": "execute_result"
    }
   ],
   "source": [
    "dados = pd.read_excel('Excel Dados.xlsx')\n",
    "dados.head()\n"
   ]
  },
  {
   "cell_type": "code",
   "execution_count": 4,
   "metadata": {
    "collapsed": false
   },
   "outputs": [],
   "source": [
    "Norte = dados[(dados[\"UF\"] == 11) ].iloc [:,0:1]\n",
    "Nordeste = dados[(dados[\"UF\"] ==18) ].iloc [:,0:1]\n",
    "Sudeste = dados[(dados[\"UF\"]==31) ].iloc [:,0:1]\n",
    "Sul = dados[(dados[\"UF\"] == 41) ].iloc [:,0:1]\n",
    "CO = dados[(dados[\"UF\"] == 50) ].iloc [:,0:1]\n"
   ]
  },
  {
   "cell_type": "code",
   "execution_count": 5,
   "metadata": {
    "collapsed": false
   },
   "outputs": [
    {
     "data": {
      "text/plain": [
       "([<matplotlib.patches.Wedge at 0x17b31f877f0>,\n",
       "  <matplotlib.patches.Wedge at 0x17b31f12978>,\n",
       "  <matplotlib.patches.Wedge at 0x17b31eeeb70>,\n",
       "  <matplotlib.patches.Wedge at 0x17b311add68>,\n",
       "  <matplotlib.patches.Wedge at 0x17b311b2f60>],\n",
       " [<matplotlib.text.Text at 0x17b31f87f60>,\n",
       "  <matplotlib.text.Text at 0x17b31eee198>,\n",
       "  <matplotlib.text.Text at 0x17b311ad390>,\n",
       "  <matplotlib.text.Text at 0x17b311b2588>,\n",
       "  <matplotlib.text.Text at 0x17b31197780>],\n",
       " [<matplotlib.text.Text at 0x17b31f12438>,\n",
       "  <matplotlib.text.Text at 0x17b31eee630>,\n",
       "  <matplotlib.text.Text at 0x17b311ad828>,\n",
       "  <matplotlib.text.Text at 0x17b311b2a20>,\n",
       "  <matplotlib.text.Text at 0x17b31197c18>])"
      ]
     },
     "execution_count": 5,
     "metadata": {},
     "output_type": "execute_result"
    },
    {
     "data": {
      "image/png": "[encoded data removed]",
      "text/plain": [
       "<matplotlib.figure.Figure at 0x17b28f4c9b0>"
      ]
     },
     "metadata": {},
     "output_type": "display_data"
    }
   ],
   "source": [
    "# Somar a população das regiões\n",
    "Soma_Norte = Norte.sum()\n",
    "Soma_Nordeste = Nordeste.sum()\n",
    "Soma_Sudeste = Sudeste.sum()\n",
    "Soma_Sul = Sul.sum()\n",
    "Soma_CO = CO.sum()\n",
    "\n",
    "# Soma de todas as populações\n",
    "Soma_Total = dados.UF.sum()\n",
    "\n",
    "# Preparar porcentagens\n",
    "Porcentagem_Norte = (Soma_Norte/ Soma_Total) * 100\n",
    "Porcentagem_Nordeste = (Soma_Nordeste/ Soma_Total) * 100\n",
    "Porcentagem_Sudeste = (Soma_Sudeste/ Soma_Total) * 100\n",
    "Porcentagem_Sul = (Soma_Sul/ Soma_Total) * 100\n",
    "Porcentagem_CO = (Soma_CO/ Soma_Total) * 100\n",
    "\n",
    "# Lista de valores e legendas para o plot\n",
    "\n",
    "lista = [Porcentagem_Norte , Porcentagem_Nordeste, Porcentagem_Sudeste, Porcentagem_Sul, Porcentagem_CO]\n",
    "label_lista = [\"Norte\" , \"Nordeste\", \"Sudeste\", \"Sul\", \"Centro Oeste\"]\n",
    "\n",
    "# plot do gráfico de pizza\n",
    "plt.axis('equal')\n",
    "plt.title(\"Distribuição por Regiões\")\n",
    "plt.pie(lista, labels = label_lista, autopct = '%1.1f%%')"
   ]
  },
  {
   "cell_type": "code",
   "execution_count": 6,
   "metadata": {
    "collapsed": false,
    "scrolled": true
   },
   "outputs": [
    {
     "data": {
      "text/html": [
       "<div>\n",
       "<table border=\"1\" class=\"dataframe\">\n",
       "  <thead>\n",
       "    <tr style=\"text-align: right;\">\n",
       "      <th>V0302</th>\n",
       "      <th>Homem</th>\n",
       "      <th>Mulher</th>\n",
       "    </tr>\n",
       "    <tr>\n",
       "      <th>UF</th>\n",
       "      <th></th>\n",
       "      <th></th>\n",
       "    </tr>\n",
       "  </thead>\n",
       "  <tbody>\n",
       "    <tr>\n",
       "      <th>Norte</th>\n",
       "      <td>29492</td>\n",
       "      <td>29695</td>\n",
       "    </tr>\n",
       "    <tr>\n",
       "      <th>Nordeste</th>\n",
       "      <td>50363</td>\n",
       "      <td>54234</td>\n",
       "    </tr>\n",
       "    <tr>\n",
       "      <th>Sudeste</th>\n",
       "      <td>50606</td>\n",
       "      <td>54522</td>\n",
       "    </tr>\n",
       "    <tr>\n",
       "      <th>Sul</th>\n",
       "      <td>27210</td>\n",
       "      <td>28906</td>\n",
       "    </tr>\n",
       "    <tr>\n",
       "      <th>Centro Oeste</th>\n",
       "      <td>18431</td>\n",
       "      <td>19096</td>\n",
       "    </tr>\n",
       "  </tbody>\n",
       "</table>\n",
       "</div>"
      ],
      "text/plain": [
       "V0302         Homem  Mulher\n",
       "UF                         \n",
       "Norte         29492   29695\n",
       "Nordeste      50363   54234\n",
       "Sudeste       50606   54522\n",
       "Sul           27210   28906\n",
       "Centro Oeste  18431   19096"
      ]
     },
     "execution_count": 6,
     "metadata": {},
     "output_type": "execute_result"
    }
   ],
   "source": [
    "dados.UF = dados.UF.astype('category')\n",
    "dados.UF.cat.categories = ('Norte', 'Nordeste', 'Sudeste', 'Sul', 'Centro Oeste')\n",
    "\n",
    "dados.V0302 = dados.V0302.astype('category')\n",
    "dados.V0302.cat.categories = ('Homem', 'Mulher')\n",
    "\n",
    "ct = pd.crosstab(dados.UF, dados.V0302)\n",
    "ct"
   ]
  },
  {
   "cell_type": "code",
   "execution_count": 40,
   "metadata": {
    "collapsed": false,
    "scrolled": true
   },
   "outputs": [
    {
     "name": "stderr",
     "output_type": "stream",
     "text": [
      "C:\\Users\\VictorHugo\\Anaconda3\\lib\\site-packages\\pandas\\core\\internals.py:3253: VisibleDeprecationWarning: converting an array with ndim > 0 to an index will result in an error in the future\n",
      "  block = self.blocks[self._blknos[i]]\n"
     ]
    },
    {
     "data": {
      "text/plain": [
       "<matplotlib.axes._subplots.AxesSubplot at 0x17b3006cd30>"
      ]
     },
     "execution_count": 40,
     "metadata": {},
     "output_type": "execute_result"
    },
    {
     "data": {
      "image/png": "[encoded data removed]",
      "text/plain": [
       "<matplotlib.figure.Figure at 0x17b2e2943c8>"
      ]
     },
     "metadata": {},
     "output_type": "display_data"
    }
   ],
   "source": [
    "x = pd.crosstab (dados.UF, dados.V0302)\n",
    "x.plot(kind='bar', color=('green', 'salmon'), title = 'Distribuição de gênero por região')"
   ]
  },
  {
   "cell_type": "code",
   "execution_count": 16,
   "metadata": {
    "collapsed": false
   },
   "outputs": [
    {
     "data": {
      "text/html": [
       "<div>\n",
       "<table border=\"1\" class=\"dataframe\">\n",
       "  <thead>\n",
       "    <tr style=\"text-align: right;\">\n",
       "      <th>V0404</th>\n",
       "      <th>Indígena</th>\n",
       "      <th>Branca</th>\n",
       "      <th>Preta</th>\n",
       "      <th>Amarela</th>\n",
       "      <th>Parda</th>\n",
       "      <th>SD</th>\n",
       "    </tr>\n",
       "    <tr>\n",
       "      <th>UF</th>\n",
       "      <th></th>\n",
       "      <th></th>\n",
       "      <th></th>\n",
       "      <th></th>\n",
       "      <th></th>\n",
       "      <th></th>\n",
       "    </tr>\n",
       "  </thead>\n",
       "  <tbody>\n",
       "    <tr>\n",
       "      <th>Norte</th>\n",
       "      <td>912</td>\n",
       "      <td>14044</td>\n",
       "      <td>4376</td>\n",
       "      <td>180</td>\n",
       "      <td>39675</td>\n",
       "      <td>0</td>\n",
       "    </tr>\n",
       "    <tr>\n",
       "      <th>Nordeste</th>\n",
       "      <td>398</td>\n",
       "      <td>28656</td>\n",
       "      <td>10756</td>\n",
       "      <td>280</td>\n",
       "      <td>64501</td>\n",
       "      <td>6</td>\n",
       "    </tr>\n",
       "    <tr>\n",
       "      <th>Sudeste</th>\n",
       "      <td>160</td>\n",
       "      <td>53863</td>\n",
       "      <td>9782</td>\n",
       "      <td>547</td>\n",
       "      <td>40776</td>\n",
       "      <td>0</td>\n",
       "    </tr>\n",
       "    <tr>\n",
       "      <th>Sul</th>\n",
       "      <td>115</td>\n",
       "      <td>43363</td>\n",
       "      <td>2639</td>\n",
       "      <td>271</td>\n",
       "      <td>9728</td>\n",
       "      <td>0</td>\n",
       "    </tr>\n",
       "    <tr>\n",
       "      <th>Centro Oeste</th>\n",
       "      <td>103</td>\n",
       "      <td>15292</td>\n",
       "      <td>2577</td>\n",
       "      <td>193</td>\n",
       "      <td>19362</td>\n",
       "      <td>0</td>\n",
       "    </tr>\n",
       "  </tbody>\n",
       "</table>\n",
       "</div>"
      ],
      "text/plain": [
       "V0404         Indígena  Branca  Preta  Amarela  Parda  SD\n",
       "UF                                                       \n",
       "Norte              912   14044   4376      180  39675   0\n",
       "Nordeste           398   28656  10756      280  64501   6\n",
       "Sudeste            160   53863   9782      547  40776   0\n",
       "Sul                115   43363   2639      271   9728   0\n",
       "Centro Oeste       103   15292   2577      193  19362   0"
      ]
     },
     "execution_count": 16,
     "metadata": {},
     "output_type": "execute_result"
    }
   ],
   "source": [
    "# Dar nome as categorias\n",
    "dados.V0404 = dados.V0404.astype('category')\n",
    "dados.V0404.cat.categories = ('Indígena', 'Branca', 'Preta', 'Amarela', 'Parda','SD')\n",
    "\n",
    "ct = pd.crosstab(dados.UF, dados.V0404)\n",
    "ct"
   ]
  },
  {
   "cell_type": "code",
   "execution_count": 41,
   "metadata": {
    "collapsed": false
   },
   "outputs": [
    {
     "data": {
      "text/plain": [
       "<matplotlib.axes._subplots.AxesSubplot at 0x17b2cee2d68>"
      ]
     },
     "execution_count": 41,
     "metadata": {},
     "output_type": "execute_result"
    },
    {
     "data": {
      "image/png": "[encoded data removed]",
      "text/plain": [
       "<matplotlib.figure.Figure at 0x17b2ce0fe80>"
      ]
     },
     "metadata": {},
     "output_type": "display_data"
    }
   ],
   "source": [
    "x = pd.crosstab (dados.UF, dados.V0404)\n",
    "x.plot(kind='bar', title = 'Distribuição de cor/raça por região')"
   ]
  },
  {
   "cell_type": "code",
   "execution_count": 18,
   "metadata": {
    "collapsed": false
   },
   "outputs": [
    {
     "data": {
      "text/html": [
       "<div>\n",
       "<table border=\"1\" class=\"dataframe\">\n",
       "  <thead>\n",
       "    <tr style=\"text-align: right;\">\n",
       "      <th>V6002</th>\n",
       "      <th>Pública</th>\n",
       "      <th>Privada</th>\n",
       "    </tr>\n",
       "    <tr>\n",
       "      <th>UF</th>\n",
       "      <th></th>\n",
       "      <th></th>\n",
       "    </tr>\n",
       "  </thead>\n",
       "  <tbody>\n",
       "    <tr>\n",
       "      <th>Norte</th>\n",
       "      <td>16305</td>\n",
       "      <td>3155</td>\n",
       "    </tr>\n",
       "    <tr>\n",
       "      <th>Nordeste</th>\n",
       "      <td>23395</td>\n",
       "      <td>7953</td>\n",
       "    </tr>\n",
       "    <tr>\n",
       "      <th>Sudeste</th>\n",
       "      <td>19898</td>\n",
       "      <td>7307</td>\n",
       "    </tr>\n",
       "    <tr>\n",
       "      <th>Sul</th>\n",
       "      <td>10770</td>\n",
       "      <td>3663</td>\n",
       "    </tr>\n",
       "    <tr>\n",
       "      <th>Centro Oeste</th>\n",
       "      <td>7587</td>\n",
       "      <td>3111</td>\n",
       "    </tr>\n",
       "  </tbody>\n",
       "</table>\n",
       "</div>"
      ],
      "text/plain": [
       "V6002         Pública  Privada\n",
       "UF                            \n",
       "Norte           16305     3155\n",
       "Nordeste        23395     7953\n",
       "Sudeste         19898     7307\n",
       "Sul             10770     3663\n",
       "Centro Oeste     7587     3111"
      ]
     },
     "execution_count": 18,
     "metadata": {},
     "output_type": "execute_result"
    }
   ],
   "source": [
    "# Dar nome as categorias\n",
    "dados.V6002 = dados.V6002.astype('category')\n",
    "dados.V6002.cat.categories = ('Pública', 'Privada')\n",
    "\n",
    "ct = pd.crosstab(dados.UF, dados.V6002)\n",
    "ct"
   ]
  },
  {
   "cell_type": "code",
   "execution_count": 31,
   "metadata": {
    "collapsed": false
   },
   "outputs": [
    {
     "name": "stderr",
     "output_type": "stream",
     "text": [
      "C:\\Users\\VictorHugo\\Anaconda3\\lib\\site-packages\\pandas\\core\\internals.py:3253: VisibleDeprecationWarning: converting an array with ndim > 0 to an index will result in an error in the future\n",
      "  block = self.blocks[self._blknos[i]]\n"
     ]
    },
    {
     "data": {
      "text/plain": [
       "<matplotlib.axes._subplots.AxesSubplot at 0x17b2ecc9ef0>"
      ]
     },
     "execution_count": 31,
     "metadata": {},
     "output_type": "execute_result"
    },
    {
     "data": {
      "image/png": "[encoded data removed]",
      "text/plain": [
       "<matplotlib.figure.Figure at 0x17b30dd21d0>"
      ]
     },
     "metadata": {},
     "output_type": "display_data"
    }
   ],
   "source": [
    "x = pd.crosstab (dados.UF, dados.V6002)\n",
    "x.plot(kind='bar',  title = 'Rede escolar pública e privada')"
   ]
  },
  {
   "cell_type": "code",
   "execution_count": 20,
   "metadata": {
    "collapsed": false
   },
   "outputs": [
    {
     "data": {
      "text/html": [
       "<div>\n",
       "<table border=\"1\" class=\"dataframe\">\n",
       "  <thead>\n",
       "    <tr style=\"text-align: right;\">\n",
       "      <th>V0601</th>\n",
       "      <th>Sim</th>\n",
       "      <th>Não</th>\n",
       "    </tr>\n",
       "    <tr>\n",
       "      <th>UF</th>\n",
       "      <th></th>\n",
       "      <th></th>\n",
       "    </tr>\n",
       "  </thead>\n",
       "  <tbody>\n",
       "    <tr>\n",
       "      <th>Norte</th>\n",
       "      <td>48141</td>\n",
       "      <td>11046</td>\n",
       "    </tr>\n",
       "    <tr>\n",
       "      <th>Nordeste</th>\n",
       "      <td>82077</td>\n",
       "      <td>22520</td>\n",
       "    </tr>\n",
       "    <tr>\n",
       "      <th>Sudeste</th>\n",
       "      <td>92905</td>\n",
       "      <td>12223</td>\n",
       "    </tr>\n",
       "    <tr>\n",
       "      <th>Sul</th>\n",
       "      <td>49877</td>\n",
       "      <td>6239</td>\n",
       "    </tr>\n",
       "    <tr>\n",
       "      <th>Centro Oeste</th>\n",
       "      <td>32409</td>\n",
       "      <td>5118</td>\n",
       "    </tr>\n",
       "  </tbody>\n",
       "</table>\n",
       "</div>"
      ],
      "text/plain": [
       "V0601           Sim    Não\n",
       "UF                        \n",
       "Norte         48141  11046\n",
       "Nordeste      82077  22520\n",
       "Sudeste       92905  12223\n",
       "Sul           49877   6239\n",
       "Centro Oeste  32409   5118"
      ]
     },
     "execution_count": 20,
     "metadata": {},
     "output_type": "execute_result"
    }
   ],
   "source": [
    "# Dar nome as categorias\n",
    "dados.V0601 = dados.V0601.astype('category')\n",
    "dados.V0601.cat.categories = ('Sim', 'Não')\n",
    "\n",
    "cy = pd.crosstab(dados.UF, dados.V0601)\n",
    "cy"
   ]
  },
  {
   "cell_type": "code",
   "execution_count": 32,
   "metadata": {
    "collapsed": false
   },
   "outputs": [
    {
     "name": "stderr",
     "output_type": "stream",
     "text": [
      "C:\\Users\\VictorHugo\\Anaconda3\\lib\\site-packages\\pandas\\core\\internals.py:3253: VisibleDeprecationWarning: converting an array with ndim > 0 to an index will result in an error in the future\n",
      "  block = self.blocks[self._blknos[i]]\n"
     ]
    },
    {
     "data": {
      "text/plain": [
       "<matplotlib.axes._subplots.AxesSubplot at 0x17b30e3d4e0>"
      ]
     },
     "execution_count": 32,
     "metadata": {},
     "output_type": "execute_result"
    },
    {
     "data": {
      "image/png": "[encoded data removed]",
      "text/plain": [
       "<matplotlib.figure.Figure at 0x17b30c15ef0>"
      ]
     },
     "metadata": {},
     "output_type": "display_data"
    }
   ],
   "source": [
    "x = pd.crosstab (dados.UF, dados.V0601)\n",
    "x.plot(kind='bar', color=(\"red\", \"yellow\"), title = 'Alfabetização')\n"
   ]
  },
  {
   "cell_type": "code",
   "execution_count": 33,
   "metadata": {
    "collapsed": false
   },
   "outputs": [
    {
     "data": {
      "text/html": [
       "<div>\n",
       "<table border=\"1\" class=\"dataframe\">\n",
       "  <thead>\n",
       "    <tr style=\"text-align: right;\">\n",
       "      <th>V4802</th>\n",
       "      <th>Maternal, jardim de infância etc.</th>\n",
       "      <th>Classe de alfabetização</th>\n",
       "      <th>Alfabetização de adultos</th>\n",
       "      <th>1ª a 4ª séries do ensino fundamental regular em 8 anos ou de educação de jovens e adultos</th>\n",
       "      <th>5ª a 8ª séries do ensino fundamental regular em 8 anos ou de educação de jovens e adultos</th>\n",
       "      <th>1ª série do ensino fundamental regular em 9 anos</th>\n",
       "      <th>2ª a 5ª séries do ensino fundamental regular em 9 anos</th>\n",
       "      <th>6ª a 9ª séries do ensino fundamental regular em 9 anos</th>\n",
       "      <th>Educação de jovens e adultos não seriado do ensino fundamental</th>\n",
       "      <th>Ensino médio, inclusive pré-vestibular</th>\n",
       "      <th>Superior, inclusive mestrado ou doutorado</th>\n",
       "    </tr>\n",
       "    <tr>\n",
       "      <th>UF</th>\n",
       "      <th></th>\n",
       "      <th></th>\n",
       "      <th></th>\n",
       "      <th></th>\n",
       "      <th></th>\n",
       "      <th></th>\n",
       "      <th></th>\n",
       "      <th></th>\n",
       "      <th></th>\n",
       "      <th></th>\n",
       "      <th></th>\n",
       "    </tr>\n",
       "  </thead>\n",
       "  <tbody>\n",
       "    <tr>\n",
       "      <th>Norte</th>\n",
       "      <td>1145</td>\n",
       "      <td>238</td>\n",
       "      <td>49</td>\n",
       "      <td>299</td>\n",
       "      <td>460</td>\n",
       "      <td>1146</td>\n",
       "      <td>5481</td>\n",
       "      <td>4396</td>\n",
       "      <td>133</td>\n",
       "      <td>3316</td>\n",
       "      <td>2090</td>\n",
       "    </tr>\n",
       "    <tr>\n",
       "      <th>Nordeste</th>\n",
       "      <td>2182</td>\n",
       "      <td>371</td>\n",
       "      <td>227</td>\n",
       "      <td>367</td>\n",
       "      <td>454</td>\n",
       "      <td>1687</td>\n",
       "      <td>8056</td>\n",
       "      <td>7439</td>\n",
       "      <td>181</td>\n",
       "      <td>5057</td>\n",
       "      <td>3438</td>\n",
       "    </tr>\n",
       "    <tr>\n",
       "      <th>Sudeste</th>\n",
       "      <td>1656</td>\n",
       "      <td>282</td>\n",
       "      <td>82</td>\n",
       "      <td>187</td>\n",
       "      <td>425</td>\n",
       "      <td>1529</td>\n",
       "      <td>6145</td>\n",
       "      <td>6134</td>\n",
       "      <td>56</td>\n",
       "      <td>4781</td>\n",
       "      <td>3807</td>\n",
       "    </tr>\n",
       "    <tr>\n",
       "      <th>Sul</th>\n",
       "      <td>694</td>\n",
       "      <td>68</td>\n",
       "      <td>51</td>\n",
       "      <td>167</td>\n",
       "      <td>723</td>\n",
       "      <td>737</td>\n",
       "      <td>3262</td>\n",
       "      <td>2615</td>\n",
       "      <td>67</td>\n",
       "      <td>2432</td>\n",
       "      <td>2400</td>\n",
       "    </tr>\n",
       "    <tr>\n",
       "      <th>Centro Oeste</th>\n",
       "      <td>616</td>\n",
       "      <td>114</td>\n",
       "      <td>26</td>\n",
       "      <td>72</td>\n",
       "      <td>100</td>\n",
       "      <td>586</td>\n",
       "      <td>2453</td>\n",
       "      <td>2388</td>\n",
       "      <td>36</td>\n",
       "      <td>1817</td>\n",
       "      <td>1909</td>\n",
       "    </tr>\n",
       "  </tbody>\n",
       "</table>\n",
       "</div>"
      ],
      "text/plain": [
       "V4802         Maternal, jardim de infância etc.  Classe de alfabetização  \\\n",
       "UF                                                                         \n",
       "Norte                                      1145                      238   \n",
       "Nordeste                                   2182                      371   \n",
       "Sudeste                                    1656                      282   \n",
       "Sul                                         694                       68   \n",
       "Centro Oeste                                616                      114   \n",
       "\n",
       "V4802         Alfabetização de adultos  \\\n",
       "UF                                       \n",
       "Norte                               49   \n",
       "Nordeste                           227   \n",
       "Sudeste                             82   \n",
       "Sul                                 51   \n",
       "Centro Oeste                        26   \n",
       "\n",
       "V4802         1ª a 4ª séries do ensino fundamental regular em 8 anos ou de educação de jovens e adultos  \\\n",
       "UF                                                                                                        \n",
       "Norte                                                       299                                           \n",
       "Nordeste                                                    367                                           \n",
       "Sudeste                                                     187                                           \n",
       "Sul                                                         167                                           \n",
       "Centro Oeste                                                 72                                           \n",
       "\n",
       "V4802         5ª a 8ª séries do ensino fundamental regular em 8 anos ou de educação de jovens e adultos  \\\n",
       "UF                                                                                                        \n",
       "Norte                                                       460                                           \n",
       "Nordeste                                                    454                                           \n",
       "Sudeste                                                     425                                           \n",
       "Sul                                                         723                                           \n",
       "Centro Oeste                                                100                                           \n",
       "\n",
       "V4802         1ª série do ensino fundamental regular em 9 anos  \\\n",
       "UF                                                               \n",
       "Norte                                                     1146   \n",
       "Nordeste                                                  1687   \n",
       "Sudeste                                                   1529   \n",
       "Sul                                                        737   \n",
       "Centro Oeste                                               586   \n",
       "\n",
       "V4802         2ª a 5ª séries do ensino fundamental regular em 9 anos   \\\n",
       "UF                                                                      \n",
       "Norte                                                      5481         \n",
       "Nordeste                                                   8056         \n",
       "Sudeste                                                    6145         \n",
       "Sul                                                        3262         \n",
       "Centro Oeste                                               2453         \n",
       "\n",
       "V4802         6ª a 9ª séries do ensino fundamental regular em 9 anos   \\\n",
       "UF                                                                      \n",
       "Norte                                                      4396         \n",
       "Nordeste                                                   7439         \n",
       "Sudeste                                                    6134         \n",
       "Sul                                                        2615         \n",
       "Centro Oeste                                               2388         \n",
       "\n",
       "V4802         Educação de jovens e adultos não seriado do ensino fundamental  \\\n",
       "UF                                                                             \n",
       "Norte                                                       133                \n",
       "Nordeste                                                    181                \n",
       "Sudeste                                                      56                \n",
       "Sul                                                          67                \n",
       "Centro Oeste                                                 36                \n",
       "\n",
       "V4802         Ensino médio, inclusive pré-vestibular  \\\n",
       "UF                                                     \n",
       "Norte                                           3316   \n",
       "Nordeste                                        5057   \n",
       "Sudeste                                         4781   \n",
       "Sul                                             2432   \n",
       "Centro Oeste                                    1817   \n",
       "\n",
       "V4802         Superior, inclusive mestrado ou doutorado  \n",
       "UF                                                       \n",
       "Norte                                              2090  \n",
       "Nordeste                                           3438  \n",
       "Sudeste                                            3807  \n",
       "Sul                                                2400  \n",
       "Centro Oeste                                       1909  "
      ]
     },
     "execution_count": 33,
     "metadata": {},
     "output_type": "execute_result"
    }
   ],
   "source": [
    "# Dar nome as categorias\n",
    "dados.V4802 = dados.V4802.astype('category')\n",
    "\n",
    "dados.V4802.cat.categories = ('Maternal, jardim de infância etc.', \"Classe de alfabetização\", \"Alfabetização de adultos\",\n",
    "                              \"1ª a 4ª séries do ensino fundamental regular em 8 anos ou de educação de jovens e adultos\",\n",
    "                              \"5ª a 8ª séries do ensino fundamental regular em 8 anos ou de educação de jovens e adultos\",\n",
    "                              \"1ª série do ensino fundamental regular em 9 anos\", \"2ª a 5ª séries do ensino fundamental regular em 9 anos \",\n",
    "                              \"6ª a 9ª séries do ensino fundamental regular em 9 anos \",\n",
    "                              \"Educação de jovens e adultos não seriado do ensino fundamental\",\n",
    "                              \"Ensino médio, inclusive pré-vestibular\",\n",
    "                              \"Superior, inclusive mestrado ou doutorado\")\n",
    "\n",
    "cy = pd.crosstab(dados.UF, dados.V4802)\n",
    "cy"
   ]
  },
  {
   "cell_type": "code",
   "execution_count": 54,
   "metadata": {
    "collapsed": false
   },
   "outputs": [
    {
     "name": "stderr",
     "output_type": "stream",
     "text": [
      "C:\\Users\\VictorHugo\\Anaconda3\\lib\\site-packages\\pandas\\core\\internals.py:3253: VisibleDeprecationWarning: converting an array with ndim > 0 to an index will result in an error in the future\n",
      "  block = self.blocks[self._blknos[i]]\n"
     ]
    },
    {
     "data": {
      "text/plain": [
       "<matplotlib.axes._subplots.AxesSubplot at 0x17b2d3e1358>"
      ]
     },
     "execution_count": 54,
     "metadata": {},
     "output_type": "execute_result"
    },
    {
     "data": {
      "image/png": "[encoded data removed]",
      "text/plain": [
       "<matplotlib.figure.Figure at 0x17b29712cc0>"
      ]
     },
     "metadata": {},
     "output_type": "display_data"
    }
   ],
   "source": [
    "x = pd.crosstab (dados.UF, dados.V4802)\n",
    "x.plot(kind='bar', legend = False, title = 'Nivel de ensino', figsize = (12,8))"
   ]
  },
  {
   "cell_type": "markdown",
   "metadata": {},
   "source": [
    "Legenda do histograma acima:\n",
    "![Legenda_2](Legenda_2.png)"
   ]
  },
  {
   "cell_type": "code",
   "execution_count": 38,
   "metadata": {
    "collapsed": false
   },
   "outputs": [
    {
     "data": {
      "text/html": [
       "<div>\n",
       "<table border=\"1\" class=\"dataframe\">\n",
       "  <thead>\n",
       "    <tr style=\"text-align: right;\">\n",
       "      <th>V6003</th>\n",
       "      <th>Regular do ensino fundamental</th>\n",
       "      <th>Regular do ensino médio</th>\n",
       "      <th>Educação de jovens e adultos ou supletivo EF</th>\n",
       "      <th>Educação de jovens e adultos ou supletivo EM</th>\n",
       "      <th>Superior de graduação</th>\n",
       "      <th>Alfabetização de jovens e adultos</th>\n",
       "      <th>Creche</th>\n",
       "      <th>Classe de alfabetização - CA</th>\n",
       "      <th>Maternal, jardim de infância</th>\n",
       "      <th>Pré-vestibular</th>\n",
       "      <th>Mestrado ou doutorado</th>\n",
       "    </tr>\n",
       "    <tr>\n",
       "      <th>UF</th>\n",
       "      <th></th>\n",
       "      <th></th>\n",
       "      <th></th>\n",
       "      <th></th>\n",
       "      <th></th>\n",
       "      <th></th>\n",
       "      <th></th>\n",
       "      <th></th>\n",
       "      <th></th>\n",
       "      <th></th>\n",
       "      <th></th>\n",
       "    </tr>\n",
       "  </thead>\n",
       "  <tbody>\n",
       "    <tr>\n",
       "      <th>Norte</th>\n",
       "      <td>11482</td>\n",
       "      <td>3055</td>\n",
       "      <td>433</td>\n",
       "      <td>208</td>\n",
       "      <td>2011</td>\n",
       "      <td>49</td>\n",
       "      <td>707</td>\n",
       "      <td>238</td>\n",
       "      <td>1145</td>\n",
       "      <td>53</td>\n",
       "      <td>79</td>\n",
       "    </tr>\n",
       "    <tr>\n",
       "      <th>Nordeste</th>\n",
       "      <td>17615</td>\n",
       "      <td>4742</td>\n",
       "      <td>569</td>\n",
       "      <td>262</td>\n",
       "      <td>3250</td>\n",
       "      <td>227</td>\n",
       "      <td>1889</td>\n",
       "      <td>371</td>\n",
       "      <td>2182</td>\n",
       "      <td>53</td>\n",
       "      <td>188</td>\n",
       "    </tr>\n",
       "    <tr>\n",
       "      <th>Sudeste</th>\n",
       "      <td>14253</td>\n",
       "      <td>4460</td>\n",
       "      <td>223</td>\n",
       "      <td>253</td>\n",
       "      <td>3582</td>\n",
       "      <td>82</td>\n",
       "      <td>2121</td>\n",
       "      <td>282</td>\n",
       "      <td>1656</td>\n",
       "      <td>68</td>\n",
       "      <td>225</td>\n",
       "    </tr>\n",
       "    <tr>\n",
       "      <th>Sul</th>\n",
       "      <td>7427</td>\n",
       "      <td>2240</td>\n",
       "      <td>144</td>\n",
       "      <td>162</td>\n",
       "      <td>2261</td>\n",
       "      <td>51</td>\n",
       "      <td>1217</td>\n",
       "      <td>68</td>\n",
       "      <td>694</td>\n",
       "      <td>30</td>\n",
       "      <td>139</td>\n",
       "    </tr>\n",
       "    <tr>\n",
       "      <th>Centro Oeste</th>\n",
       "      <td>5508</td>\n",
       "      <td>1685</td>\n",
       "      <td>127</td>\n",
       "      <td>112</td>\n",
       "      <td>1832</td>\n",
       "      <td>26</td>\n",
       "      <td>581</td>\n",
       "      <td>114</td>\n",
       "      <td>616</td>\n",
       "      <td>20</td>\n",
       "      <td>77</td>\n",
       "    </tr>\n",
       "  </tbody>\n",
       "</table>\n",
       "</div>"
      ],
      "text/plain": [
       "V6003         Regular do ensino fundamental  Regular do ensino médio  \\\n",
       "UF                                                                     \n",
       "Norte                                 11482                     3055   \n",
       "Nordeste                              17615                     4742   \n",
       "Sudeste                               14253                     4460   \n",
       "Sul                                    7427                     2240   \n",
       "Centro Oeste                           5508                     1685   \n",
       "\n",
       "V6003         Educação de jovens e adultos ou supletivo EF  \\\n",
       "UF                                                           \n",
       "Norte                                                  433   \n",
       "Nordeste                                               569   \n",
       "Sudeste                                                223   \n",
       "Sul                                                    144   \n",
       "Centro Oeste                                           127   \n",
       "\n",
       "V6003         Educação de jovens e adultos ou supletivo EM  \\\n",
       "UF                                                           \n",
       "Norte                                                  208   \n",
       "Nordeste                                               262   \n",
       "Sudeste                                                253   \n",
       "Sul                                                    162   \n",
       "Centro Oeste                                           112   \n",
       "\n",
       "V6003         Superior de graduação  Alfabetização de jovens e adultos  \\\n",
       "UF                                                                       \n",
       "Norte                          2011                                 49   \n",
       "Nordeste                       3250                                227   \n",
       "Sudeste                        3582                                 82   \n",
       "Sul                            2261                                 51   \n",
       "Centro Oeste                   1832                                 26   \n",
       "\n",
       "V6003         Creche  Classe de alfabetização - CA  \\\n",
       "UF                                                   \n",
       "Norte            707                           238   \n",
       "Nordeste        1889                           371   \n",
       "Sudeste         2121                           282   \n",
       "Sul             1217                            68   \n",
       "Centro Oeste     581                           114   \n",
       "\n",
       "V6003         Maternal, jardim de infância  Pré-vestibular  \\\n",
       "UF                                                           \n",
       "Norte                                 1145              53   \n",
       "Nordeste                              2182              53   \n",
       "Sudeste                               1656              68   \n",
       "Sul                                    694              30   \n",
       "Centro Oeste                           616              20   \n",
       "\n",
       "V6003         Mestrado ou doutorado  \n",
       "UF                                   \n",
       "Norte                            79  \n",
       "Nordeste                        188  \n",
       "Sudeste                         225  \n",
       "Sul                             139  \n",
       "Centro Oeste                     77  "
      ]
     },
     "execution_count": 38,
     "metadata": {},
     "output_type": "execute_result"
    }
   ],
   "source": [
    "dados.V6003 = dados.V6003.astype('category')\n",
    "\n",
    "dados.V6003.cat.categories = (['Regular do ensino fundamental', 'Regular do ensino médio', 'Educação de jovens e adultos ou supletivo EF', \n",
    "                 'Educação de jovens e adultos ou supletivo EM', 'Superior de graduação', 'Alfabetização de jovens e adultos',\n",
    "                 'Creche', 'Classe de alfabetização - CA', 'Maternal, jardim de infância', 'Pré-vestibular', 'Mestrado ou doutorado'])\n",
    "\n",
    "cy = pd.crosstab(dados.UF, dados.V6003)\n",
    "cy"
   ]
  },
  {
   "cell_type": "code",
   "execution_count": 52,
   "metadata": {
    "collapsed": false
   },
   "outputs": [
    {
     "name": "stderr",
     "output_type": "stream",
     "text": [
      "C:\\Users\\VictorHugo\\Anaconda3\\lib\\site-packages\\pandas\\core\\internals.py:3253: VisibleDeprecationWarning: converting an array with ndim > 0 to an index will result in an error in the future\n",
      "  block = self.blocks[self._blknos[i]]\n"
     ]
    },
    {
     "data": {
      "text/plain": [
       "<matplotlib.axes._subplots.AxesSubplot at 0x17b2929f2b0>"
      ]
     },
     "execution_count": 52,
     "metadata": {},
     "output_type": "execute_result"
    },
    {
     "data": {
      "image/png": "[encoded data removed]",
      "text/plain": [
       "<matplotlib.figure.Figure at 0x17b30900cc0>"
      ]
     },
     "metadata": {},
     "output_type": "display_data"
    }
   ],
   "source": [
    "dados.V6003 = dados.V6003.astype('category')\n",
    "dados.V6003.cat.categories = ('Regular do ensino fundamental', 'Regular do ensino médio', 'Educação de jovens e adultos ou supletivo EF', \n",
    "                 'Educação de jovens e adultos ou supletivo EM', 'Superior de graduação', 'Alfabetização de jovens e adultos',\n",
    "                 'Creche', 'Classe de alfabetização - CA', 'Maternal, jardim de infância', 'Pré-vestibular', 'Mestrado ou doutorado')\n",
    "\n",
    "#c1 = dados.V6003.value_counts()\n",
    "\n",
    "#c1.plot(kind='bar', color = ('blue', 'green', 'salmon','red', 'yellow'), legend=False, title = 'Nivel de escolaridade')\n",
    "\n",
    "y = pd.crosstab (dados.UF, dados.V6003)\n",
    "\n",
    "y.plot(kind='bar', legend = False, title = 'Nivel de escolaridade', figsize = (12,8))"
   ]
  },
  {
   "cell_type": "markdown",
   "metadata": {},
   "source": [
    "Legenda do histograma acima:\n",
    "![Legenda_1](Legenda_1.png)\n"
   ]
  },
  {
   "cell_type": "markdown",
   "metadata": {},
   "source": [
    "**Conclusão**\n",
    "\n",
    "    Após as análise e os cruzamentos dos dados do PNAD 2013,podemos concluir que as regiões indicadas para o Sr. Gold abrir seu negócio são as regiões Nordeste e Sudeste, uma vez que essas possuem um maior número de indivíduos cursando o ensino médio ou cursinho pré-vestibular e, além disso, ambos possuem os maiores índices de pessoas em rede de ensino privada, oque, dependendo dos custos de cursar a faculdade do Sr. Gold, é uma variável a ser considerada. \n",
    "    "
   ]
  }
 ],
 "metadata": {
  "anaconda-cloud": {},
  "kernelspec": {
   "display_name": "Python [Root]",
   "language": "python",
   "name": "Python [Root]"
  },
  "language_info": {
   "codemirror_mode": {
    "name": "ipython",
    "version": 3
   },
   "file_extension": ".py",
   "mimetype": "text/x-python",
   "name": "python",
   "nbconvert_exporter": "python",
   "pygments_lexer": "ipython3",
   "version": "3.5.2"
  }
 },
 "nbformat": 4,
 "nbformat_minor": 0
}
