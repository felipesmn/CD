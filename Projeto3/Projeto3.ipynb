{
 "cells": [
  {
   "cell_type": "markdown",
   "metadata": {},
   "source": [
    "# Projeto 3\n",
    "## Felipe Scandiuzzi M. Netto e Maria Clara L. Luques\n",
    "## 2C - Ciência dos Dados\n",
    "\n",
    "### Usando a variável 'expectativa de vida' como resposta, decidimos utilizar as variáveis '% de adultos entre 15 e 49 anos com HIV' e 'renda per capita', todas no ano de 2010. Tais variáveis foram escolhidas tendo como base o fato de que os aspectos que mais influenciam na expectatica de vida de um país estão relacionados à saúde e à renda da sua população, sendo esses pontos diretamente ligados à boa ou má qualidade de vida do país analisado. "
   ]
  },
  {
   "cell_type": "markdown",
   "metadata": {},
   "source": [
    "## Expectativa de vida vs. HIV (% da população entre 15 e 49 anos)\n",
    "<img src=\"exhiv.png\"/, width=840, height=720 align='center'>\n",
    "## Expectativa de vida vs. PIB per capita\n",
    "<img src=\"expercapita.png\"/, width=840, height=700 align='center'>"
   ]
  },
  {
   "cell_type": "code",
   "execution_count": 14,
   "metadata": {
    "collapsed": true
   },
   "outputs": [],
   "source": [
    "'''Importando bibliotecas necessárias'''\n",
    "\n",
    "%matplotlib inline\n",
    "import pandas as pd\n",
    "import matplotlib.pyplot as plt\n",
    "import numpy as np\n",
    "import os"
   ]
  },
  {
   "cell_type": "code",
   "execution_count": 15,
   "metadata": {
    "collapsed": false
   },
   "outputs": [
    {
     "name": "stdout",
     "output_type": "stream",
     "text": [
      "Esperamos trabalhar no diretório\n",
      "C:\\Users\\felipe\\Documents\\GitHub\\CD\\Projeto3\n"
     ]
    }
   ],
   "source": [
    "'''Verificando o diretório'''\n",
    "print('Esperamos trabalhar no diretório')\n",
    "print(os.getcwd())"
   ]
  },
  {
   "cell_type": "code",
   "execution_count": 16,
   "metadata": {
    "collapsed": false
   },
   "outputs": [],
   "source": [
    "'''Lendo tabelas do excel'''\n",
    "\n",
    "dados1 = pd.read_excel(\"expectativa.xlsx\",index_col=0)\n",
    "dados2 = pd.read_excel('hiv.xlsx',index_col=0)\n",
    "dados3 = pd.read_excel('per_capita.xlsx',index_col=0)\n",
    "\n",
    "'''Separando apenas o ano de 2010 e transformando em DataFrame'''\n",
    "\n",
    "expec = pd.DataFrame(dados1.ExpecV)\n",
    "hiv = pd.DataFrame(dados2.HIVs)\n",
    "per_capita = pd.DataFrame(dados3.PerCap)"
   ]
  },
  {
   "cell_type": "code",
   "execution_count": 17,
   "metadata": {
    "collapsed": false
   },
   "outputs": [
    {
     "data": {
      "text/plain": [
       "\"Os Países com 'Nan' em alguma das variáveis não foram retirados ainda para não haver conflito entre o numero de paises em \\ncada uma das tabelas, pois nem todos com falta de dados necessariamente tem esse deficit em todas as variáveis.\""
      ]
     },
     "execution_count": 17,
     "metadata": {},
     "output_type": "execute_result"
    }
   ],
   "source": [
    "'''Os Países com 'Nan' em alguma das variáveis não foram retirados ainda para não haver conflito entre o numero de paises em \n",
    "cada uma das tabelas, pois nem todos com falta de dados necessariamente tem esse deficit em todas as variáveis.'''"
   ]
  },
  {
   "cell_type": "code",
   "execution_count": 34,
   "metadata": {
    "collapsed": false
   },
   "outputs": [
    {
     "data": {
      "text/html": [
       "<div>\n",
       "<table border=\"1\" class=\"dataframe\">\n",
       "  <thead>\n",
       "    <tr style=\"text-align: right;\">\n",
       "      <th></th>\n",
       "      <th>ExpecV</th>\n",
       "      <th>HIVs</th>\n",
       "      <th>PerCap</th>\n",
       "    </tr>\n",
       "  </thead>\n",
       "  <tbody>\n",
       "    <tr>\n",
       "      <th>Afghanistan</th>\n",
       "      <td>53.6</td>\n",
       "      <td>0.06</td>\n",
       "      <td>1637.0</td>\n",
       "    </tr>\n",
       "    <tr>\n",
       "      <th>Angola</th>\n",
       "      <td>57.6</td>\n",
       "      <td>2.10</td>\n",
       "      <td>7047.0</td>\n",
       "    </tr>\n",
       "    <tr>\n",
       "      <th>Argentina</th>\n",
       "      <td>75.8</td>\n",
       "      <td>0.40</td>\n",
       "      <td>15765.0</td>\n",
       "    </tr>\n",
       "    <tr>\n",
       "      <th>Armenia</th>\n",
       "      <td>73.0</td>\n",
       "      <td>0.20</td>\n",
       "      <td>6508.0</td>\n",
       "    </tr>\n",
       "    <tr>\n",
       "      <th>Australia</th>\n",
       "      <td>82.0</td>\n",
       "      <td>0.20</td>\n",
       "      <td>41330.0</td>\n",
       "    </tr>\n",
       "    <tr>\n",
       "      <th>Austria</th>\n",
       "      <td>80.5</td>\n",
       "      <td>0.40</td>\n",
       "      <td>42861.0</td>\n",
       "    </tr>\n",
       "    <tr>\n",
       "      <th>Azerbaijan</th>\n",
       "      <td>70.1</td>\n",
       "      <td>0.10</td>\n",
       "      <td>15950.0</td>\n",
       "    </tr>\n",
       "    <tr>\n",
       "      <th>Bahamas</th>\n",
       "      <td>72.7</td>\n",
       "      <td>2.80</td>\n",
       "      <td>22915.0</td>\n",
       "    </tr>\n",
       "    <tr>\n",
       "      <th>Bangladesh</th>\n",
       "      <td>68.8</td>\n",
       "      <td>0.06</td>\n",
       "      <td>2459.0</td>\n",
       "    </tr>\n",
       "    <tr>\n",
       "      <th>Barbados</th>\n",
       "      <td>75.2</td>\n",
       "      <td>0.90</td>\n",
       "      <td>15297.0</td>\n",
       "    </tr>\n",
       "  </tbody>\n",
       "</table>\n",
       "</div>"
      ],
      "text/plain": [
       "             ExpecV  HIVs   PerCap\n",
       "Afghanistan    53.6  0.06   1637.0\n",
       "Angola         57.6  2.10   7047.0\n",
       "Argentina      75.8  0.40  15765.0\n",
       "Armenia        73.0  0.20   6508.0\n",
       "Australia      82.0  0.20  41330.0\n",
       "Austria        80.5  0.40  42861.0\n",
       "Azerbaijan     70.1  0.10  15950.0\n",
       "Bahamas        72.7  2.80  22915.0\n",
       "Bangladesh     68.8  0.06   2459.0\n",
       "Barbados       75.2  0.90  15297.0"
      ]
     },
     "execution_count": 34,
     "metadata": {},
     "output_type": "execute_result"
    }
   ],
   "source": [
    "dados = expec.join(hiv, how='outer')\n",
    "dados = dados.join(per_capita, how='outer')\n",
    "\n",
    "dados=dados[~np.isnan(dados.ExpecV)]\n",
    "dados=dados[~np.isnan(dados.HIVs)]\n",
    "dados=dados[~np.isnan(dados.PerCap)]\n",
    "dados.head(10)"
   ]
  },
  {
   "cell_type": "code",
   "execution_count": 33,
   "metadata": {
    "collapsed": false
   },
   "outputs": [
    {
     "data": {
      "text/plain": [
       "(145, 3)"
      ]
     },
     "execution_count": 33,
     "metadata": {},
     "output_type": "execute_result"
    }
   ],
   "source": [
    "dados.shape"
   ]
  },
  {
   "cell_type": "code",
   "execution_count": 37,
   "metadata": {
    "collapsed": false
   },
   "outputs": [
    {
     "data": {
      "text/html": [
       "<div>\n",
       "<table border=\"1\" class=\"dataframe\">\n",
       "  <thead>\n",
       "    <tr style=\"text-align: right;\">\n",
       "      <th></th>\n",
       "      <th>ExpecV</th>\n",
       "    </tr>\n",
       "  </thead>\n",
       "  <tbody>\n",
       "    <tr>\n",
       "      <th>Abkhazia</th>\n",
       "      <td>NaN</td>\n",
       "    </tr>\n",
       "    <tr>\n",
       "      <th>Afghanistan</th>\n",
       "      <td>53.6</td>\n",
       "    </tr>\n",
       "  </tbody>\n",
       "</table>\n",
       "</div>"
      ],
      "text/plain": [
       "             ExpecV\n",
       "Abkhazia        NaN\n",
       "Afghanistan    53.6"
      ]
     },
     "execution_count": 37,
     "metadata": {},
     "output_type": "execute_result"
    }
   ],
   "source": [
    "'''10 primeiras linhas de expectativa de vida como exemplo'''\n",
    "\n",
    "expec.head(2)"
   ]
  },
  {
   "cell_type": "code",
   "execution_count": 38,
   "metadata": {
    "collapsed": false
   },
   "outputs": [
    {
     "data": {
      "text/html": [
       "<div>\n",
       "<table border=\"1\" class=\"dataframe\">\n",
       "  <thead>\n",
       "    <tr style=\"text-align: right;\">\n",
       "      <th></th>\n",
       "      <th>HIVs</th>\n",
       "    </tr>\n",
       "  </thead>\n",
       "  <tbody>\n",
       "    <tr>\n",
       "      <th>Abkhazia</th>\n",
       "      <td>NaN</td>\n",
       "    </tr>\n",
       "    <tr>\n",
       "      <th>Afghanistan</th>\n",
       "      <td>0.06</td>\n",
       "    </tr>\n",
       "  </tbody>\n",
       "</table>\n",
       "</div>"
      ],
      "text/plain": [
       "             HIVs\n",
       "Abkhazia      NaN\n",
       "Afghanistan  0.06"
      ]
     },
     "execution_count": 38,
     "metadata": {},
     "output_type": "execute_result"
    }
   ],
   "source": [
    "'''10 primeiras linhas do indice de HIV em adultos (15-49) como exemplo'''\n",
    "\n",
    "hiv.head(2)"
   ]
  },
  {
   "cell_type": "code",
   "execution_count": 39,
   "metadata": {
    "collapsed": false
   },
   "outputs": [
    {
     "data": {
      "text/html": [
       "<div>\n",
       "<table border=\"1\" class=\"dataframe\">\n",
       "  <thead>\n",
       "    <tr style=\"text-align: right;\">\n",
       "      <th></th>\n",
       "      <th>PerCap</th>\n",
       "    </tr>\n",
       "  </thead>\n",
       "  <tbody>\n",
       "    <tr>\n",
       "      <th>Abkhazia</th>\n",
       "      <td>NaN</td>\n",
       "    </tr>\n",
       "    <tr>\n",
       "      <th>Afghanistan</th>\n",
       "      <td>1637.0</td>\n",
       "    </tr>\n",
       "  </tbody>\n",
       "</table>\n",
       "</div>"
      ],
      "text/plain": [
       "             PerCap\n",
       "Abkhazia        NaN\n",
       "Afghanistan  1637.0"
      ]
     },
     "execution_count": 39,
     "metadata": {},
     "output_type": "execute_result"
    }
   ],
   "source": [
    "'''10 primeiras linhas da renda per capita como exemplo'''\n",
    "\n",
    "per_capita.head(2)"
   ]
  },
  {
   "cell_type": "code",
   "execution_count": null,
   "metadata": {
    "collapsed": true
   },
   "outputs": [],
   "source": []
  }
 ],
 "metadata": {
  "anaconda-cloud": {},
  "kernelspec": {
   "display_name": "Python [Root]",
   "language": "python",
   "name": "Python [Root]"
  },
  "language_info": {
   "codemirror_mode": {
    "name": "ipython",
    "version": 3
   },
   "file_extension": ".py",
   "mimetype": "text/x-python",
   "name": "python",
   "nbconvert_exporter": "python",
   "pygments_lexer": "ipython3",
   "version": "3.5.2"
  }
 },
 "nbformat": 4,
 "nbformat_minor": 0
}
