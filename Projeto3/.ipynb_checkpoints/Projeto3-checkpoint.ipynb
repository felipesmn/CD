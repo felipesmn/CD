{
 "cells": [
  {
   "cell_type": "markdown",
   "metadata": {},
   "source": [
    "# Projeto 3\n",
    "## Felipe Scandiuzzi M. Netto e Maria Clara L. Luques\n",
    "## 2C - Ciência dos Dados\n",
    "\n",
    "### Usando a variável 'expectativa de vida' como resposta, decidimos utilizar as variáveis '% de adultos entre 15 e 49 anos com HIV' e 'renda per capita', todas no ano de 2010. Tais variáveis foram escolhidas tendo como base o fato de que os aspectos que mais influenciam na expectatica de vida de um país estão relacionados à saúde e à renda da sua população, sendo esses pontos diretamente ligados à boa ou má qualidade de vida do país analisado. "
   ]
  },
  {
   "cell_type": "markdown",
   "metadata": {},
   "source": [
    "## Expectativa de vida vs. HIV (% da população entre 15 e 49 anos)\n",
    "<img src=\"exhiv.png\"/, width=840, height=720 align='center'>\n",
    "## Expectativa de vida vs. PIB per capita\n",
    "<img src=\"expercapita.png\"/, width=840, height=700 align='center'>"
   ]
  },
  {
   "cell_type": "code",
   "execution_count": 1,
   "metadata": {
    "collapsed": false
   },
   "outputs": [
    {
     "name": "stdout",
     "output_type": "stream",
     "text": [
      "Esperamos trabalhar no diretório\n",
      "C:\\Users\\felipe\\Documents\\GitHub\\CD\\Projeto3\n"
     ]
    }
   ],
   "source": [
    "'''Importando bibliotecas necessárias'''\n",
    "\n",
    "#%matplotlib inline\n",
    "\n",
    "import os\n",
    "import matplotlib.pyplot as plt\n",
    "from mpl_toolkits.mplot3d import Axes3D\n",
    "from matplotlib import cm\n",
    "import pandas as pd\n",
    "import numpy as np\n",
    "\n",
    "import statsmodels.api as sm1 #Usa OLS com X como matriz de planejamento\n",
    "import statsmodels.formula.api as sm  #Usa OLS como no R\n",
    "\n",
    "print('Esperamos trabalhar no diretório')\n",
    "print(os.getcwd())"
   ]
  },
  {
   "cell_type": "code",
   "execution_count": 2,
   "metadata": {
    "collapsed": false
   },
   "outputs": [
    {
     "name": "stdout",
     "output_type": "stream",
     "text": [
      "Esperamos trabalhar no diretório\n",
      "C:\\Users\\felipe\\Documents\\GitHub\\CD\\Projeto3\n"
     ]
    }
   ],
   "source": [
    "'''Verificando o diretório'''\n",
    "print('Esperamos trabalhar no diretório')\n",
    "print(os.getcwd())"
   ]
  },
  {
   "cell_type": "code",
   "execution_count": 3,
   "metadata": {
    "collapsed": false
   },
   "outputs": [],
   "source": [
    "'''Lendo tabelas do excel'''\n",
    "\n",
    "dados1 = pd.read_excel(\"expectativa.xlsx\",index_col=0)\n",
    "dados2 = pd.read_excel('hiv.xlsx',index_col=0)\n",
    "dados3 = pd.read_excel('per_capita.xlsx',index_col=0)\n",
    "\n",
    "'''Separando apenas o ano de 2010 e transformando em DataFrame'''\n",
    "\n",
    "expec = pd.DataFrame(dados1.ExpecV)\n",
    "hiv = pd.DataFrame(dados2.HIVs)\n",
    "lnhiv = pd.DataFrame(dados2.LNHIVs)\n",
    "per_capita = pd.DataFrame(dados3.PerCap)\n",
    "lnpercap = pd.DataFrame(dados3.LNPerCap)"
   ]
  },
  {
   "cell_type": "code",
   "execution_count": 4,
   "metadata": {
    "collapsed": false
   },
   "outputs": [
    {
     "data": {
      "text/plain": [
       "\"Os Países com 'Nan' em alguma das variáveis não foram retirados ainda para não haver conflito entre o numero de paises em \\ncada uma das tabelas, pois nem todos com falta de dados necessariamente tem esse deficit em todas as variáveis.\""
      ]
     },
     "execution_count": 4,
     "metadata": {},
     "output_type": "execute_result"
    }
   ],
   "source": [
    "'''Os Países com 'Nan' em alguma das variáveis não foram retirados ainda para não haver conflito entre o numero de paises em \n",
    "cada uma das tabelas, pois nem todos com falta de dados necessariamente tem esse deficit em todas as variáveis.'''"
   ]
  },
  {
   "cell_type": "code",
   "execution_count": 5,
   "metadata": {
    "collapsed": false
   },
   "outputs": [
    {
     "data": {
      "text/html": [
       "<div>\n",
       "<table border=\"1\" class=\"dataframe\">\n",
       "  <thead>\n",
       "    <tr style=\"text-align: right;\">\n",
       "      <th></th>\n",
       "      <th>ExpecV</th>\n",
       "      <th>HIVs</th>\n",
       "      <th>PerCap</th>\n",
       "      <th>LNHIVs</th>\n",
       "      <th>LNPerCap</th>\n",
       "    </tr>\n",
       "  </thead>\n",
       "  <tbody>\n",
       "    <tr>\n",
       "      <th>Afghanistan</th>\n",
       "      <td>53.6</td>\n",
       "      <td>0.06</td>\n",
       "      <td>1637.0</td>\n",
       "      <td>-2.813702</td>\n",
       "      <td>7.401388</td>\n",
       "    </tr>\n",
       "    <tr>\n",
       "      <th>Angola</th>\n",
       "      <td>57.6</td>\n",
       "      <td>2.10</td>\n",
       "      <td>7047.0</td>\n",
       "      <td>0.742014</td>\n",
       "      <td>8.861276</td>\n",
       "    </tr>\n",
       "    <tr>\n",
       "      <th>Argentina</th>\n",
       "      <td>75.8</td>\n",
       "      <td>0.40</td>\n",
       "      <td>15765.0</td>\n",
       "      <td>-0.916386</td>\n",
       "      <td>9.666550</td>\n",
       "    </tr>\n",
       "    <tr>\n",
       "      <th>Armenia</th>\n",
       "      <td>73.0</td>\n",
       "      <td>0.20</td>\n",
       "      <td>6508.0</td>\n",
       "      <td>-1.609605</td>\n",
       "      <td>8.781698</td>\n",
       "    </tr>\n",
       "    <tr>\n",
       "      <th>Australia</th>\n",
       "      <td>82.0</td>\n",
       "      <td>0.20</td>\n",
       "      <td>41330.0</td>\n",
       "      <td>-1.609605</td>\n",
       "      <td>10.630446</td>\n",
       "    </tr>\n",
       "    <tr>\n",
       "      <th>Austria</th>\n",
       "      <td>80.5</td>\n",
       "      <td>0.40</td>\n",
       "      <td>42861.0</td>\n",
       "      <td>-0.916386</td>\n",
       "      <td>10.666824</td>\n",
       "    </tr>\n",
       "    <tr>\n",
       "      <th>Azerbaijan</th>\n",
       "      <td>70.1</td>\n",
       "      <td>0.10</td>\n",
       "      <td>15950.0</td>\n",
       "      <td>-2.302824</td>\n",
       "      <td>9.678218</td>\n",
       "    </tr>\n",
       "    <tr>\n",
       "      <th>Bahamas</th>\n",
       "      <td>72.7</td>\n",
       "      <td>2.80</td>\n",
       "      <td>22915.0</td>\n",
       "      <td>1.029726</td>\n",
       "      <td>10.040588</td>\n",
       "    </tr>\n",
       "    <tr>\n",
       "      <th>Bangladesh</th>\n",
       "      <td>68.8</td>\n",
       "      <td>0.06</td>\n",
       "      <td>2459.0</td>\n",
       "      <td>-2.813702</td>\n",
       "      <td>7.808320</td>\n",
       "    </tr>\n",
       "    <tr>\n",
       "      <th>Barbados</th>\n",
       "      <td>75.2</td>\n",
       "      <td>0.90</td>\n",
       "      <td>15297.0</td>\n",
       "      <td>-0.105371</td>\n",
       "      <td>9.636411</td>\n",
       "    </tr>\n",
       "  </tbody>\n",
       "</table>\n",
       "</div>"
      ],
      "text/plain": [
       "             ExpecV  HIVs   PerCap    LNHIVs   LNPerCap\n",
       "Afghanistan    53.6  0.06   1637.0 -2.813702   7.401388\n",
       "Angola         57.6  2.10   7047.0  0.742014   8.861276\n",
       "Argentina      75.8  0.40  15765.0 -0.916386   9.666550\n",
       "Armenia        73.0  0.20   6508.0 -1.609605   8.781698\n",
       "Australia      82.0  0.20  41330.0 -1.609605  10.630446\n",
       "Austria        80.5  0.40  42861.0 -0.916386  10.666824\n",
       "Azerbaijan     70.1  0.10  15950.0 -2.302824   9.678218\n",
       "Bahamas        72.7  2.80  22915.0  1.029726  10.040588\n",
       "Bangladesh     68.8  0.06   2459.0 -2.813702   7.808320\n",
       "Barbados       75.2  0.90  15297.0 -0.105371   9.636411"
      ]
     },
     "execution_count": 5,
     "metadata": {},
     "output_type": "execute_result"
    }
   ],
   "source": [
    "dados = expec.join(hiv, how='outer')\n",
    "dados = dados.join(per_capita, how='outer')\n",
    "dados = dados.join(lnhiv, how='outer')\n",
    "dados = dados.join(lnpercap, how='outer')\n",
    "\n",
    "dados=dados[~np.isnan(dados.ExpecV)]\n",
    "dados=dados[~np.isnan(dados.HIVs)]\n",
    "dados=dados[~np.isnan(dados.PerCap)]\n",
    "dados = dados[~np.isnan(dados.LNHIVs)]\n",
    "dados = dados[~np.isnan(dados.LNPerCap)]\n",
    "dados.head(10)"
   ]
  },
  {
   "cell_type": "code",
   "execution_count": 6,
   "metadata": {
    "collapsed": false
   },
   "outputs": [
    {
     "data": {
      "text/plain": [
       "(144, 5)"
      ]
     },
     "execution_count": 6,
     "metadata": {},
     "output_type": "execute_result"
    }
   ],
   "source": [
    "dados.shape"
   ]
  },
  {
   "cell_type": "markdown",
   "metadata": {},
   "source": [
    "## Análise Descritiva"
   ]
  },
  {
   "cell_type": "code",
   "execution_count": 7,
   "metadata": {
    "collapsed": false
   },
   "outputs": [],
   "source": [
    "fig = plt.figure(figsize=(12, 6))\n",
    "plt.scatter(dados.HIVs/100, dados.ExpecV, alpha=0.7)\n",
    "plt.xlabel(\"Porcentagem de adultos (15-49 anos) com HIV\")\n",
    "plt.ylabel(\"Expectativa de vida (em anos)\")\n",
    "plt.xlim(-0.01,0.5)\n",
    "plt.show()"
   ]
  },
  {
   "cell_type": "code",
   "execution_count": 8,
   "metadata": {
    "collapsed": false
   },
   "outputs": [],
   "source": [
    "f, ax = plt.subplots(1,2,figsize=(12,5))\n",
    "\n",
    "ax[0].scatter(dados.HIVs/100, dados.ExpecV, alpha=0.7)\n",
    "ax[0].set_xlabel(\"Porcentagem de adultos (15-49 anos) com HIV\")\n",
    "ax[0].set_ylabel(\"Expectativa de vida (em anos)\")\n",
    "ax[0].set_xlim(-0.01,0.5)\n",
    "\n",
    "ax[1].scatter(dados.LNHIVs/100, dados.ExpecV, alpha=0.7)\n",
    "ax[1].set_xlabel(\"LN Porcentagem de adultos (15-49 anos) com HIV\")\n",
    "ax[1].set_ylabel(\"Expectativa de vida (em anos)\")\n",
    "\n",
    "plt.show()"
   ]
  },
  {
   "cell_type": "code",
   "execution_count": 9,
   "metadata": {
    "collapsed": false
   },
   "outputs": [],
   "source": [
    "fig = plt.figure(figsize=(12, 6))\n",
    "plt.scatter(dados.PerCap, dados.ExpecV, alpha=0.7) \n",
    "plt.xlabel(\"Renda per capita (US$)\")\n",
    "plt.ylabel(\"Expectativa de vida (em anos)\")\n",
    "plt.xlim(-100,100000)\n",
    "plt.show()"
   ]
  },
  {
   "cell_type": "code",
   "execution_count": 10,
   "metadata": {
    "collapsed": false
   },
   "outputs": [],
   "source": [
    "f, ax = plt.subplots(1,2,figsize=(12,5))\n",
    "\n",
    "ax[0].scatter(dados.PerCap, dados.ExpecV, alpha=0.7)\n",
    "ax[0].set_xlabel(\"Renda per capita (US$)\")\n",
    "ax[0].set_ylabel(\"Expectativa de vida (em anos)\")\n",
    "ax[0].set_xlim(-100,100000)\n",
    "\n",
    "ax[1].scatter(dados.LNPerCap, dados.ExpecV, alpha=0.7)\n",
    "ax[1].set_xlabel(\"LN Renda per capita (US$)\")\n",
    "ax[1].set_ylabel(\"Expectativa de vida (em anos)\")\n",
    "\n",
    "plt.show()"
   ]
  },
  {
   "cell_type": "code",
   "execution_count": 11,
   "metadata": {
    "collapsed": false
   },
   "outputs": [
    {
     "data": {
      "text/html": [
       "<div>\n",
       "<table border=\"1\" class=\"dataframe\">\n",
       "  <thead>\n",
       "    <tr style=\"text-align: right;\">\n",
       "      <th></th>\n",
       "      <th>ExpecV</th>\n",
       "      <th>HIVs</th>\n",
       "      <th>PerCap</th>\n",
       "      <th>LNHIVs</th>\n",
       "      <th>LNPerCap</th>\n",
       "    </tr>\n",
       "  </thead>\n",
       "  <tbody>\n",
       "    <tr>\n",
       "      <th>ExpecV</th>\n",
       "      <td>1.000000</td>\n",
       "      <td>-0.569999</td>\n",
       "      <td>0.666039</td>\n",
       "      <td>-0.667621</td>\n",
       "      <td>0.793654</td>\n",
       "    </tr>\n",
       "    <tr>\n",
       "      <th>HIVs</th>\n",
       "      <td>-0.569999</td>\n",
       "      <td>1.000000</td>\n",
       "      <td>-0.213327</td>\n",
       "      <td>0.739172</td>\n",
       "      <td>-0.231174</td>\n",
       "    </tr>\n",
       "    <tr>\n",
       "      <th>PerCap</th>\n",
       "      <td>0.666039</td>\n",
       "      <td>-0.213327</td>\n",
       "      <td>1.000000</td>\n",
       "      <td>-0.351454</td>\n",
       "      <td>0.855467</td>\n",
       "    </tr>\n",
       "    <tr>\n",
       "      <th>LNHIVs</th>\n",
       "      <td>-0.667621</td>\n",
       "      <td>0.739172</td>\n",
       "      <td>-0.351454</td>\n",
       "      <td>1.000000</td>\n",
       "      <td>-0.442993</td>\n",
       "    </tr>\n",
       "    <tr>\n",
       "      <th>LNPerCap</th>\n",
       "      <td>0.793654</td>\n",
       "      <td>-0.231174</td>\n",
       "      <td>0.855467</td>\n",
       "      <td>-0.442993</td>\n",
       "      <td>1.000000</td>\n",
       "    </tr>\n",
       "  </tbody>\n",
       "</table>\n",
       "</div>"
      ],
      "text/plain": [
       "            ExpecV      HIVs    PerCap    LNHIVs  LNPerCap\n",
       "ExpecV    1.000000 -0.569999  0.666039 -0.667621  0.793654\n",
       "HIVs     -0.569999  1.000000 -0.213327  0.739172 -0.231174\n",
       "PerCap    0.666039 -0.213327  1.000000 -0.351454  0.855467\n",
       "LNHIVs   -0.667621  0.739172 -0.351454  1.000000 -0.442993\n",
       "LNPerCap  0.793654 -0.231174  0.855467 -0.442993  1.000000"
      ]
     },
     "execution_count": 11,
     "metadata": {},
     "output_type": "execute_result"
    }
   ],
   "source": [
    "dados.corr(method='pearson')"
   ]
  },
  {
   "cell_type": "code",
   "execution_count": 12,
   "metadata": {
    "collapsed": false
   },
   "outputs": [
    {
     "name": "stdout",
     "output_type": "stream",
     "text": [
      "                            OLS Regression Results                            \n",
      "==============================================================================\n",
      "Dep. Variable:                 ExpecV   R-squared:                       0.754\n",
      "Model:                            OLS   Adj. R-squared:                  0.751\n",
      "Method:                 Least Squares   F-statistic:                     216.3\n",
      "Date:                Tue, 29 Nov 2016   Prob (F-statistic):           1.10e-43\n",
      "Time:                        19:02:50   Log-Likelihood:                -430.03\n",
      "No. Observations:                 144   AIC:                             866.1\n",
      "Df Residuals:                     141   BIC:                             875.0\n",
      "Df Model:                           2                                         \n",
      "Covariance Type:            nonrobust                                         \n",
      "==============================================================================\n",
      "                 coef    std err          t      P>|t|      [95.0% Conf. Int.]\n",
      "------------------------------------------------------------------------------\n",
      "Intercept     24.7030      3.207      7.703      0.000        18.363    31.043\n",
      "LNHIVs        -2.5040      0.297     -8.442      0.000        -3.090    -1.918\n",
      "LNPerCap       4.8296      0.363     13.300      0.000         4.112     5.547\n",
      "==============================================================================\n",
      "Omnibus:                       62.479   Durbin-Watson:                   1.907\n",
      "Prob(Omnibus):                  0.000   Jarque-Bera (JB):              241.760\n",
      "Skew:                          -1.582   Prob(JB):                     3.18e-53\n",
      "Kurtosis:                       8.503   Cond. No.                         73.2\n",
      "==============================================================================\n",
      "\n",
      "Warnings:\n",
      "[1] Standard Errors assume that the covariance matrix of the errors is correctly specified.\n"
     ]
    }
   ],
   "source": [
    "model = sm.ols(formula='ExpecV ~ LNHIVs + LNPerCap', data = dados)\n",
    "fit = model.fit()\n",
    "print(fit.summary())"
   ]
  },
  {
   "cell_type": "code",
   "execution_count": 13,
   "metadata": {
    "collapsed": false
   },
   "outputs": [],
   "source": [
    "fig = plt.figure(figsize=(12,8))\n",
    "ax = fig.add_subplot(111, projection='3d')\n",
    "\n",
    "x_surf = np.arange(-5, 10, 2)                # generate a mesh\n",
    "y_surf = np.arange(0, 10, 0.5)\n",
    "x_surf, y_surf = np.meshgrid(x_surf, y_surf)\n",
    "\n",
    "exog = pd.core.frame.DataFrame({'LNHIVs': x_surf.ravel(), 'LNPerCap': y_surf.ravel()})\n",
    "out = fit.predict(exog = exog)\n",
    "\n",
    "ax.plot_surface(x_surf, y_surf,\n",
    "                out.reshape(x_surf.shape),\n",
    "                rstride=1,\n",
    "                cstride=1,\n",
    "                color='None',\n",
    "                alpha = 0.1)\n",
    "\n",
    "ax.scatter(dados['LNHIVs'], dados['LNPerCap'], dados['ExpecV'],\n",
    "           c='blue',\n",
    "           marker='o',\n",
    "           alpha=0.7)\n",
    "\n",
    "\n",
    "plt.show()"
   ]
  },
  {
   "cell_type": "code",
   "execution_count": 14,
   "metadata": {
    "collapsed": false
   },
   "outputs": [],
   "source": [
    "import mpl_toolkits.mplot3d.axes3d as p3\n",
    "\n",
    "\n",
    "fig = plt.figure(figsize=(16,8))\n",
    "ax = fig.gca(projection='3d')\n",
    "\n",
    "ax.plot_trisurf(dados.ExpecV, dados.LNHIVs, dados.LNPerCap)\n",
    "plt.show()"
   ]
  },
  {
   "cell_type": "code",
   "execution_count": 15,
   "metadata": {
    "collapsed": false
   },
   "outputs": [],
   "source": [
    "fig = plt.figure(figsize=(16,8))\n",
    "ax = Axes3D(fig)\n",
    "X = dados.ExpecV\n",
    "Y = dados.LNHIVs\n",
    "X, Y = np.meshgrid(X, Y)\n",
    "Z = dados.LNPerCap\n",
    "ax.plot_surface(X, Y, Z, rstride=1, cstride=1, cmap='hot')\n",
    "ax.set_xlabel('X')\n",
    "ax.set_ylabel('Y')\n",
    "ax.set_zlabel('Z')\n",
    "plt.show()"
   ]
  },
  {
   "cell_type": "code",
   "execution_count": 16,
   "metadata": {
    "collapsed": false
   },
   "outputs": [],
   "source": [
    "from statsmodels.formula.api import ols\n",
    "# Analysis of Variance (ANOVA) on linear models\n",
    "from statsmodels.stats.anova import anova_lm\n",
    "\n",
    "##############################################################################\n",
    "# Generate and show the data\n",
    "x = dados.ExpecV\n",
    "y = dados.LNHIVs\n",
    "\n",
    "X, Y = np.meshgrid(x, y)\n",
    "\n",
    "# To get reproducable values, provide a seed value\n",
    "np.random.seed(1)\n",
    "\n",
    "# Z is the elevation of this 2D grid\n",
    "Z = dados.LNPerCap\n",
    "\n",
    "# Plot the data\n",
    "fig = plt.figure(figsize=(16,8))\n",
    "ax = fig.gca(projection='3d')\n",
    "surf = ax.plot_surface(X, Y, Z, cmap=plt.cm.coolwarm,\n",
    "                       rstride=1, cstride=1)\n",
    "ax.view_init(20, -120)\n",
    "ax.set_xlabel('X')\n",
    "ax.set_ylabel('Y')\n",
    "ax.set_zlabel('Z')\n",
    "\n",
    "\n",
    "\n",
    "plt.show()"
   ]
  },
  {
   "cell_type": "code",
   "execution_count": 17,
   "metadata": {
    "collapsed": false
   },
   "outputs": [
    {
     "name": "stdout",
     "output_type": "stream",
     "text": [
      "                            OLS Regression Results                            \n",
      "==============================================================================\n",
      "Dep. Variable:                 ExpecV   R-squared:                       1.000\n",
      "Model:                            OLS   Adj. R-squared:                  1.000\n",
      "Method:                 Least Squares   F-statistic:                 4.919e+26\n",
      "Date:                Tue, 29 Nov 2016   Prob (F-statistic):               0.00\n",
      "Time:                        19:05:28   Log-Likelihood:                 3655.2\n",
      "No. Observations:                 144   AIC:                            -7298.\n",
      "Df Residuals:                     138   BIC:                            -7281.\n",
      "Df Model:                           5                                         \n",
      "Covariance Type:            nonrobust                                         \n",
      "==============================================================================\n",
      "                 coef    std err          t      P>|t|      [95.0% Conf. Int.]\n",
      "------------------------------------------------------------------------------\n",
      "const      -1.089e-11   2.73e-12     -3.981      0.000     -1.63e-11 -5.48e-12\n",
      "ExpecV         1.0000   4.47e-14   2.24e+13      0.000         1.000     1.000\n",
      "HIVs        2.273e-13   7.49e-14      3.033      0.003      7.91e-14  3.75e-13\n",
      "PerCap     -1.633e-16   2.38e-17     -6.861      0.000      -2.1e-16 -1.16e-16\n",
      "LNHIVs     -2.442e-15   2.15e-13     -0.011      0.991     -4.28e-13  4.23e-13\n",
      "LNPerCap   -3.331e-15   4.05e-13     -0.008      0.993     -8.04e-13  7.98e-13\n",
      "==============================================================================\n",
      "Omnibus:                       80.997   Durbin-Watson:                   1.301\n",
      "Prob(Omnibus):                  0.000   Jarque-Bera (JB):              373.118\n",
      "Skew:                           2.078   Prob(JB):                     9.52e-82\n",
      "Kurtosis:                       9.702   Cond. No.                     3.09e+05\n",
      "==============================================================================\n",
      "\n",
      "Warnings:\n",
      "[1] Standard Errors assume that the covariance matrix of the errors is correctly specified.\n",
      "[2] The condition number is large, 3.09e+05. This might indicate that there are\n",
      "strong multicollinearity or other numerical problems.\n"
     ]
    }
   ],
   "source": [
    "y=dados.ExpecV\n",
    "X=dados.iloc[:,]\n",
    "X=sm1.add_constant(X)  # Adds a constant term to the predictor\n",
    "X.head()\n",
    "\n",
    "model=sm1.OLS(y, X)\n",
    "fit=model.fit()\n",
    "print(fit.summary())"
   ]
  },
  {
   "cell_type": "code",
   "execution_count": 18,
   "metadata": {
    "collapsed": false
   },
   "outputs": [
    {
     "data": {
      "text/plain": [
       "(140.06382402444581,\n",
       " 4.9221625992336224e-20,\n",
       " 218.83994087156108,\n",
       " 3.9255640124396064e-86)"
      ]
     },
     "execution_count": 18,
     "metadata": {},
     "output_type": "execute_result"
    }
   ],
   "source": [
    "#Teste de White\n",
    "#ver link https://pt.wikipedia.org/wiki/Teste_de_White\n",
    "#y estimados\n",
    "y_hat = fit.predict(X)\n",
    "\n",
    "#Resíduos quadráticos\n",
    "res2=(y-y_hat)**2\n",
    "\n",
    "sm1.stats.diagnostic.het_white(res2,X)"
   ]
  },
  {
   "cell_type": "code",
   "execution_count": null,
   "metadata": {
    "collapsed": true
   },
   "outputs": [],
   "source": []
  }
 ],
 "metadata": {
  "anaconda-cloud": {},
  "kernelspec": {
   "display_name": "Python [Root]",
   "language": "python",
   "name": "Python [Root]"
  },
  "language_info": {
   "codemirror_mode": {
    "name": "ipython",
    "version": 3
   },
   "file_extension": ".py",
   "mimetype": "text/x-python",
   "name": "python",
   "nbconvert_exporter": "python",
   "pygments_lexer": "ipython3",
   "version": "3.5.2"
  }
 },
 "nbformat": 4,
 "nbformat_minor": 0
}
